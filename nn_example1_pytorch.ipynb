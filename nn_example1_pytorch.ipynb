{
 "cells": [
  {
   "cell_type": "code",
   "execution_count": 1,
   "id": "0384f864",
   "metadata": {},
   "outputs": [
    {
     "data": {
      "text/plain": [
       "device(type='cuda', index=0)"
      ]
     },
     "execution_count": 1,
     "metadata": {},
     "output_type": "execute_result"
    }
   ],
   "source": [
    "import torch\n",
    "import torch.nn as nn\n",
    "import matplotlib.pyplot as plt \n",
    "import numpy as np\n",
    "\n",
    "device = torch.device(\"cuda:0\" if torch.cuda.is_available() else \"cpu\")\n",
    "device"
   ]
  },
  {
   "cell_type": "code",
   "execution_count": 2,
   "id": "65761448",
   "metadata": {},
   "outputs": [],
   "source": [
    "N = nn.Sequential(nn.Linear(1,10), nn.Sigmoid(), nn.Linear(10,1, bias=False))\n",
    "A = 1\n",
    "Psi_t = lambda x: A + x * N(x)\n",
    "f = lambda x, Psi: x**3 + 2*x + ((1+3*x**2)/(1+x+x**3))*x**2 - (x+(1+3*x**2)/(1+x+x**3))*Psi"
   ]
  },
  {
   "cell_type": "code",
   "execution_count": 3,
   "id": "3f4ea364",
   "metadata": {},
   "outputs": [],
   "source": [
    "def loss(x):\n",
    "    x.requires_grad = True\n",
    "    outputs = Psi_t(x)\n",
    "    Psi_t_x = torch.autograd.grad(outputs, x, grad_outputs=torch.ones_like(outputs), create_graph=True)[0]\n",
    "    return torch.mean((Psi_t_x - f(x, outputs))**2)"
   ]
  },
  {
   "cell_type": "code",
   "execution_count": 4,
   "id": "f3842551",
   "metadata": {},
   "outputs": [
    {
     "data": {
      "text/plain": [
       "tensor([[0.0000],\n",
       "        [0.1111],\n",
       "        [0.2222],\n",
       "        [0.3333],\n",
       "        [0.4444],\n",
       "        [0.5556],\n",
       "        [0.6667],\n",
       "        [0.7778],\n",
       "        [0.8889],\n",
       "        [1.0000]])"
      ]
     },
     "execution_count": 4,
     "metadata": {},
     "output_type": "execute_result"
    }
   ],
   "source": [
    "optimizer = torch.optim.LBFGS(N.parameters())\n",
    "x = torch.Tensor(np.linspace(0,1,10)[:,None])\n",
    "x"
   ]
  },
  {
   "cell_type": "code",
   "execution_count": 5,
   "id": "066037f2",
   "metadata": {},
   "outputs": [],
   "source": [
    "def closure():\n",
    "    optimizer.zero_grad()\n",
    "    l = loss(x)\n",
    "    l.backward()\n",
    "    return l"
   ]
  },
  {
   "cell_type": "code",
   "execution_count": 6,
   "id": "57d311b4",
   "metadata": {},
   "outputs": [],
   "source": [
    "for i in range(10):\n",
    "    optimizer.step(closure)"
   ]
  },
  {
   "cell_type": "code",
   "execution_count": 7,
   "id": "dfbf4c57",
   "metadata": {},
   "outputs": [
    {
     "data": {
      "text/plain": [
       "<matplotlib.legend.Legend at 0x7f8560e85d00>"
      ]
     },
     "execution_count": 7,
     "metadata": {},
     "output_type": "execute_result"
    },
    {
     "data": {
      "image/png": "[encoded data removed]",
      "text/plain": [
       "<Figure size 600x400 with 1 Axes>"
      ]
     },
     "metadata": {
      "needs_background": "light"
     },
     "output_type": "display_data"
    }
   ],
   "source": [
    "xx = np.linspace(0, 1, 10)[:,None]\n",
    "\n",
    "with torch.no_grad():\n",
    "    yy = Psi_t(torch.Tensor(xx)).numpy()\n",
    "yt = xx**2 + np.exp(-xx**2 / 2)/(1+xx+xx**3)\n",
    "\n",
    "fig, axs = plt.subplots(dpi=100)\n",
    "axs.plot(xx, yt, label=\"True\")\n",
    "axs.plot(xx, yy, \".\", label=\"Neural Network Approximation\")\n",
    "axs.set_xlabel(\"$x$\")\n",
    "axs.set_ylabel(\"$Psi(x)$\")\n",
    "plt.legend(loc=\"best\")"
   ]
  },
  {
   "cell_type": "code",
   "execution_count": 8,
   "id": "a27de0c3",
   "metadata": {},
   "outputs": [
    {
     "data": {
      "text/plain": [
       "0.9999217509874553"
      ]
     },
     "execution_count": 8,
     "metadata": {},
     "output_type": "execute_result"
    }
   ],
   "source": [
    "from sklearn.metrics import r2_score\n",
    "\n",
    "score = r2_score(yt, yy)\n",
    "score"
   ]
  },
  {
   "cell_type": "code",
   "execution_count": 9,
   "id": "271285d3",
   "metadata": {},
   "outputs": [
    {
     "data": {
      "text/plain": [
       "array([[0.00000000e+00],\n",
       "       [4.18607043e-04],\n",
       "       [1.90367637e-03],\n",
       "       [2.31529444e-03],\n",
       "       [1.65024400e-03],\n",
       "       [7.13180789e-04],\n",
       "       [1.59611670e-04],\n",
       "       [4.70303632e-05],\n",
       "       [2.04316630e-05],\n",
       "       [1.28326539e-05]])"
      ]
     },
     "execution_count": 9,
     "metadata": {},
     "output_type": "execute_result"
    }
   ],
   "source": [
    "error = yt - yy\n",
    "error"
   ]
  },
  {
   "cell_type": "code",
   "execution_count": 10,
   "id": "f10892d0",
   "metadata": {},
   "outputs": [
    {
     "data": {
      "text/plain": [
       "<matplotlib.legend.Legend at 0x7f85461d7460>"
      ]
     },
     "execution_count": 10,
     "metadata": {},
     "output_type": "execute_result"
    },
    {
     "data": {
      "image/png": "[encoded data removed]",
      "text/plain": [
       "<Figure size 600x400 with 1 Axes>"
      ]
     },
     "metadata": {
      "needs_background": "light"
     },
     "output_type": "display_data"
    }
   ],
   "source": [
    "xxx = np.linspace(0,3,28)[:,None]\n",
    "with torch.no_grad():\n",
    "    yyy = Psi_t(torch.Tensor(xxx)).numpy()\n",
    "yyt = xxx**2 + np.exp(-xxx**2 / 2)/(1+xxx+xxx**3)\n",
    "\n",
    "fig, axs = plt.subplots(dpi=100)\n",
    "axs.plot(xxx, yyt, label=\"True\")\n",
    "axs.plot(xxx, yyy, \".\", label=\"Neural Network Approximation\")\n",
    "axs.set_xlabel(\"$x$\")\n",
    "axs.set_ylabel(\"$\\psi(x)$\")\n",
    "plt.grid()\n",
    "plt.legend(loc=\"best\")"
   ]
  },
  {
   "cell_type": "code",
   "execution_count": 11,
   "id": "e5d3508e",
   "metadata": {},
   "outputs": [
    {
     "data": {
      "text/plain": [
       "array([[0.00000000e+00],\n",
       "       [4.18607043e-04],\n",
       "       [1.90367637e-03],\n",
       "       [2.31529444e-03],\n",
       "       [1.65024400e-03],\n",
       "       [7.13180789e-04],\n",
       "       [1.59611670e-04],\n",
       "       [4.70303632e-05],\n",
       "       [2.04316630e-05],\n",
       "       [1.29518632e-05],\n",
       "       [1.12322763e-03],\n",
       "       [6.25939707e-03],\n",
       "       [2.02714851e-02],\n",
       "       [4.95138645e-02],\n",
       "       [1.01010522e-01],\n",
       "       [1.81501751e-01],\n",
       "       [2.96656624e-01],\n",
       "       [4.50601258e-01],\n",
       "       [6.45791863e-01],\n",
       "       [8.83161244e-01],\n",
       "       [1.16241666e+00],\n",
       "       [1.48239867e+00],\n",
       "       [1.84140998e+00],\n",
       "       [2.23750203e+00],\n",
       "       [2.66866404e+00],\n",
       "       [3.13297480e+00],\n",
       "       [3.62867382e+00],\n",
       "       [4.15420891e+00]])"
      ]
     },
     "execution_count": 11,
     "metadata": {},
     "output_type": "execute_result"
    }
   ],
   "source": [
    "error = yyt - yyy\n",
    "error"
   ]
  },
  {
   "cell_type": "code",
   "execution_count": 12,
   "id": "e4891914",
   "metadata": {},
   "outputs": [
    {
     "data": {
      "text/plain": [
       "0.67395481685126"
      ]
     },
     "execution_count": 12,
     "metadata": {},
     "output_type": "execute_result"
    }
   ],
   "source": [
    "score = r2_score(yyt, yyy)\n",
    "score"
   ]
  },
  {
   "cell_type": "code",
   "execution_count": null,
   "id": "bdfaf3e4",
   "metadata": {},
   "outputs": [],
   "source": []
  }
 ],
 "metadata": {
  "kernelspec": {
   "display_name": "Python 3 (ipykernel)",
   "language": "python",
   "name": "python3"
  },
  "language_info": {
   "codemirror_mode": {
    "name": "ipython",
    "version": 3
   },
   "file_extension": ".py",
   "mimetype": "text/x-python",
   "name": "python",
   "nbconvert_exporter": "python",
   "pygments_lexer": "ipython3",
   "version": "3.9.7"
  }
 },
 "nbformat": 4,
 "nbformat_minor": 5
}
