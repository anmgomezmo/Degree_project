{
 "cells": [
  {
   "cell_type": "code",
   "execution_count": 1,
   "id": "c58219f6",
   "metadata": {},
   "outputs": [
    {
     "data": {
      "text/plain": [
       "device(type='cuda', index=0)"
      ]
     },
     "execution_count": 1,
     "metadata": {},
     "output_type": "execute_result"
    }
   ],
   "source": [
    "import torch\n",
    "from torch import nn\n",
    "import matplotlib.pyplot as plt\n",
    "import numpy as np\n",
    "from sklearn.metrics import r2_score\n",
    "\n",
    "device = torch.device(\"cuda:0\" if torch.cuda.is_available() else \"cpu\")\n",
    "#device = torch.device(\"cpu\")\n",
    "device"
   ]
  },
  {
   "cell_type": "markdown",
   "id": "f2b167a8",
   "metadata": {},
   "source": [
    "## Neural Network Model"
   ]
  },
  {
   "cell_type": "code",
   "execution_count": 2,
   "id": "ad8a06c1",
   "metadata": {},
   "outputs": [],
   "source": [
    "class NeuralNetwork(nn.Module):\n",
    "    def __init__(self):\n",
    "        super(NeuralNetwork, self).__init__()\n",
    "        self.linear_sigmoid_stack = nn.Sequential(\n",
    "        nn.Linear(1,10),\n",
    "        nn.Sigmoid(),\n",
    "        nn.Linear(10,10),\n",
    "        nn.Sigmoid(),\n",
    "        nn.Linear(10,1, bias=False)\n",
    "        )\n",
    "        \n",
    "    def forward_propagation(self, x):\n",
    "        N = self.linear_sigmoid_stack(x)\n",
    "        return N"
   ]
  },
  {
   "cell_type": "code",
   "execution_count": 3,
   "id": "9004fa74",
   "metadata": {},
   "outputs": [],
   "source": [
    "def training(x, loss_fn, optimizer):\n",
    "    x = x.to(device)\n",
    "    def closure():\n",
    "        loss = loss_fn(x)\n",
    "        optimizer.zero_grad()\n",
    "        loss.backward()\n",
    "        return loss\n",
    "    optimizer.step(closure)"
   ]
  },
  {
   "cell_type": "markdown",
   "id": "5747a1a4",
   "metadata": {},
   "source": [
    "## Differential equation\n",
    "$$\\frac{d^2\\phi(r)}{dx^2} + \\frac{2m}{\\hbar^2} \\left(E_n - \\frac{l(l+1)}{2mr^2}\\hbar^2 + V(r) \\right)\\phi(r) = 0$$ \n",
    "Dataset are vectors of domain of differential equation, like the vectors are one-dimentional, the shape of dataset is one by m samples. Trial solution $\\phi_t(r) = e^{-\\beta r^2}N(x,\\vec{p})$, with $\\phi(r=0) = 0$ and $\\phi(r\\rightarrow\\infty) = 0$ initial conditions.  "
   ]
  },
  {
   "cell_type": "code",
   "execution_count": 4,
   "id": "17d61278",
   "metadata": {},
   "outputs": [
    {
     "data": {
      "text/plain": [
       "NeuralNetwork(\n",
       "  (linear_sigmoid_stack): Sequential(\n",
       "    (0): Linear(in_features=1, out_features=10, bias=True)\n",
       "    (1): Sigmoid()\n",
       "    (2): Linear(in_features=10, out_features=10, bias=True)\n",
       "    (3): Sigmoid()\n",
       "    (4): Linear(in_features=10, out_features=1, bias=False)\n",
       "  )\n",
       ")"
      ]
     },
     "execution_count": 4,
     "metadata": {},
     "output_type": "execute_result"
    }
   ],
   "source": [
    "model = NeuralNetwork().to(device)\n",
    "model"
   ]
  },
  {
   "cell_type": "code",
   "execution_count": 5,
   "id": "dc98eadb",
   "metadata": {},
   "outputs": [],
   "source": [
    "optimizer = torch.optim.LBFGS(model.parameters(), lr=0.01)\n",
    "global beta \n",
    "beta = 1.0\n",
    "global n \n",
    "n = 3.0\n",
    "global l\n",
    "l = 0.0\n",
    "E_n = lambda n: -(1/2)*(1/n)**2\n",
    "V = lambda r: -1/r\n",
    "Phi_t = lambda r: torch.exp(-beta*r**2) * model.forward_propagation(r)\n",
    "f = lambda r, Phi: -2*(E_n(n) - l*(l+1)/(2*r**2) + V(r))*Phi"
   ]
  },
  {
   "cell_type": "code",
   "execution_count": 6,
   "id": "b6fbe1af",
   "metadata": {},
   "outputs": [],
   "source": [
    "def loss_fn(r):\n",
    "    r.requires_grad = True\n",
    "    outputs = Phi_t(r)\n",
    "    Phi_t_r = torch.autograd.grad(outputs, r, grad_outputs=torch.ones_like(outputs), create_graph=True)[0]\n",
    "    Phi_t_r_r = torch.autograd.grad(Phi_t_r, r, grad_outputs=torch.ones_like(Phi_t_r), create_graph=True)[0]\n",
    "    return torch.mean((Phi_t_r_r - f(r, outputs))**2)"
   ]
  },
  {
   "cell_type": "code",
   "execution_count": 7,
   "id": "c1a9d46d",
   "metadata": {
    "scrolled": true
   },
   "outputs": [
    {
     "name": "stdout",
     "output_type": "stream",
     "text": [
      "Epoch 1\n",
      " ---------------------- loss: 1601.7567138671875\n",
      "Epoch 2\n",
      " ---------------------- loss: 1006.8944702148438\n",
      "Epoch 3\n",
      " ---------------------- loss: 558.1441040039062\n",
      "Epoch 4\n",
      " ---------------------- loss: 315.05621337890625\n",
      "Epoch 5\n",
      " ---------------------- loss: 185.66429138183594\n",
      "Epoch 6\n",
      " ---------------------- loss: 112.83679962158203\n",
      "Epoch 7\n",
      " ---------------------- loss: 69.95654296875\n",
      "Epoch 8\n",
      " ---------------------- loss: 43.750858306884766\n",
      "Epoch 9\n",
      " ---------------------- loss: 27.385461807250977\n",
      "Epoch 10\n",
      " ---------------------- loss: 17.133058547973633\n",
      "Epoch 11\n",
      " ---------------------- loss: 10.726119995117188\n",
      "Epoch 12\n",
      " ---------------------- loss: 6.726688861846924\n",
      "Epoch 13\n",
      " ---------------------- loss: 4.226364612579346\n",
      "Epoch 14\n",
      " ---------------------- loss: 2.657860517501831\n",
      "Epoch 15\n",
      " ---------------------- loss: 1.6709280014038086\n",
      "Epoch 16\n",
      " ---------------------- loss: 1.0488251447677612\n",
      "Epoch 17\n",
      " ---------------------- loss: 0.6565285325050354\n",
      "Epoch 18\n",
      " ---------------------- loss: 0.40938031673431396\n",
      "Epoch 19\n",
      " ---------------------- loss: 0.2540593147277832\n",
      "Epoch 20\n",
      " ---------------------- loss: 0.1568361520767212\n",
      "Epoch 21\n",
      " ---------------------- loss: 0.09630642086267471\n",
      "Epoch 22\n",
      " ---------------------- loss: 0.058842722326517105\n",
      "Epoch 23\n",
      " ---------------------- loss: 0.035791803151369095\n",
      "Epoch 24\n",
      " ---------------------- loss: 0.021698933094739914\n",
      "Epoch 25\n",
      " ---------------------- loss: 0.013144709169864655\n",
      "Epoch 26\n",
      " ---------------------- loss: 0.007995527237653732\n",
      "Epoch 27\n",
      " ---------------------- loss: 0.004928074311465025\n",
      "Epoch 28\n",
      " ---------------------- loss: 0.0031149480491876602\n",
      "Epoch 29\n",
      " ---------------------- loss: 0.002050793496891856\n",
      "Epoch 30\n",
      " ---------------------- loss: 0.0014282644260674715\n",
      "Done!\n"
     ]
    }
   ],
   "source": [
    "upper_r = 10\n",
    "steps = 1000\n",
    "R_train = torch.Tensor(np.linspace(0.001,upper_r,steps)[:,None])\n",
    "epochs = 30\n",
    "for t in range(epochs):\n",
    "    print(f\"Epoch {t+1}\\n ---------------------- loss: {loss_fn(R_train.to(device))}\")\n",
    "    training(R_train, loss_fn, optimizer)\n",
    "print(\"Done!\")"
   ]
  },
  {
   "cell_type": "code",
   "execution_count": 8,
   "id": "7df5e470",
   "metadata": {},
   "outputs": [
    {
     "data": {
      "image/png": "[encoded data removed]",
      "text/plain": [
       "<Figure size 600x400 with 1 Axes>"
      ]
     },
     "metadata": {
      "needs_background": "light"
     },
     "output_type": "display_data"
    }
   ],
   "source": [
    "rr = np.linspace(0.001, upper_r, steps)[:,None]\n",
    "\n",
    "with torch.no_grad():\n",
    "    RR = rr*Phi_t(torch.Tensor(rr).to(device)).cpu().numpy()\n",
    "#yt = xx**2 + np.exp(-xx**2 / 2)/(1+xx+xx**3)\n",
    "\n",
    "fig, axs = plt.subplots(dpi=100)\n",
    "#axs.plot(xx, yt, label=\"True\")\n",
    "axs.plot(rr, RR, \"-\", label=\"Neural Network Approximation\")\n",
    "axs.set_xlabel(\"$r$\")\n",
    "axs.set_ylabel(\"$\\phi(r)$\")\n",
    "plt.legend(loc=\"best\")\n",
    "plt.show()"
   ]
  },
  {
   "cell_type": "code",
   "execution_count": null,
   "id": "a22f729f",
   "metadata": {},
   "outputs": [],
   "source": []
  }
 ],
 "metadata": {
  "kernelspec": {
   "display_name": "Python 3 (ipykernel)",
   "language": "python",
   "name": "python3"
  },
  "language_info": {
   "codemirror_mode": {
    "name": "ipython",
    "version": 3
   },
   "file_extension": ".py",
   "mimetype": "text/x-python",
   "name": "python",
   "nbconvert_exporter": "python",
   "pygments_lexer": "ipython3",
   "version": "3.9.7"
  }
 },
 "nbformat": 4,
 "nbformat_minor": 5
}
