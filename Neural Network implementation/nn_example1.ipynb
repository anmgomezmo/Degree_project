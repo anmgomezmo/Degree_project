{
 "cells": [
  {
   "cell_type": "code",
   "execution_count": 1,
   "id": "a857260b",
   "metadata": {},
   "outputs": [
    {
     "name": "stderr",
     "output_type": "stream",
     "text": [
      "2022-03-12 19:10:52.996807: W tensorflow/stream_executor/platform/default/dso_loader.cc:64] Could not load dynamic library 'libcudart.so.11.0'; dlerror: libcudart.so.11.0: cannot open shared object file: No such file or directory\n",
      "2022-03-12 19:10:52.996835: I tensorflow/stream_executor/cuda/cudart_stub.cc:29] Ignore above cudart dlerror if you do not have a GPU set up on your machine.\n"
     ]
    },
    {
     "data": {
      "text/plain": [
       "'2.8.0'"
      ]
     },
     "execution_count": 1,
     "metadata": {},
     "output_type": "execute_result"
    }
   ],
   "source": [
    "import numpy as np\n",
    "from matplotlib import pyplot as plt\n",
    "import tensorflow as tf\n",
    "from tensorflow.keras.activations import sigmoid, linear, relu\n",
    "from tensorflow.math import add, subtract\n",
    "from tensorflow.linalg import matmul\n",
    "\n",
    "tf.__version__"
   ]
  },
  {
   "cell_type": "markdown",
   "id": "0420dac5",
   "metadata": {},
   "source": [
    "## Differential equation\n",
    "$$\\frac{d\\psi}{dx} + \\left(x+\\frac{1+3x^2}{1+x+x^3} \\right)\\psi = x^3+2x+x^2\\left(\\frac{1+3x^2}{1+x+x^3} \\right)$$ \n",
    "Dataset are vectors of domain of differential equation, like the vectors are one-dimentional, the shape of dataset is one by m samples"
   ]
  },
  {
   "cell_type": "code",
   "execution_count": 2,
   "id": "ddff4b27",
   "metadata": {},
   "outputs": [],
   "source": [
    "def analytic_sol(x):\n",
    "    psi = tf.pow(x,2) + tf.exp(-0.5*tf.pow(x,2))/(1+x+tf.pow(x,3))\n",
    "    return psi"
   ]
  },
  {
   "cell_type": "code",
   "execution_count": 3,
   "id": "0370f90c",
   "metadata": {},
   "outputs": [
    {
     "name": "stdout",
     "output_type": "stream",
     "text": [
      "Train data x:\n",
      " tf.Tensor(\n",
      "[[0.         0.11111111 0.22222222 0.33333334 0.44444445 0.5555556\n",
      "  0.6666667  0.7777778  0.8888889  1.        ]], shape=(1, 10), dtype=float32)\n",
      "Train data y:\n",
      " tf.Tensor(\n",
      "[[1.         0.90570426 0.8405067  0.80140585 0.7887944  0.8048698\n",
      "  0.8523673  0.93362933 1.0500929  1.2021769 ]], shape=(1, 10), dtype=float32)\n",
      "<class 'tensorflow.python.framework.ops.EagerTensor'>\n",
      "<class 'tensorflow.python.framework.ops.EagerTensor'>\n"
     ]
    },
    {
     "name": "stderr",
     "output_type": "stream",
     "text": [
      "2022-03-12 19:10:55.201796: W tensorflow/stream_executor/platform/default/dso_loader.cc:64] Could not load dynamic library 'libcuda.so.1'; dlerror: libcuda.so.1: cannot open shared object file: No such file or directory\n",
      "2022-03-12 19:10:55.201826: W tensorflow/stream_executor/cuda/cuda_driver.cc:269] failed call to cuInit: UNKNOWN ERROR (303)\n",
      "2022-03-12 19:10:55.201846: I tensorflow/stream_executor/cuda/cuda_diagnostics.cc:156] kernel driver does not appear to be running on this host (littlerocket): /proc/driver/nvidia/version does not exist\n",
      "2022-03-12 19:10:55.202172: I tensorflow/core/platform/cpu_feature_guard.cc:151] This TensorFlow binary is optimized with oneAPI Deep Neural Network Library (oneDNN) to use the following CPU instructions in performance-critical operations:  AVX2 FMA\n",
      "To enable them in other operations, rebuild TensorFlow with the appropriate compiler flags.\n"
     ]
    }
   ],
   "source": [
    "n_h = 10\n",
    "X_train = tf.constant(np.linspace(0,1,10), dtype=tf.float32)\n",
    "X_train = tf.reshape(X_train, (1, tf.shape(X_train)[0]))\n",
    "Y_train = analytic_sol(X_train)\n",
    "print(\"Train data x:\\n\",X_train)\n",
    "print(\"Train data y:\\n\",Y_train)\n",
    "print(type(X_train))\n",
    "print(type(Y_train))\n",
    "shapes = [tf.shape(X_train)[0],n_h,tf.shape(X_train)[0]]"
   ]
  },
  {
   "cell_type": "markdown",
   "id": "1a0f4a9e",
   "metadata": {},
   "source": [
    "## Implementation Neural Network model\n",
    "\n",
    "Neural Network with one hidden layer with 10 hidden units and sigmoid activation, and one linear output unit."
   ]
  },
  {
   "cell_type": "markdown",
   "id": "495b6978",
   "metadata": {},
   "source": [
    "### Initialize random parameters and compute forward propagation"
   ]
  },
  {
   "cell_type": "code",
   "execution_count": 4,
   "id": "c35f1586",
   "metadata": {},
   "outputs": [],
   "source": [
    "def initialize_parameters(shapes):\n",
    "    '''\n",
    "        Initialize parameters for Neural Network\n",
    "        \n",
    "        Input: \n",
    "        shape -- list of sizes for parameters\n",
    "        \n",
    "        Return:\n",
    "        parameters --  dictionary of tensors W1,b1,W2,b2,..... \n",
    "    '''\n",
    "    n_x, n_h, n_y = shapes\n",
    "    \n",
    "    initializer = tf.keras.initializers.GlorotNormal(seed=1)\n",
    "    \n",
    "    W1 = tf.Variable(initializer(shape=(n_h,n_x)))\n",
    "    b1 = tf.Variable(initializer(shape=(n_h,1)))\n",
    "    W2 = tf.Variable(initializer(shape=(n_y,n_h)))\n",
    "    b2 = tf.Variable(initializer(shape=(n_y,1)))\n",
    "    \n",
    "    parameters = {\"W1\": W1, \"b1\": b1, \"W2\": W2, \"b2\": b2}\n",
    "    \n",
    "    return parameters"
   ]
  },
  {
   "cell_type": "code",
   "execution_count": 5,
   "id": "677778bd",
   "metadata": {},
   "outputs": [],
   "source": [
    "def forward_propagation(X, parameters):\n",
    "    '''\n",
    "        Forward propagation for model LINEAR -> SIGMOID -> LINEAR -> LINEAR\n",
    "        \n",
    "        Inputs:\n",
    "        X -- input dataset with discrete points of domain of differential equation\n",
    "        \n",
    "        Return:\n",
    "        N -- single output feedforward neural network\n",
    "    '''\n",
    "    \n",
    "    cache = []\n",
    "    \n",
    "    W1 = parameters[\"W1\"]\n",
    "    b1 = parameters[\"b1\"]\n",
    "    W2 = parameters[\"W2\"]\n",
    "    b2 = parameters[\"b2\"]\n",
    "    \n",
    "    Z1 = add(tf.linalg.matmul(W1,X),b1)\n",
    "    A1 = sigmoid(Z1)\n",
    "    #Z2 = add(tf.linalg.matmul(W2,A1),b2) # its posible compute with bias term b2\n",
    "    Z2 = tf.linalg.matmul(W2,A1)\n",
    "    A2 = linear(Z2)\n",
    "    \n",
    "    cache.append(A1)\n",
    "    \n",
    "    return A2, cache"
   ]
  },
  {
   "cell_type": "markdown",
   "id": "6b77dc1f",
   "metadata": {},
   "source": [
    "#### Test latest function"
   ]
  },
  {
   "cell_type": "code",
   "execution_count": 6,
   "id": "46190d1c",
   "metadata": {},
   "outputs": [
    {
     "name": "stdout",
     "output_type": "stream",
     "text": [
      "(5, 1)\n",
      "(5, 1)\n",
      "(1, 5)\n",
      "(1, 1)\n"
     ]
    }
   ],
   "source": [
    "parameters = initialize_parameters([1,5,1])\n",
    "print(parameters[\"W1\"].shape)\n",
    "print(parameters[\"b1\"].shape)\n",
    "print(parameters[\"W2\"].shape)\n",
    "print(parameters[\"b2\"].shape)"
   ]
  },
  {
   "cell_type": "code",
   "execution_count": 7,
   "id": "b2f701d0",
   "metadata": {
    "scrolled": true
   },
   "outputs": [
    {
     "data": {
      "text/plain": [
       "<tf.Tensor: shape=(1, 5), dtype=float32, numpy=\n",
       "array([[ 0.00942882, -0.21110968, -0.37214005, -0.4682066 , -0.5210639 ]],\n",
       "      dtype=float32)>"
      ]
     },
     "execution_count": 7,
     "metadata": {},
     "output_type": "execute_result"
    }
   ],
   "source": [
    "X_test = tf.Variable(np.arange(5), dtype=tf.float32)\n",
    "X_test = tf.reshape(X_test, (1,5))\n",
    "N, cache = forward_propagation(X_test, parameters)\n",
    "N"
   ]
  },
  {
   "cell_type": "markdown",
   "id": "ff338992",
   "metadata": {},
   "source": [
    "### Cost function"
   ]
  },
  {
   "cell_type": "code",
   "execution_count": 8,
   "id": "062deaf5",
   "metadata": {},
   "outputs": [],
   "source": [
    "def compute_cost(X, N, cache, parameters):\n",
    "    '''\n",
    "        Compute the cost function of differential equation\n",
    "        \n",
    "        Inputs:\n",
    "        N -- output of forward propagation\n",
    "        \n",
    "        Return:\n",
    "        cost -- tensor of the cost function\n",
    "    '''\n",
    "    \n",
    "    W1 = parameters[\"W1\"]\n",
    "    b1 = parameters[\"b1\"]\n",
    "    W2 = parameters[\"W2\"]\n",
    "    b2 = parameters[\"b2\"]\n",
    "    \n",
    "    A1 = cache[0]\n",
    "    \n",
    "    psi = 1 + tf.multiply(X, N)\n",
    "    dN_dx = tf.multiply(matmul(W2, W1), tf.multiply(A1, 1-A1)) \n",
    "    dpsi_dx = N + tf.multiply(X, dN_dx)\n",
    "    coeff_1 = tf.multiply(X + (1+3*tf.square(X))/(1+X+tf.pow(X,3)), psi)\n",
    "    coeff_2 = tf.pow(X,3) + 2*X + tf.multiply(tf.square(X), (1+3*tf.square(X))/(1+X+tf.pow(X,3)))\n",
    "    \n",
    "    cost = tf.reduce_sum(tf.square(dpsi_dx + coeff_1 - coeff_2))\n",
    "    \n",
    "    return cost"
   ]
  },
  {
   "cell_type": "markdown",
   "id": "3ac484fb",
   "metadata": {},
   "source": [
    "#### Test cost function"
   ]
  },
  {
   "cell_type": "code",
   "execution_count": 9,
   "id": "fa3833c4",
   "metadata": {},
   "outputs": [
    {
     "data": {
      "text/plain": [
       "<tf.Tensor: shape=(), dtype=float32, numpy=51042.594>"
      ]
     },
     "execution_count": 9,
     "metadata": {},
     "output_type": "execute_result"
    }
   ],
   "source": [
    "cost = compute_cost(X_test, N, cache, parameters)\n",
    "cost"
   ]
  },
  {
   "cell_type": "markdown",
   "id": "1331f2a5",
   "metadata": {},
   "source": [
    "## Neural Network model"
   ]
  },
  {
   "cell_type": "code",
   "execution_count": 10,
   "id": "73d91d49",
   "metadata": {},
   "outputs": [],
   "source": [
    "def model(X_train, shape, learning_rate=0.001, num_epochs = 1000, print_cost = False):\n",
    "    '''\n",
    "        Model definition of newral network for LINEAR -> SIGMOID -> LINEAR -> LINEAR\n",
    "        \n",
    "        Inputs:\n",
    "        X_train -- input dataset of points of domain\n",
    "        Y_train -- input dataset of points of analytic solution\n",
    "        X_test -- input dataset to test different points over domain\n",
    "        Y_test -- input dataset to test different points of analytic solution\n",
    "        num_epochs -- number of iterations to optimize\n",
    "        print_cost -- boolean variable to get cost\n",
    "        \n",
    "        Return:\n",
    "        parameters -- parameters learned by model \n",
    "    '''\n",
    "    \n",
    "    costs = []\n",
    "    \n",
    "    parameters = initialize_parameters(shape)\n",
    "    \n",
    "    W1 = parameters[\"W1\"]\n",
    "    b1 = parameters[\"b1\"]\n",
    "    W2 = parameters[\"W2\"]\n",
    "    b2 = parameters[\"b2\"]\n",
    "\n",
    "    optimizer = tf.keras.optimizers.Adam(learning_rate)\n",
    "    \n",
    "    for epoch in range(num_epochs):\n",
    "        \n",
    "        with tf.GradientTape() as tape:\n",
    "            N, cache = forward_propagation(X_train, parameters)\n",
    "            cost = compute_cost(X_train, N, cache, parameters)\n",
    "        \n",
    "        trainable_variables = [W1, b1, W2]\n",
    "        grads = tape.gradient(cost, trainable_variables)\n",
    "        optimizer.apply_gradients(zip(grads, trainable_variables))\n",
    "        \n",
    "    \n",
    "        if print_cost == True and epoch % 1000 == 0:\n",
    "            print (\"Cost after epoch %i: %f\" % (epoch, cost))\n",
    "            costs.append(cost)\n",
    "            \n",
    "\n",
    "    return parameters, costs, cache"
   ]
  },
  {
   "cell_type": "code",
   "execution_count": 11,
   "id": "acba0cf4",
   "metadata": {
    "scrolled": true
   },
   "outputs": [
    {
     "name": "stdout",
     "output_type": "stream",
     "text": [
      "Cost after epoch 0: 120.802139\n",
      "Cost after epoch 1000: 0.351564\n",
      "Cost after epoch 2000: 0.181621\n",
      "Cost after epoch 3000: 0.113181\n",
      "Cost after epoch 4000: 0.094784\n",
      "Cost after epoch 5000: 0.086960\n",
      "Cost after epoch 6000: 0.079397\n",
      "Cost after epoch 7000: 0.072399\n",
      "Cost after epoch 8000: 0.066100\n",
      "Cost after epoch 9000: 0.062746\n",
      "Cost after epoch 10000: 0.060311\n"
     ]
    }
   ],
   "source": [
    "parameters, costs, cache = model(X_train, shape=shapes, learning_rate=0.005, num_epochs=10001, print_cost=True)"
   ]
  },
  {
   "cell_type": "code",
   "execution_count": 12,
   "id": "2057f7a4",
   "metadata": {
    "scrolled": true
   },
   "outputs": [
    {
     "data": {
      "text/plain": [
       "{'W1': <tf.Variable 'Variable:0' shape=(10, 1) dtype=float32, numpy=\n",
       " array([[-0.13181522],\n",
       "        [-0.5054445 ],\n",
       "        [-0.34129536],\n",
       "        [-0.36788636],\n",
       "        [-0.8829125 ],\n",
       "        [ 0.2465132 ],\n",
       "        [-0.3858076 ],\n",
       "        [ 1.2870218 ],\n",
       "        [-1.5493437 ],\n",
       "        [-0.24125184]], dtype=float32)>,\n",
       " 'b1': <tf.Variable 'Variable:0' shape=(10, 1) dtype=float32, numpy=\n",
       " array([[ 0.47672904],\n",
       "        [ 0.75857055],\n",
       "        [ 0.641521  ],\n",
       "        [ 0.6610822 ],\n",
       "        [ 1.0087105 ],\n",
       "        [-0.56769687],\n",
       "        [ 0.6741536 ],\n",
       "        [-1.2496842 ],\n",
       "        [ 1.4450365 ],\n",
       "        [ 0.56550497]], dtype=float32)>,\n",
       " 'W2': <tf.Variable 'Variable:0' shape=(1, 10) dtype=float32, numpy=\n",
       " array([[ 0.85715806, -0.30422735,  0.3965073 ,  0.28182265, -1.083401  ,\n",
       "         -0.43225503,  0.20221585,  1.3340088 , -2.080591  ,  0.74217296]],\n",
       "       dtype=float32)>,\n",
       " 'b2': <tf.Variable 'Variable:0' shape=(1, 1) dtype=float32, numpy=array([[-1.2887479]], dtype=float32)>}"
      ]
     },
     "execution_count": 12,
     "metadata": {},
     "output_type": "execute_result"
    }
   ],
   "source": [
    "parameters"
   ]
  },
  {
   "cell_type": "code",
   "execution_count": 13,
   "id": "23063531",
   "metadata": {},
   "outputs": [
    {
     "name": "stdout",
     "output_type": "stream",
     "text": [
      "tf.Tensor(\n",
      "[[1.         0.9041166  0.8323665  0.7877404  0.77295685 0.79028916\n",
      "  0.8413961  0.9271745  1.0476539  1.2019528 ]], shape=(1, 10), dtype=float32)\n"
     ]
    },
    {
     "data": {
      "image/png": "[encoded data removed]",
      "text/plain": [
       "<Figure size 432x288 with 1 Axes>"
      ]
     },
     "metadata": {
      "needs_background": "light"
     },
     "output_type": "display_data"
    }
   ],
   "source": [
    "sol = 1 + tf.multiply(X_train, forward_propagation(X_train, parameters)[0])\n",
    "print(sol)\n",
    "plt.plot(X_train.numpy()[0], sol.numpy()[0], \"ob\", label=\"Predicted solution\")\n",
    "plt.plot(X_train.numpy()[0], Y_train.numpy()[0], \"-r\", label=\"Analytic solution\")\n",
    "plt.legend()\n",
    "plt.show()"
   ]
  },
  {
   "cell_type": "code",
   "execution_count": 14,
   "id": "abb8811f",
   "metadata": {
    "scrolled": true
   },
   "outputs": [
    {
     "data": {
      "text/plain": [
       "<tf.Tensor: shape=(1, 10), dtype=float32, numpy=\n",
       "array([[0.        , 0.00158769, 0.00814015, 0.01366544, 0.01583755,\n",
       "        0.01458061, 0.01097119, 0.00645483, 0.00243902, 0.00022411]],\n",
       "      dtype=float32)>"
      ]
     },
     "execution_count": 14,
     "metadata": {},
     "output_type": "execute_result"
    }
   ],
   "source": [
    "error = tf.abs(Y_train - sol)\n",
    "error"
   ]
  },
  {
   "cell_type": "code",
   "execution_count": 15,
   "id": "b279a306",
   "metadata": {},
   "outputs": [
    {
     "data": {
      "text/plain": [
       "0.9944118141580823"
      ]
     },
     "execution_count": 15,
     "metadata": {},
     "output_type": "execute_result"
    }
   ],
   "source": [
    "from sklearn.metrics import r2_score\n",
    "\n",
    "r2_score(np.squeeze(Y_train.numpy()), np.squeeze(sol.numpy()))"
   ]
  },
  {
   "cell_type": "code",
   "execution_count": null,
   "id": "b5370c6d",
   "metadata": {},
   "outputs": [],
   "source": []
  },
  {
   "cell_type": "code",
   "execution_count": null,
   "id": "d2102eae",
   "metadata": {},
   "outputs": [],
   "source": []
  },
  {
   "cell_type": "code",
   "execution_count": 18,
   "id": "4af193ba",
   "metadata": {},
   "outputs": [
    {
     "name": "stdout",
     "output_type": "stream",
     "text": [
      "Function evaluations: 5\n",
      "tf.Tensor([1. 1.], shape=(2,), dtype=float32)\n"
     ]
    }
   ],
   "source": [
    "import tensorflow_probability as tfp \n",
    "\n",
    "minimum = np.array([1.0, 1.0])  # The center of the quadratic bowl.\n",
    "scales = np.array([2.0, 3.0])  # The scales along the two axes.\n",
    "\n",
    "# The objective function and the gradient.\n",
    "def quadratic_loss_and_gradient(x):\n",
    "    return tfp.math.value_and_gradient(\n",
    "        lambda x: tf.reduce_sum(\n",
    "            scales * tf.math.squared_difference(x, minimum), axis=-1),\n",
    "        x)\n",
    "\n",
    "start = tf.constant([0.6, 0.8])  # Starting point for the search.\n",
    "optim_results = tfp.optimizer.bfgs_minimize(\n",
    "    quadratic_loss_and_gradient, initial_position=start, tolerance=1e-8)\n",
    "\n",
    "# Check that the search converged\n",
    "assert(optim_results.converged) \n",
    "# Check that the argmin is close to the actual value.\n",
    "np.testing.assert_allclose(optim_results.position, minimum)\n",
    "# Print out the total number of function evaluations it took. Should be 5.\n",
    "print (\"Function evaluations: %d\" % optim_results.num_objective_evaluations)\n",
    "\n",
    "print(optim_results.position)"
   ]
  },
  {
   "cell_type": "code",
   "execution_count": null,
   "id": "f61c12fc",
   "metadata": {},
   "outputs": [],
   "source": []
  }
 ],
 "metadata": {
  "kernelspec": {
   "display_name": "Python 3 (ipykernel)",
   "language": "python",
   "name": "python3"
  },
  "language_info": {
   "codemirror_mode": {
    "name": "ipython",
    "version": 3
   },
   "file_extension": ".py",
   "mimetype": "text/x-python",
   "name": "python",
   "nbconvert_exporter": "python",
   "pygments_lexer": "ipython3",
   "version": "3.9.7"
  }
 },
 "nbformat": 4,
 "nbformat_minor": 5
}
