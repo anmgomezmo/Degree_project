{
 "cells": [
  {
   "cell_type": "code",
   "execution_count": 1,
   "id": "a857260b",
   "metadata": {},
   "outputs": [
    {
     "name": "stderr",
     "output_type": "stream",
     "text": [
      "2022-03-12 09:49:39.719084: W tensorflow/stream_executor/platform/default/dso_loader.cc:64] Could not load dynamic library 'libcudart.so.11.0'; dlerror: libcudart.so.11.0: cannot open shared object file: No such file or directory\n",
      "2022-03-12 09:49:39.719111: I tensorflow/stream_executor/cuda/cudart_stub.cc:29] Ignore above cudart dlerror if you do not have a GPU set up on your machine.\n"
     ]
    },
    {
     "data": {
      "text/plain": [
       "'2.8.0'"
      ]
     },
     "execution_count": 1,
     "metadata": {},
     "output_type": "execute_result"
    }
   ],
   "source": [
    "import numpy as np\n",
    "from matplotlib import pyplot as plt\n",
    "import tensorflow as tf\n",
    "\n",
    "tf.__version__"
   ]
  },
  {
   "cell_type": "markdown",
   "id": "0420dac5",
   "metadata": {},
   "source": [
    "## Differential equation\n",
    "$$\\frac{d\\psi}{dx} + \\left(x+\\frac{1+3x^2}{1+x+x^3} \\right)\\psi = x^3+2x+x^2\\left(\\frac{1+3x^2}{1+x+x^3} \\right)$$ \n",
    "Dataset are vectors of domain of differential equation, like the vectors are one-dimentional, the shape of dataset is one by m samples"
   ]
  },
  {
   "cell_type": "code",
   "execution_count": 2,
   "id": "ddff4b27",
   "metadata": {},
   "outputs": [],
   "source": [
    "def analytic_sol(x):\n",
    "    psi = x**2 + np.exp(-0.5*x**2)/(1+x+x**3)\n",
    "    return psi"
   ]
  },
  {
   "cell_type": "code",
   "execution_count": 3,
   "id": "0370f90c",
   "metadata": {},
   "outputs": [
    {
     "name": "stdout",
     "output_type": "stream",
     "text": [
      "Train data x:\n",
      " tf.Tensor(\n",
      "[[0.         0.11111111 0.22222222 0.33333334 0.44444445 0.5555556\n",
      "  0.6666667  0.7777778  0.8888889  1.        ]], shape=(1, 10), dtype=float32)\n",
      "Train data y:\n",
      " tf.Tensor(\n",
      "[[1.         0.90570426 0.8405067  0.80140585 0.78879434 0.8048698\n",
      "  0.8523673  0.9336293  1.0500929  1.2021769 ]], shape=(1, 10), dtype=float32)\n",
      "<class 'tensorflow.python.framework.ops.EagerTensor'>\n",
      "<class 'tensorflow.python.framework.ops.EagerTensor'>\n"
     ]
    },
    {
     "name": "stderr",
     "output_type": "stream",
     "text": [
      "2022-03-12 09:49:47.477959: W tensorflow/stream_executor/platform/default/dso_loader.cc:64] Could not load dynamic library 'libcuda.so.1'; dlerror: libcuda.so.1: cannot open shared object file: No such file or directory\n",
      "2022-03-12 09:49:47.477987: W tensorflow/stream_executor/cuda/cuda_driver.cc:269] failed call to cuInit: UNKNOWN ERROR (303)\n",
      "2022-03-12 09:49:47.478005: I tensorflow/stream_executor/cuda/cuda_diagnostics.cc:156] kernel driver does not appear to be running on this host (littlerocket): /proc/driver/nvidia/version does not exist\n",
      "2022-03-12 09:49:47.478535: I tensorflow/core/platform/cpu_feature_guard.cc:151] This TensorFlow binary is optimized with oneAPI Deep Neural Network Library (oneDNN) to use the following CPU instructions in performance-critical operations:  AVX2 FMA\n",
      "To enable them in other operations, rebuild TensorFlow with the appropriate compiler flags.\n"
     ]
    }
   ],
   "source": [
    "X_train = tf.constant(np.linspace(0,1,10), dtype=tf.float32)\n",
    "X_train = tf.reshape(X_train, (1, tf.shape(X_train)[0]))\n",
    "Y_train = analytic_sol(X_train)\n",
    "print(\"Train data x:\\n\",X_train)\n",
    "print(\"Train data y:\\n\",Y_train)\n",
    "print(type(X_train))\n",
    "print(type(Y_train))"
   ]
  },
  {
   "cell_type": "markdown",
   "id": "1a0f4a9e",
   "metadata": {},
   "source": [
    "## Implementation Neural Network model\n",
    "\n",
    "Neural Network with one hidden layer with 10 hidden units and sigmoid activation, and one linear output unit."
   ]
  },
  {
   "cell_type": "markdown",
   "id": "495b6978",
   "metadata": {},
   "source": [
    "### Initialize random parameters and compute forward propagation"
   ]
  },
  {
   "cell_type": "code",
   "execution_count": 4,
   "id": "c35f1586",
   "metadata": {},
   "outputs": [],
   "source": [
    "def initialize_parameters(shapes):\n",
    "    '''\n",
    "        Initialize parameters for Neural Network\n",
    "        \n",
    "        Input: \n",
    "        shape -- list of sizes for parameters\n",
    "        \n",
    "        Return:\n",
    "        parameters --  dictionary of tensors W1,b1,W2,b2,..... \n",
    "    '''\n",
    "    n_x, n_h, n_y = shapes\n",
    "    \n",
    "    initializer = tf.keras.initializers.GlorotNormal(seed=1)\n",
    "    \n",
    "    W1 = tf.Variable(initializer(shape=(n_h,n_x)))\n",
    "    b1 = tf.Variable(initializer(shape=(n_h,1)))\n",
    "    W2 = tf.Variable(initializer(shape=(n_y,n_h)))\n",
    "    b2 = tf.Variable(initializer(shape=(n_y,1)))\n",
    "    \n",
    "    parameters = {\"W1\": W1, \"b1\": b1, \"W2\": W2, \"b2\": b2}\n",
    "    \n",
    "    return parameters"
   ]
  },
  {
   "cell_type": "code",
   "execution_count": 5,
   "id": "677778bd",
   "metadata": {},
   "outputs": [],
   "source": [
    "def forward_propagation(X, parameters):\n",
    "    '''\n",
    "        Forward propagation for model LINEAR -> SIGMOID -> LINEAR -> LINEAR\n",
    "        \n",
    "        Inputs:\n",
    "        X -- input dataset with discrete points of domain of differential equation\n",
    "        \n",
    "        Return:\n",
    "        N -- single output feedforward neural network\n",
    "    '''\n",
    "    \n",
    "    cache = []\n",
    "    \n",
    "    W1 = parameters[\"W1\"]\n",
    "    b1 = parameters[\"b1\"]\n",
    "    W2 = parameters[\"W2\"]\n",
    "    b2 = parameters[\"b2\"]\n",
    "    \n",
    "    Z1 = tf.math.add(tf.linalg.matmul(W1,X),b1)\n",
    "    A1 = tf.keras.activations.sigmoid(Z1)\n",
    "    Z2 = tf.linalg.matmul(W2,A1) # its posible compute with bias term b2\n",
    "    N = tf.keras.activations.linear(Z2)\n",
    "    \n",
    "    cache.append(A1)\n",
    "    \n",
    "    return N, cache"
   ]
  },
  {
   "cell_type": "markdown",
   "id": "6b77dc1f",
   "metadata": {},
   "source": [
    "#### Test latest function"
   ]
  },
  {
   "cell_type": "code",
   "execution_count": 6,
   "id": "46190d1c",
   "metadata": {},
   "outputs": [
    {
     "name": "stdout",
     "output_type": "stream",
     "text": [
      "(10, 1)\n",
      "(10, 1)\n",
      "(1, 10)\n",
      "(1, 1)\n"
     ]
    }
   ],
   "source": [
    "shapes = [1,10,1]\n",
    "parameters = initialize_parameters(shapes)\n",
    "print(parameters[\"W1\"].shape)\n",
    "print(parameters[\"b1\"].shape)\n",
    "print(parameters[\"W2\"].shape)\n",
    "print(parameters[\"b2\"].shape)"
   ]
  },
  {
   "cell_type": "code",
   "execution_count": 7,
   "id": "b2f701d0",
   "metadata": {
    "scrolled": true
   },
   "outputs": [
    {
     "data": {
      "text/plain": [
       "<tf.Tensor: shape=(1, 10), dtype=float32, numpy=\n",
       "array([[0.44261885, 0.4258489 , 0.40899485, 0.39210898, 0.37524465,\n",
       "        0.35845542, 0.34179425, 0.32531378, 0.30906472, 0.2930958 ]],\n",
       "      dtype=float32)>"
      ]
     },
     "execution_count": 7,
     "metadata": {},
     "output_type": "execute_result"
    }
   ],
   "source": [
    "N, cache = forward_propagation(X_train, parameters)\n",
    "N"
   ]
  },
  {
   "cell_type": "markdown",
   "id": "ff338992",
   "metadata": {},
   "source": [
    "### Cost function"
   ]
  },
  {
   "cell_type": "code",
   "execution_count": 8,
   "id": "062deaf5",
   "metadata": {},
   "outputs": [],
   "source": [
    "def compute_cost(X, N, cache, parameters):\n",
    "    '''\n",
    "        Compute the cost function of differential equation\n",
    "        \n",
    "        Inputs:\n",
    "        N -- output of forward propagation\n",
    "        \n",
    "        Return:\n",
    "        cost -- tensor of the cost function\n",
    "    '''\n",
    "    k = tf.shape(X)[0]\n",
    "    \n",
    "    W1 = parameters[\"W1\"]\n",
    "    b1 = parameters[\"b1\"]\n",
    "    W2 = parameters[\"W2\"]\n",
    "    b2 = parameters[\"b2\"]\n",
    "    \n",
    "    A1 = cache[0]\n",
    "    \n",
    "    dpsi_dx = N + tf.multiply(X, tf.linalg.matmul(tf.linalg.matmul(tf.transpose(1-A1), W1), tf.linalg.matmul(W2, A1)))\n",
    "    coeff_1 = tf.multiply(X + (1+3*X**2)/(1+X+X**3), 1 + N*X)\n",
    "    coeff_2 = X**3 + 2*X + tf.multiply(X**2, (1+3*X**2)/(1+X+X**3))\n",
    "    \n",
    "    cost = tf.reduce_sum(tf.square(dpsi_dx + coeff_1 - coeff_2))\n",
    "    \n",
    "    return cost"
   ]
  },
  {
   "cell_type": "markdown",
   "id": "3ac484fb",
   "metadata": {},
   "source": [
    "#### Test cost function"
   ]
  },
  {
   "cell_type": "code",
   "execution_count": 9,
   "id": "fa3833c4",
   "metadata": {},
   "outputs": [
    {
     "data": {
      "text/plain": [
       "<tf.Tensor: shape=(), dtype=float32, numpy=98.05464>"
      ]
     },
     "execution_count": 9,
     "metadata": {},
     "output_type": "execute_result"
    }
   ],
   "source": [
    "cost = compute_cost(X_train, N, cache, parameters)\n",
    "cost"
   ]
  },
  {
   "cell_type": "markdown",
   "id": "1331f2a5",
   "metadata": {},
   "source": [
    "## Neural Network model"
   ]
  },
  {
   "cell_type": "code",
   "execution_count": 10,
   "id": "73d91d49",
   "metadata": {},
   "outputs": [],
   "source": [
    "def model(X_train, shape, learning_rate=0.001, num_epochs = 1000, print_cost = False):\n",
    "    '''\n",
    "        Model definition of newral network for LINEAR -> SIGMOID -> LINEAR -> LINEAR\n",
    "        \n",
    "        Inputs:\n",
    "        X_train -- input dataset of points of domain\n",
    "        Y_train -- input dataset of points of analytic solution\n",
    "        X_test -- input dataset to test different points over domain\n",
    "        Y_test -- input dataset to test different points of analytic solution\n",
    "        num_epochs -- number of iterations to optimize\n",
    "        print_cost -- boolean variable to get cost\n",
    "        \n",
    "        Return:\n",
    "        parameters -- parameters learned by model \n",
    "    '''\n",
    "    \n",
    "    costs = []\n",
    "    \n",
    "    parameters = initialize_parameters(shape)\n",
    "    \n",
    "    W1 = parameters[\"W1\"]\n",
    "    b1 = parameters[\"b1\"]\n",
    "    W2 = parameters[\"W2\"]\n",
    "    b2 = parameters[\"b2\"]\n",
    "\n",
    "    optimizer = tf.keras.optimizers.Adam(learning_rate)\n",
    "    \n",
    "    for epoch in range(num_epochs):\n",
    "        \n",
    "        with tf.GradientTape() as tape:\n",
    "            N, cache = forward_propagation(X_train, parameters)\n",
    "            cost = compute_cost(X_train, N, cache, parameters)\n",
    "        \n",
    "        trainable_variables = [W1, b1, W2]\n",
    "        grads = tape.gradient(cost, trainable_variables)\n",
    "        optimizer.apply_gradients(zip(grads, trainable_variables))\n",
    "        \n",
    "    \n",
    "        if print_cost == True and epoch % 1000 == 0:\n",
    "            print (\"Cost after epoch %i: %f\" % (epoch, cost))\n",
    "            costs.append(cost)\n",
    "            \n",
    "\n",
    "    return parameters, costs, cache"
   ]
  },
  {
   "cell_type": "code",
   "execution_count": 11,
   "id": "acba0cf4",
   "metadata": {
    "scrolled": true
   },
   "outputs": [
    {
     "name": "stdout",
     "output_type": "stream",
     "text": [
      "Cost after epoch 0: 133.629593\n",
      "Cost after epoch 1000: 9.869022\n",
      "Cost after epoch 2000: 2.410211\n",
      "Cost after epoch 3000: 1.801761\n",
      "Cost after epoch 4000: 1.287339\n",
      "Cost after epoch 5000: 0.877828\n",
      "Cost after epoch 6000: 0.590569\n",
      "Cost after epoch 7000: 0.405385\n",
      "Cost after epoch 8000: 0.284667\n",
      "Cost after epoch 9000: 0.202384\n",
      "Cost after epoch 10000: 0.146225\n",
      "Cost after epoch 11000: 0.111449\n",
      "Cost after epoch 12000: 0.090462\n",
      "Cost after epoch 13000: 0.077234\n",
      "Cost after epoch 14000: 0.068288\n",
      "Cost after epoch 15000: 0.061870\n",
      "Cost after epoch 16000: 0.057063\n",
      "Cost after epoch 17000: 0.053336\n",
      "Cost after epoch 18000: 0.050312\n",
      "Cost after epoch 19000: 0.047821\n",
      "Cost after epoch 20000: 0.045736\n",
      "Cost after epoch 21000: 0.043937\n",
      "Cost after epoch 22000: 0.042378\n",
      "Cost after epoch 23000: 0.041002\n",
      "Cost after epoch 24000: 0.039786\n",
      "Cost after epoch 25000: 0.038699\n",
      "Cost after epoch 26000: 0.038012\n",
      "Cost after epoch 27000: 0.036829\n",
      "Cost after epoch 28000: 0.036019\n",
      "Cost after epoch 29000: 0.035278\n",
      "Cost after epoch 30000: 0.034592\n",
      "Cost after epoch 31000: 0.033960\n",
      "Cost after epoch 32000: 0.033371\n",
      "Cost after epoch 33000: 0.032823\n",
      "Cost after epoch 34000: 0.032376\n",
      "Cost after epoch 35000: 0.031831\n",
      "Cost after epoch 36000: 0.031380\n",
      "Cost after epoch 37000: 0.030955\n",
      "Cost after epoch 38000: 0.030556\n",
      "Cost after epoch 39000: 0.030181\n",
      "Cost after epoch 40000: 0.029815\n",
      "Cost after epoch 41000: 0.029789\n",
      "Cost after epoch 42000: 0.029409\n",
      "Cost after epoch 43000: 0.028898\n",
      "Cost after epoch 44000: 0.028542\n",
      "Cost after epoch 45000: 0.028258\n",
      "Cost after epoch 46000: 0.027988\n",
      "Cost after epoch 47000: 0.027731\n",
      "Cost after epoch 48000: 0.027479\n",
      "Cost after epoch 49000: 0.027242\n",
      "Cost after epoch 50000: 0.027012\n"
     ]
    }
   ],
   "source": [
    "parameters, costs, cache = model(X_train, shape=shapes, learning_rate=0.001, num_epochs=50001, print_cost=True)"
   ]
  },
  {
   "cell_type": "code",
   "execution_count": 12,
   "id": "2057f7a4",
   "metadata": {
    "scrolled": true
   },
   "outputs": [
    {
     "data": {
      "text/plain": [
       "{'W1': <tf.Variable 'Variable:0' shape=(10, 1) dtype=float32, numpy=\n",
       " array([[ 0.06817397],\n",
       "        [-0.34143415],\n",
       "        [ 0.13167419],\n",
       "        [-0.25099355],\n",
       "        [-0.48240745],\n",
       "        [ 0.00798735],\n",
       "        [ 0.2104287 ],\n",
       "        [-0.15750529],\n",
       "        [-0.0100722 ],\n",
       "        [-0.01821376]], dtype=float32)>,\n",
       " 'b1': <tf.Variable 'Variable:0' shape=(10, 1) dtype=float32, numpy=\n",
       " array([[ 0.5616286 ],\n",
       "        [-0.2571284 ],\n",
       "        [ 0.2928016 ],\n",
       "        [-0.40453166],\n",
       "        [ 0.03279796],\n",
       "        [ 0.32119042],\n",
       "        [ 0.24286646],\n",
       "        [-0.30586624],\n",
       "        [-0.26894614],\n",
       "        [-0.7930353 ]], dtype=float32)>,\n",
       " 'W2': <tf.Variable 'Variable:0' shape=(1, 10) dtype=float32, numpy=\n",
       " array([[ 1.6815192 , -4.3187222 ,  2.6917355 , -2.6418326 , -7.0775423 ,\n",
       "          0.86329585,  3.9608707 , -1.1994966 ,  0.8664877 ,  1.1578201 ]],\n",
       "       dtype=float32)>,\n",
       " 'b2': <tf.Variable 'Variable:0' shape=(1, 1) dtype=float32, numpy=array([[-1.2887479]], dtype=float32)>}"
      ]
     },
     "execution_count": 12,
     "metadata": {},
     "output_type": "execute_result"
    }
   ],
   "source": [
    "parameters"
   ]
  },
  {
   "cell_type": "code",
   "execution_count": 13,
   "id": "23063531",
   "metadata": {},
   "outputs": [
    {
     "name": "stdout",
     "output_type": "stream",
     "text": [
      "tf.Tensor(\n",
      "[[1.         0.9127715  0.86822814 0.866147   0.9062285  0.98809713\n",
      "  1.1113034  1.2753277  1.4795817  1.7234142 ]], shape=(1, 10), dtype=float32)\n"
     ]
    },
    {
     "data": {
      "image/png": "[encoded data removed]",
      "text/plain": [
       "<Figure size 432x288 with 1 Axes>"
      ]
     },
     "metadata": {
      "needs_background": "light"
     },
     "output_type": "display_data"
    }
   ],
   "source": [
    "sol = 1 + tf.multiply(X_train, forward_propagation(X_train, parameters)[0])\n",
    "print(sol)\n",
    "plt.plot(X_train.numpy()[0], sol.numpy()[0], \"-b\")\n",
    "plt.plot(X_train.numpy()[0], Y_train.numpy()[0], \".r\")\n",
    "plt.show()"
   ]
  },
  {
   "cell_type": "code",
   "execution_count": 14,
   "id": "abb8811f",
   "metadata": {},
   "outputs": [
    {
     "data": {
      "text/plain": [
       "<tf.Tensor: shape=(1, 10), dtype=float32, numpy=\n",
       "array([[0.        , 0.00706726, 0.02772146, 0.06474113, 0.11743414,\n",
       "        0.18322736, 0.25893617, 0.3416984 , 0.42948878, 0.52123725]],\n",
       "      dtype=float32)>"
      ]
     },
     "execution_count": 14,
     "metadata": {},
     "output_type": "execute_result"
    }
   ],
   "source": [
    "error = tf.abs(Y_train - sol)\n",
    "error"
   ]
  },
  {
   "cell_type": "code",
   "execution_count": null,
   "id": "21bb5708",
   "metadata": {},
   "outputs": [],
   "source": []
  },
  {
   "cell_type": "code",
   "execution_count": null,
   "id": "b4e69ebd",
   "metadata": {},
   "outputs": [],
   "source": []
  },
  {
   "cell_type": "code",
   "execution_count": 19,
   "id": "b531bd7f",
   "metadata": {},
   "outputs": [
    {
     "name": "stdout",
     "output_type": "stream",
     "text": [
      "Function evaluations: 5\n",
      "tf.Tensor([1. 1.], shape=(2,), dtype=float32)\n"
     ]
    }
   ],
   "source": [
    "import tensorflow_probability as tfp \n",
    "\n",
    "minimum = np.array([1.0, 1.0])  # The center of the quadratic bowl.\n",
    "scales = np.array([2.0, 3.0])  # The scales along the two axes.\n",
    "\n",
    "# The objective function and the gradient.\n",
    "def quadratic_loss_and_gradient(x):\n",
    "    return tfp.math.value_and_gradient(\n",
    "        lambda x: tf.reduce_sum(\n",
    "            scales * tf.math.squared_difference(x, minimum), axis=-1),\n",
    "        x)\n",
    "\n",
    "start = tf.constant([0.6, 0.8])  # Starting point for the search.\n",
    "optim_results = tfp.optimizer.bfgs_minimize(\n",
    "    quadratic_loss_and_gradient, initial_position=start, tolerance=1e-8)\n",
    "\n",
    "# Check that the search converged\n",
    "assert(optim_results.converged)\n",
    "# Check that the argmin is close to the actual value.\n",
    "np.testing.assert_allclose(optim_results.position, minimum)\n",
    "# Print out the total number of function evaluations it took. Should be 5.\n",
    "print (\"Function evaluations: %d\" % optim_results.num_objective_evaluations)\n",
    "\n",
    "print(optim_results.position)"
   ]
  },
  {
   "cell_type": "code",
   "execution_count": 21,
   "id": "f884af66",
   "metadata": {},
   "outputs": [
    {
     "ename": "ValueError",
     "evalue": "all the input array dimensions for the concatenation axis must match exactly, but along dimension 1, the array at index 0 has size 1 and the array at index 2 has size 10",
     "output_type": "error",
     "traceback": [
      "\u001b[0;31m---------------------------------------------------------------------------\u001b[0m",
      "\u001b[0;31mValueError\u001b[0m                                Traceback (most recent call last)",
      "Input \u001b[0;32mIn [21]\u001b[0m, in \u001b[0;36m<cell line: 6>\u001b[0;34m()\u001b[0m\n\u001b[1;32m      1\u001b[0m \u001b[38;5;28;01mdef\u001b[39;00m \u001b[38;5;21mquadratic_loss_and_gradient\u001b[39m(x, N, cache, parameters):\n\u001b[1;32m      2\u001b[0m     \u001b[38;5;28;01mreturn\u001b[39;00m tfp\u001b[38;5;241m.\u001b[39mmath\u001b[38;5;241m.\u001b[39mvalue_and_gradient(\n\u001b[1;32m      3\u001b[0m         \u001b[38;5;28;01mlambda\u001b[39;00m x: compute_cost(x, N, cache, parameters),\n\u001b[1;32m      4\u001b[0m         x)\n\u001b[0;32m----> 6\u001b[0m start \u001b[38;5;241m=\u001b[39m \u001b[43mnp\u001b[49m\u001b[38;5;241;43m.\u001b[39;49m\u001b[43mconcatenate\u001b[49m\u001b[43m(\u001b[49m\u001b[43m(\u001b[49m\u001b[43mparameters\u001b[49m\u001b[43m[\u001b[49m\u001b[38;5;124;43m\"\u001b[39;49m\u001b[38;5;124;43mW1\u001b[39;49m\u001b[38;5;124;43m\"\u001b[39;49m\u001b[43m]\u001b[49m\u001b[43m,\u001b[49m\u001b[43m \u001b[49m\u001b[43mparameters\u001b[49m\u001b[43m[\u001b[49m\u001b[38;5;124;43m\"\u001b[39;49m\u001b[38;5;124;43mb1\u001b[39;49m\u001b[38;5;124;43m\"\u001b[39;49m\u001b[43m]\u001b[49m\u001b[43m,\u001b[49m\u001b[43m \u001b[49m\u001b[43mparameters\u001b[49m\u001b[43m[\u001b[49m\u001b[38;5;124;43m\"\u001b[39;49m\u001b[38;5;124;43mW2\u001b[39;49m\u001b[38;5;124;43m\"\u001b[39;49m\u001b[43m]\u001b[49m\u001b[43m)\u001b[49m\u001b[43m)\u001b[49m  \u001b[38;5;66;03m# Starting point for the search.\u001b[39;00m\n\u001b[1;32m      7\u001b[0m optim_results \u001b[38;5;241m=\u001b[39m tfp\u001b[38;5;241m.\u001b[39moptimizer\u001b[38;5;241m.\u001b[39mbfgs_minimize(\n\u001b[1;32m      8\u001b[0m     quadratic_loss_and_gradient, initial_position\u001b[38;5;241m=\u001b[39mstart, tolerance\u001b[38;5;241m=\u001b[39m\u001b[38;5;241m1e-8\u001b[39m)\n",
      "File \u001b[0;32m<__array_function__ internals>:5\u001b[0m, in \u001b[0;36mconcatenate\u001b[0;34m(*args, **kwargs)\u001b[0m\n",
      "\u001b[0;31mValueError\u001b[0m: all the input array dimensions for the concatenation axis must match exactly, but along dimension 1, the array at index 0 has size 1 and the array at index 2 has size 10"
     ]
    }
   ],
   "source": [
    "def quadratic_loss_and_gradient(x, N, cache, parameters):\n",
    "    return tfp.math.value_and_gradient(\n",
    "        lambda x: compute_cost(x, N, cache, parameters),\n",
    "        x)\n",
    "\n",
    "start = np.concatenate((parameters[\"W1\"], parameters[\"b1\"], parameters[\"W2\"]))  # Starting point for the search.\n",
    "optim_results = tfp.optimizer.bfgs_minimize(\n",
    "    quadratic_loss_and_gradient, initial_position=start, tolerance=1e-8)\n"
   ]
  },
  {
   "cell_type": "code",
   "execution_count": null,
   "id": "37742db5",
   "metadata": {},
   "outputs": [],
   "source": []
  }
 ],
 "metadata": {
  "kernelspec": {
   "display_name": "Python 3 (ipykernel)",
   "language": "python",
   "name": "python3"
  },
  "language_info": {
   "codemirror_mode": {
    "name": "ipython",
    "version": 3
   },
   "file_extension": ".py",
   "mimetype": "text/x-python",
   "name": "python",
   "nbconvert_exporter": "python",
   "pygments_lexer": "ipython3",
   "version": "3.9.7"
  }
 },
 "nbformat": 4,
 "nbformat_minor": 5
}
