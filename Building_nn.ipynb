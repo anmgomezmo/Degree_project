{
 "cells": [
  {
   "cell_type": "code",
   "execution_count": 1,
   "id": "a857260b",
   "metadata": {},
   "outputs": [
    {
     "name": "stderr",
     "output_type": "stream",
     "text": [
      "2022-03-12 13:08:24.161184: W tensorflow/stream_executor/platform/default/dso_loader.cc:64] Could not load dynamic library 'libcudart.so.11.0'; dlerror: libcudart.so.11.0: cannot open shared object file: No such file or directory\n",
      "2022-03-12 13:08:24.161212: I tensorflow/stream_executor/cuda/cudart_stub.cc:29] Ignore above cudart dlerror if you do not have a GPU set up on your machine.\n"
     ]
    },
    {
     "data": {
      "text/plain": [
       "'2.8.0'"
      ]
     },
     "execution_count": 1,
     "metadata": {},
     "output_type": "execute_result"
    }
   ],
   "source": [
    "import numpy as np\n",
    "from matplotlib import pyplot as plt\n",
    "import tensorflow as tf\n",
    "from tensorflow.keras.activations import sigmoid, linear, relu\n",
    "from tensorflow.math import add, subtract\n",
    "\n",
    "tf.__version__"
   ]
  },
  {
   "cell_type": "markdown",
   "id": "0420dac5",
   "metadata": {},
   "source": [
    "## Differential equation\n",
    "$$\\frac{d\\psi}{dx} + \\left(x+\\frac{1+3x^2}{1+x+x^3} \\right)\\psi = x^3+2x+x^2\\left(\\frac{1+3x^2}{1+x+x^3} \\right)$$ \n",
    "Dataset are vectors of domain of differential equation, like the vectors are one-dimentional, the shape of dataset is one by m samples"
   ]
  },
  {
   "cell_type": "code",
   "execution_count": 2,
   "id": "ddff4b27",
   "metadata": {},
   "outputs": [],
   "source": [
    "def analytic_sol(x):\n",
    "    psi = tf.pow(x,2) + tf.exp(-0.5*tf.pow(x,2))/(1+x+tf.pow(x,3))\n",
    "    return psi"
   ]
  },
  {
   "cell_type": "code",
   "execution_count": 3,
   "id": "0370f90c",
   "metadata": {},
   "outputs": [
    {
     "name": "stdout",
     "output_type": "stream",
     "text": [
      "Train data x:\n",
      " tf.Tensor(\n",
      "[[0.         0.05050505 0.1010101  0.15151516 0.2020202  0.25252524\n",
      "  0.3030303  0.35353535 0.4040404  0.45454547 0.5050505  0.5555556\n",
      "  0.6060606  0.65656567 0.7070707  0.75757575 0.8080808  0.85858583\n",
      "  0.90909094 0.959596   1.010101   1.060606   1.1111112  1.1616162\n",
      "  1.2121212  1.2626263  1.3131313  1.3636364  1.4141414  1.4646465\n",
      "  1.5151515  1.5656565  1.6161616  1.6666666  1.7171717  1.7676767\n",
      "  1.8181819  1.8686869  1.919192   1.969697   2.020202   2.070707\n",
      "  2.121212   2.1717172  2.2222223  2.2727273  2.3232324  2.3737373\n",
      "  2.4242425  2.4747474  2.5252526  2.5757575  2.6262627  2.6767676\n",
      "  2.7272727  2.7777777  2.8282828  2.878788   2.929293   2.979798\n",
      "  3.030303   3.0808082  3.131313   3.1818182  3.2323232  3.2828283\n",
      "  3.3333333  3.3838384  3.4343433  3.4848485  3.5353534  3.5858586\n",
      "  3.6363637  3.6868687  3.7373738  3.7878788  3.838384   3.8888888\n",
      "  3.939394   3.989899   4.040404   4.090909   4.141414   4.1919193\n",
      "  4.242424   4.292929   4.3434343  4.3939395  4.4444447  4.4949493\n",
      "  4.5454545  4.5959597  4.646465   4.6969695  4.7474747  4.79798\n",
      "  4.848485   4.8989897  4.949495   5.        ]], shape=(1, 100), dtype=float32)\n",
      "Train data y:\n",
      " tf.Tensor(\n",
      "[[ 1.          0.953144    0.91299325  0.8788814   0.85038745  0.82728523\n",
      "   0.80950373  0.79709405  0.7902      0.7890297   0.79383147  0.8048698\n",
      "   0.82240635  0.84668374  0.87791264  0.9162644   0.96186554  1.0147976\n",
      "   1.0750982   1.1427644   1.2177593   1.3000154   1.3894432   1.4859345\n",
      "   1.5893698   1.699622    1.816561    1.9400563   2.0699804   2.2062104\n",
      "   2.3486285   2.4971254   2.6515985   2.8119528   2.9781017   3.1499665\n",
      "   3.3274755   3.5105631   3.699172    3.8932505   4.0927515   4.2976356\n",
      "   4.507864    4.723407    4.9442353   5.170324    5.4016514   5.638197\n",
      "   5.8799477   6.126886    6.3790016   6.636281    6.898718    7.1663013\n",
      "   7.439027    7.716886    7.9998765   8.2879925   8.581228    8.879584\n",
      "   9.183055    9.491639    9.805335   10.124141   10.448055   10.777078\n",
      "  11.111204   11.450438   11.794775   12.144218   12.498764   12.858414\n",
      "  13.223167   13.59302    13.967979   14.348039   14.733201   15.123465\n",
      "  15.518831   15.919298   16.324867   16.73554    17.151314   17.57219\n",
      "  17.998163   18.429243   18.865421   19.306704   19.753088   20.204569\n",
      "  20.661158   21.122845   21.589636   22.061522   22.538515   23.02061\n",
      "  23.507807   24.0001     24.4975     25.        ]], shape=(1, 100), dtype=float32)\n",
      "<class 'tensorflow.python.framework.ops.EagerTensor'>\n",
      "<class 'tensorflow.python.framework.ops.EagerTensor'>\n"
     ]
    },
    {
     "name": "stderr",
     "output_type": "stream",
     "text": [
      "2022-03-12 13:08:26.366418: W tensorflow/stream_executor/platform/default/dso_loader.cc:64] Could not load dynamic library 'libcuda.so.1'; dlerror: libcuda.so.1: cannot open shared object file: No such file or directory\n",
      "2022-03-12 13:08:26.366446: W tensorflow/stream_executor/cuda/cuda_driver.cc:269] failed call to cuInit: UNKNOWN ERROR (303)\n",
      "2022-03-12 13:08:26.366468: I tensorflow/stream_executor/cuda/cuda_diagnostics.cc:156] kernel driver does not appear to be running on this host (littlerocket): /proc/driver/nvidia/version does not exist\n",
      "2022-03-12 13:08:26.366758: I tensorflow/core/platform/cpu_feature_guard.cc:151] This TensorFlow binary is optimized with oneAPI Deep Neural Network Library (oneDNN) to use the following CPU instructions in performance-critical operations:  AVX2 FMA\n",
      "To enable them in other operations, rebuild TensorFlow with the appropriate compiler flags.\n"
     ]
    }
   ],
   "source": [
    "n_h = 10\n",
    "X_train = tf.constant(np.linspace(0,5,100), dtype=tf.float32)\n",
    "X_train = tf.reshape(X_train, (1, tf.shape(X_train)[0]))\n",
    "Y_train = analytic_sol(X_train)\n",
    "print(\"Train data x:\\n\",X_train)\n",
    "print(\"Train data y:\\n\",Y_train)\n",
    "print(type(X_train))\n",
    "print(type(Y_train))\n",
    "shapes = [tf.shape(X_train)[0],n_h,tf.shape(X_train)[0]]"
   ]
  },
  {
   "cell_type": "markdown",
   "id": "1a0f4a9e",
   "metadata": {},
   "source": [
    "## Implementation Neural Network model\n",
    "\n",
    "Neural Network with one hidden layer with 10 hidden units and sigmoid activation, and one linear output unit."
   ]
  },
  {
   "cell_type": "markdown",
   "id": "495b6978",
   "metadata": {},
   "source": [
    "### Initialize random parameters and compute forward propagation"
   ]
  },
  {
   "cell_type": "code",
   "execution_count": 4,
   "id": "c35f1586",
   "metadata": {},
   "outputs": [],
   "source": [
    "def initialize_parameters(shapes):\n",
    "    '''\n",
    "        Initialize parameters for Neural Network\n",
    "        \n",
    "        Input: \n",
    "        shape -- list of sizes for parameters\n",
    "        \n",
    "        Return:\n",
    "        parameters --  dictionary of tensors W1,b1,W2,b2,..... \n",
    "    '''\n",
    "    n_x, n_h, n_y = shapes\n",
    "    \n",
    "    initializer = tf.keras.initializers.GlorotNormal(seed=1)\n",
    "    \n",
    "    W1 = tf.Variable(initializer(shape=(n_h,n_x)))\n",
    "    b1 = tf.Variable(initializer(shape=(n_h,1)))\n",
    "    W2 = tf.Variable(initializer(shape=(n_y,n_h)))\n",
    "    b2 = tf.Variable(initializer(shape=(n_y,1)))\n",
    "    \n",
    "    parameters = {\"W1\": W1, \"b1\": b1, \"W2\": W2, \"b2\": b2}\n",
    "    \n",
    "    return parameters"
   ]
  },
  {
   "cell_type": "code",
   "execution_count": 5,
   "id": "677778bd",
   "metadata": {},
   "outputs": [],
   "source": [
    "def forward_propagation(X, parameters):\n",
    "    '''\n",
    "        Forward propagation for model LINEAR -> SIGMOID -> LINEAR -> LINEAR\n",
    "        \n",
    "        Inputs:\n",
    "        X -- input dataset with discrete points of domain of differential equation\n",
    "        \n",
    "        Return:\n",
    "        N -- single output feedforward neural network\n",
    "    '''\n",
    "    \n",
    "    cache = []\n",
    "    \n",
    "    W1 = parameters[\"W1\"]\n",
    "    b1 = parameters[\"b1\"]\n",
    "    W2 = parameters[\"W2\"]\n",
    "    b2 = parameters[\"b2\"]\n",
    "    \n",
    "    Z1 = add(tf.linalg.matmul(W1,X),b1)\n",
    "    A1 = sigmoid(Z1)\n",
    "    #Z2 = add(tf.linalg.matmul(W2,A1),b2) # its posible compute with bias term b2\n",
    "    Z2 = tf.linalg.matmul(W2,A1)\n",
    "    A2 = linear(Z2)\n",
    "    \n",
    "    cache.append(A1)\n",
    "    \n",
    "    return A2, cache"
   ]
  },
  {
   "cell_type": "markdown",
   "id": "6b77dc1f",
   "metadata": {},
   "source": [
    "#### Test latest function"
   ]
  },
  {
   "cell_type": "code",
   "execution_count": 6,
   "id": "46190d1c",
   "metadata": {},
   "outputs": [
    {
     "name": "stdout",
     "output_type": "stream",
     "text": [
      "(5, 1)\n",
      "(5, 1)\n",
      "(1, 5)\n",
      "(1, 1)\n"
     ]
    }
   ],
   "source": [
    "parameters = initialize_parameters([1,5,1])\n",
    "print(parameters[\"W1\"].shape)\n",
    "print(parameters[\"b1\"].shape)\n",
    "print(parameters[\"W2\"].shape)\n",
    "print(parameters[\"b2\"].shape)"
   ]
  },
  {
   "cell_type": "code",
   "execution_count": 7,
   "id": "b2f701d0",
   "metadata": {
    "scrolled": true
   },
   "outputs": [
    {
     "data": {
      "text/plain": [
       "<tf.Tensor: shape=(1, 5), dtype=float32, numpy=\n",
       "array([[ 0.00942882, -0.21110968, -0.37214005, -0.4682066 , -0.5210639 ]],\n",
       "      dtype=float32)>"
      ]
     },
     "execution_count": 7,
     "metadata": {},
     "output_type": "execute_result"
    }
   ],
   "source": [
    "X_test = tf.Variable(np.arange(5), dtype=tf.float32)\n",
    "X_test = tf.reshape(X_test, (1,5))\n",
    "N, cache = forward_propagation(X_test, parameters)\n",
    "N"
   ]
  },
  {
   "cell_type": "markdown",
   "id": "ff338992",
   "metadata": {},
   "source": [
    "### Cost function"
   ]
  },
  {
   "cell_type": "code",
   "execution_count": 8,
   "id": "062deaf5",
   "metadata": {},
   "outputs": [],
   "source": [
    "def compute_cost(X, N, cache, parameters):\n",
    "    '''\n",
    "        Compute the cost function of differential equation\n",
    "        \n",
    "        Inputs:\n",
    "        N -- output of forward propagation\n",
    "        \n",
    "        Return:\n",
    "        cost -- tensor of the cost function\n",
    "    '''\n",
    "    \n",
    "    W1 = parameters[\"W1\"]\n",
    "    b1 = parameters[\"b1\"]\n",
    "    W2 = parameters[\"W2\"]\n",
    "    b2 = parameters[\"b2\"]\n",
    "    \n",
    "    A1 = cache[0]\n",
    "    \n",
    "    dpsi_dx = N + tf.multiply(X, tf.linalg.matmul(tf.linalg.matmul(tf.transpose(1-A1), W1), tf.linalg.matmul(W2, A1)))\n",
    "    coeff_1 = tf.multiply(X + (1+3*tf.square(X))/(1+X+tf.pow(X,3)), 1 + tf.multiply(N,X))\n",
    "    coeff_2 = tf.pow(X,3) + 2*X + tf.multiply(tf.square(X), (1+3*tf.square(X))/(1+X+tf.pow(X,3)))\n",
    "    \n",
    "    cost = tf.reduce_sum(tf.square(dpsi_dx + coeff_1 - coeff_2))\n",
    "    \n",
    "    return cost"
   ]
  },
  {
   "cell_type": "markdown",
   "id": "3ac484fb",
   "metadata": {},
   "source": [
    "#### Test cost function"
   ]
  },
  {
   "cell_type": "code",
   "execution_count": 9,
   "id": "fa3833c4",
   "metadata": {},
   "outputs": [
    {
     "data": {
      "text/plain": [
       "<tf.Tensor: shape=(), dtype=float32, numpy=50236.21>"
      ]
     },
     "execution_count": 9,
     "metadata": {},
     "output_type": "execute_result"
    }
   ],
   "source": [
    "cost = compute_cost(X_test, N, cache, parameters)\n",
    "cost"
   ]
  },
  {
   "cell_type": "markdown",
   "id": "1331f2a5",
   "metadata": {},
   "source": [
    "## Neural Network model"
   ]
  },
  {
   "cell_type": "code",
   "execution_count": 10,
   "id": "73d91d49",
   "metadata": {},
   "outputs": [],
   "source": [
    "def model(X_train, shape, learning_rate=0.001, num_epochs = 1000, print_cost = False):\n",
    "    '''\n",
    "        Model definition of newral network for LINEAR -> SIGMOID -> LINEAR -> LINEAR\n",
    "        \n",
    "        Inputs:\n",
    "        X_train -- input dataset of points of domain\n",
    "        Y_train -- input dataset of points of analytic solution\n",
    "        X_test -- input dataset to test different points over domain\n",
    "        Y_test -- input dataset to test different points of analytic solution\n",
    "        num_epochs -- number of iterations to optimize\n",
    "        print_cost -- boolean variable to get cost\n",
    "        \n",
    "        Return:\n",
    "        parameters -- parameters learned by model \n",
    "    '''\n",
    "    \n",
    "    costs = []\n",
    "    \n",
    "    parameters = initialize_parameters(shape)\n",
    "    \n",
    "    W1 = parameters[\"W1\"]\n",
    "    b1 = parameters[\"b1\"]\n",
    "    W2 = parameters[\"W2\"]\n",
    "    b2 = parameters[\"b2\"]\n",
    "\n",
    "    optimizer = tf.keras.optimizers.Adam(learning_rate)\n",
    "    \n",
    "    for epoch in range(num_epochs):\n",
    "        \n",
    "        with tf.GradientTape() as tape:\n",
    "            N, cache = forward_propagation(X_train, parameters)\n",
    "            cost = compute_cost(X_train, N, cache, parameters)\n",
    "        \n",
    "        trainable_variables = [W1, b1, W2]\n",
    "        grads = tape.gradient(cost, trainable_variables)\n",
    "        optimizer.apply_gradients(zip(grads, trainable_variables))\n",
    "        \n",
    "    \n",
    "        if print_cost == True and epoch % 1000 == 0:\n",
    "            print (\"Cost after epoch %i: %f\" % (epoch, cost))\n",
    "            costs.append(cost)\n",
    "            \n",
    "\n",
    "    return parameters, costs, cache"
   ]
  },
  {
   "cell_type": "code",
   "execution_count": 17,
   "id": "acba0cf4",
   "metadata": {
    "scrolled": true
   },
   "outputs": [
    {
     "name": "stdout",
     "output_type": "stream",
     "text": [
      "Cost after epoch 0: 35234432.000000\n",
      "Cost after epoch 1000: 141803.031250\n",
      "Cost after epoch 2000: 52963.585938\n",
      "Cost after epoch 3000: 28430.062500\n",
      "Cost after epoch 4000: 17170.562500\n",
      "Cost after epoch 5000: 11044.811523\n",
      "Cost after epoch 6000: 7518.001465\n",
      "Cost after epoch 7000: 5440.861816\n",
      "Cost after epoch 8000: 4133.263672\n",
      "Cost after epoch 9000: 3233.457520\n",
      "Cost after epoch 10000: 2592.905762\n",
      "Cost after epoch 11000: 2138.980469\n",
      "Cost after epoch 12000: 1835.560547\n",
      "Cost after epoch 13000: 1605.911377\n",
      "Cost after epoch 14000: 1463.755981\n",
      "Cost after epoch 15000: 1356.160645\n",
      "Cost after epoch 16000: 1222.378784\n",
      "Cost after epoch 17000: 1124.525635\n",
      "Cost after epoch 18000: 1106.904541\n",
      "Cost after epoch 19000: 1021.097595\n",
      "Cost after epoch 20000: 917.453857\n"
     ]
    }
   ],
   "source": [
    "parameters, costs, cache = model(X_train, shape=shapes, learning_rate=0.005, num_epochs=20001, print_cost=True)"
   ]
  },
  {
   "cell_type": "code",
   "execution_count": 18,
   "id": "2057f7a4",
   "metadata": {
    "scrolled": true
   },
   "outputs": [
    {
     "data": {
      "text/plain": [
       "{'W1': <tf.Variable 'Variable:0' shape=(10, 1) dtype=float32, numpy=\n",
       " array([[ 0.09159368],\n",
       "        [ 0.03789729],\n",
       "        [ 0.08732653],\n",
       "        [ 0.17491966],\n",
       "        [ 0.05879046],\n",
       "        [-0.21271256],\n",
       "        [ 0.08284672],\n",
       "        [ 0.1273314 ],\n",
       "        [ 1.8380365 ],\n",
       "        [ 0.0271    ]], dtype=float32)>,\n",
       " 'b1': <tf.Variable 'Variable:0' shape=(10, 1) dtype=float32, numpy=\n",
       " array([[ -2.9723716 ],\n",
       "        [ -0.15819046],\n",
       "        [ -0.3685412 ],\n",
       "        [ -4.0700226 ],\n",
       "        [ -1.0887393 ],\n",
       "        [  1.0367167 ],\n",
       "        [  0.15989235],\n",
       "        [ -0.47388047],\n",
       "        [-13.705144  ],\n",
       "        [ -0.09383076]], dtype=float32)>,\n",
       " 'W2': <tf.Variable 'Variable:0' shape=(1, 10) dtype=float32, numpy=\n",
       " array([[ 1.3140559 ,  1.1992515 ,  3.1287355 ,  1.7680019 ,  1.7228943 ,\n",
       "         -9.022929  ,  3.17739   ,  4.87044   ,  4.0744677 ,  0.78771126]],\n",
       "       dtype=float32)>,\n",
       " 'b2': <tf.Variable 'Variable:0' shape=(1, 1) dtype=float32, numpy=array([[0.50065994]], dtype=float32)>}"
      ]
     },
     "execution_count": 18,
     "metadata": {},
     "output_type": "execute_result"
    }
   ],
   "source": [
    "parameters"
   ]
  },
  {
   "cell_type": "code",
   "execution_count": 22,
   "id": "23063531",
   "metadata": {},
   "outputs": [
    {
     "name": "stdout",
     "output_type": "stream",
     "text": [
      "tf.Tensor(\n",
      "[[ 1.          0.984501    0.97256666  0.9642141   0.95945996  0.9583212\n",
      "   0.9608146   0.9669564   0.97676384  0.9902522   1.0074384   1.0283382\n",
      "   1.0529677   1.0813422   1.113478    1.1493903   1.1890937   1.2326045\n",
      "   1.2799374   1.331107    1.3861265   1.4450138   1.5077796   1.57444\n",
      "   1.6450083   1.7194991   1.7979262   1.8803014   1.9666386   2.0569506\n",
      "   2.1512508   2.2495508   2.3518639   2.4582033   2.5685773   2.683002\n",
      "   2.8014863   2.9240432   3.0506823   3.181415    3.3162522   3.4552052\n",
      "   3.5982826   3.7454956   3.896857    4.05237     4.2120495   4.375904\n",
      "   4.5439425   4.7161703   4.8926044   5.073245    5.258107    5.4471974\n",
      "   5.640522    5.838091    6.0399137   6.245999    6.456351    6.6709843\n",
      "   6.8899035   7.1131163   7.3406324   7.572465    7.8086133   8.049096\n",
      "   8.293922    8.543096    8.796633    9.0545435   9.316839    9.583535\n",
      "   9.854643   10.1301775  10.410156   10.694595   10.983519   11.276938\n",
      "  11.574888   11.877382   12.184449   12.496134   12.812455   13.133457\n",
      "  13.459174   13.789662   14.124958   14.465125   14.810221   15.160315\n",
      "  15.515488   15.875812   16.241383   16.612305   16.988686   17.37065\n",
      "  17.758333   18.15188    18.551472   18.957275  ]], shape=(1, 100), dtype=float32)\n"
     ]
    },
    {
     "data": {
      "image/png": "[encoded data removed]",
      "text/plain": [
       "<Figure size 432x288 with 1 Axes>"
      ]
     },
     "metadata": {
      "needs_background": "light"
     },
     "output_type": "display_data"
    }
   ],
   "source": [
    "sol = 1 + tf.multiply(X_train, forward_propagation(X_train, parameters)[0])\n",
    "print(sol)\n",
    "plt.plot(X_train.numpy()[0], sol.numpy()[0], \"-b\", label=\"Predicted solution\")\n",
    "plt.plot(X_train.numpy()[0], Y_train.numpy()[0], \"-r\", label=\"Analytic solution\")\n",
    "plt.legend()\n",
    "plt.show()"
   ]
  },
  {
   "cell_type": "code",
   "execution_count": 20,
   "id": "abb8811f",
   "metadata": {
    "scrolled": true
   },
   "outputs": [
    {
     "data": {
      "text/plain": [
       "<tf.Tensor: shape=(1, 100), dtype=float32, numpy=\n",
       "array([[0.        , 0.03135699, 0.05957341, 0.08533269, 0.10907251,\n",
       "        0.13103598, 0.15131086, 0.16986233, 0.18656385, 0.20122248,\n",
       "        0.21360695, 0.22346842, 0.23056132, 0.23465848, 0.2355653 ,\n",
       "        0.23312593, 0.22722816, 0.21780694, 0.20483923, 0.18834257,\n",
       "        0.16836727, 0.14499831, 0.11833644, 0.08850551, 0.05563855,\n",
       "        0.01987708, 0.0186348 , 0.05975497, 0.10334182, 0.1492598 ,\n",
       "        0.19737768, 0.24757457, 0.2997346 , 0.3537495 , 0.40952444,\n",
       "        0.46696448, 0.5259893 , 0.58651996, 0.6484897 , 0.7118354 ,\n",
       "        0.7764993 , 0.84243035, 0.9095814 , 0.97791123, 1.0473783 ,\n",
       "        1.1179538 , 1.1896019 , 1.2622929 , 1.3360052 , 1.4107156 ,\n",
       "        1.4863973 , 1.563036  , 1.6406107 , 1.7191038 , 1.7985048 ,\n",
       "        1.8787951 , 1.9599628 , 2.0419936 , 2.1248775 , 2.2086    ,\n",
       "        2.2931514 , 2.3785229 , 2.4647026 , 2.5516758 , 2.639442  ,\n",
       "        2.7279816 , 2.8172817 , 2.907342  , 2.9981422 , 3.089675  ,\n",
       "        3.1819248 , 3.2748785 , 3.3685246 , 3.462843  , 3.5578232 ,\n",
       "        3.6534433 , 3.7496824 , 3.8465261 , 3.943943  , 4.041916  ,\n",
       "        4.140418  , 4.2394066 , 4.3388586 , 4.438732  , 4.538989  ,\n",
       "        4.6395807 , 4.7404633 , 4.8415785 , 4.9428673 , 5.0442543 ,\n",
       "        5.14567   , 5.247033  , 5.3482533 , 5.449217  , 5.5498295 ,\n",
       "        5.6499615 , 5.7494736 , 5.848219  , 5.9460278 , 6.0427246 ]],\n",
       "      dtype=float32)>"
      ]
     },
     "execution_count": 20,
     "metadata": {},
     "output_type": "execute_result"
    }
   ],
   "source": [
    "error = tf.abs(Y_train - sol)\n",
    "error"
   ]
  },
  {
   "cell_type": "code",
   "execution_count": 21,
   "id": "b279a306",
   "metadata": {},
   "outputs": [
    {
     "data": {
      "text/plain": [
       "0.8575937986904649"
      ]
     },
     "execution_count": 21,
     "metadata": {},
     "output_type": "execute_result"
    }
   ],
   "source": [
    "from sklearn.metrics import r2_score\n",
    "\n",
    "r2_score(np.squeeze(Y_train.numpy()), np.squeeze(sol.numpy()))"
   ]
  },
  {
   "cell_type": "code",
   "execution_count": null,
   "id": "b5370c6d",
   "metadata": {},
   "outputs": [],
   "source": []
  },
  {
   "cell_type": "code",
   "execution_count": null,
   "id": "d2102eae",
   "metadata": {},
   "outputs": [],
   "source": []
  },
  {
   "cell_type": "code",
   "execution_count": 16,
   "id": "4af193ba",
   "metadata": {},
   "outputs": [
    {
     "name": "stdout",
     "output_type": "stream",
     "text": [
      "Function evaluations: 5\n",
      "tf.Tensor([1. 1.], shape=(2,), dtype=float32)\n"
     ]
    }
   ],
   "source": [
    "import tensorflow_probability as tfp \n",
    "\n",
    "minimum = np.array([1.0, 1.0])  # The center of the quadratic bowl.\n",
    "scales = np.array([2.0, 3.0])  # The scales along the two axes.\n",
    "\n",
    "# The objective function and the gradient.\n",
    "def quadratic_loss_and_gradient(x):\n",
    "    return tfp.math.value_and_gradient(\n",
    "        lambda x: tf.reduce_sum(\n",
    "            scales * tf.math.squared_difference(x, minimum), axis=-1),\n",
    "        x)\n",
    "\n",
    "start = tf.constant([0.6, 0.8])  # Starting point for the search.\n",
    "optim_results = tfp.optimizer.bfgs_minimize(\n",
    "    quadratic_loss_and_gradient, initial_position=start, tolerance=1e-8)\n",
    "\n",
    "# Check that the search converged\n",
    "assert(optim_results.converged)Z2 = add(tf.linalg.matmul(W2,A1),b2)\n",
    "# Check that the argmin is close to the actual value.\n",
    "np.testing.assert_allclose(optim_results.position, minimum)\n",
    "# Print out the total number of function evaluations it took. Should be 5.\n",
    "print (\"Function evaluations: %d\" % optim_results.num_objective_evaluations)\n",
    "\n",
    "print(optim_results.position)"
   ]
  },
  {
   "cell_type": "code",
   "execution_count": null,
   "id": "f61c12fc",
   "metadata": {},
   "outputs": [],
   "source": []
  }
 ],
 "metadata": {
  "kernelspec": {
   "display_name": "Python 3 (ipykernel)",
   "language": "python",
   "name": "python3"
  },
  "language_info": {
   "codemirror_mode": {
    "name": "ipython",
    "version": 3
   },
   "file_extension": ".py",
   "mimetype": "text/x-python",
   "name": "python",
   "nbconvert_exporter": "python",
   "pygments_lexer": "ipython3",
   "version": "3.9.7"
  }
 },
 "nbformat": 4,
 "nbformat_minor": 5
}
