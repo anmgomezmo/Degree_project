{
 "cells": [
  {
   "cell_type": "code",
   "execution_count": 1,
   "id": "2ce8b944",
   "metadata": {},
   "outputs": [
    {
     "name": "stderr",
     "output_type": "stream",
     "text": [
      "2022-03-12 19:25:27.969833: W tensorflow/stream_executor/platform/default/dso_loader.cc:64] Could not load dynamic library 'libcudart.so.11.0'; dlerror: libcudart.so.11.0: cannot open shared object file: No such file or directory\n",
      "2022-03-12 19:25:27.969896: I tensorflow/stream_executor/cuda/cudart_stub.cc:29] Ignore above cudart dlerror if you do not have a GPU set up on your machine.\n"
     ]
    },
    {
     "data": {
      "text/plain": [
       "'2.8.0'"
      ]
     },
     "execution_count": 1,
     "metadata": {},
     "output_type": "execute_result"
    }
   ],
   "source": [
    "import numpy as np\n",
    "from matplotlib import pyplot as plt\n",
    "import tensorflow as tf\n",
    "from tensorflow.keras.activations import sigmoid, linear, relu\n",
    "from tensorflow.math import add, subtract\n",
    "from tensorflow.linalg import matmul\n",
    "\n",
    "tf.__version__"
   ]
  },
  {
   "cell_type": "markdown",
   "id": "ce279ac3",
   "metadata": {},
   "source": [
    "## Differential equation\n",
    "$$\\frac{d^2\\psi}{dx^2} + \\frac{1}{5}\\frac{d\\psi}{dx} + \\psi= -\\frac{1}{5}e^{-\\frac{x}{5}}\\cos{(x)}$$ \n",
    "Dataset are vectors of domain of differential equation, like the vectors are one-dimentional, the shape of dataset is one by m samples"
   ]
  },
  {
   "cell_type": "code",
   "execution_count": 2,
   "id": "997bc5cf",
   "metadata": {},
   "outputs": [],
   "source": [
    "def analytic_sol(x):\n",
    "    psi = tf.multiply(tf.exp(-x/5),tf.sin(x))\n",
    "    return psi"
   ]
  },
  {
   "cell_type": "markdown",
   "id": "cc67dc78",
   "metadata": {},
   "source": [
    "## Implementation Neural Network model\n",
    "\n",
    "Neural Network with one hidden layer with 10 hidden units and sigmoid activation, and one linear output unit."
   ]
  },
  {
   "cell_type": "markdown",
   "id": "9c220c0d",
   "metadata": {},
   "source": [
    "### Initialize random parameters and compute forward propagation"
   ]
  },
  {
   "cell_type": "code",
   "execution_count": 3,
   "id": "471cedad",
   "metadata": {},
   "outputs": [],
   "source": [
    "def initialize_parameters(shapes):\n",
    "    '''\n",
    "        Initialize parameters for Neural Network\n",
    "        \n",
    "        Input: \n",
    "        shape -- list of sizes for parameters\n",
    "        \n",
    "        Return:\n",
    "        parameters --  dictionary of tensors W1,b1,W2,b2,..... \n",
    "    '''\n",
    "    n_x, n_h, n_y = shapes\n",
    "    \n",
    "    initializer = tf.keras.initializers.GlorotNormal(seed=1)\n",
    "    \n",
    "    W1 = tf.Variable(initializer(shape=(n_h,n_x)))\n",
    "    b1 = tf.Variable(initializer(shape=(n_h,1)))\n",
    "    W2 = tf.Variable(initializer(shape=(n_y,n_h)))\n",
    "    b2 = tf.Variable(initializer(shape=(n_y,1)))\n",
    "    \n",
    "    parameters = {\"W1\": W1, \"b1\": b1, \"W2\": W2, \"b2\": b2}\n",
    "    \n",
    "    return parameters"
   ]
  },
  {
   "cell_type": "code",
   "execution_count": 12,
   "id": "f5ca6ad4",
   "metadata": {},
   "outputs": [],
   "source": [
    "def forward_propagation(X, parameters):\n",
    "    '''\n",
    "        Forward propagation for model LINEAR -> SIGMOID -> LINEAR -> LINEAR\n",
    "        \n",
    "        Inputs:\n",
    "        X -- input dataset with discrete points of domain of differential equation\n",
    "        \n",
    "        Return:\n",
    "        N -- single output feedforward neural network\n",
    "    '''\n",
    "    \n",
    "    cache = []\n",
    "    \n",
    "    W1 = parameters[\"W1\"]\n",
    "    b1 = parameters[\"b1\"]\n",
    "    W2 = parameters[\"W2\"]\n",
    "    b2 = parameters[\"b2\"]\n",
    "    \n",
    "    Z1 = add(tf.linalg.matmul(W1,X),b1)\n",
    "    A1 = sigmoid(Z1)\n",
    "    Z2 = add(tf.linalg.matmul(W2,A1),b2) # its posible compute with bias term b2\n",
    "    #Z2 = tf.linalg.matmul(W2,A1)\n",
    "    A2 = linear(Z2)\n",
    "    \n",
    "    cache.append(A1)\n",
    "    \n",
    "    return A2, cache"
   ]
  },
  {
   "cell_type": "markdown",
   "id": "20748d6a",
   "metadata": {},
   "source": [
    "### Cost function"
   ]
  },
  {
   "cell_type": "code",
   "execution_count": 13,
   "id": "1d866d07",
   "metadata": {},
   "outputs": [],
   "source": [
    "def compute_cost(X, N, cache, parameters):\n",
    "    '''\n",
    "        Compute the cost function of differential equation\n",
    "        \n",
    "        Inputs:\n",
    "        N -- output of forward propagation\n",
    "        \n",
    "        Return:\n",
    "        cost -- tensor of the cost function\n",
    "    '''\n",
    "    \n",
    "    W1 = parameters[\"W1\"]\n",
    "    b1 = parameters[\"b1\"]\n",
    "    W2 = parameters[\"W2\"]\n",
    "    b2 = parameters[\"b2\"]\n",
    "    \n",
    "    A1 = cache[0]\n",
    "    \n",
    "    psi = X + tf.multiply(tf.square(X), N)\n",
    "    dN_dx = tf.multiply(matmul(W2, W1), tf.multiply(A1, 1-A1))\n",
    "    d2N_dx2 = tf.multiply(matmul(W2, tf.square(W1)), tf.multiply(tf.multiply(A1, 1-A1), 1-2*A1))\n",
    "    dpsi_dx = 1 + 2*tf.multiply(X, N) + tf.multiply(tf.square(X), dN_dx)\n",
    "    d2psi_dx2 = 2*N + 4*tf.multiply(X, dN_dx) + tf.multiply(tf.square(X), d2N_dx2)\n",
    "    f_x = -(1/5)*tf.exp(-X/5)*tf.cos(X)\n",
    "    \n",
    "    cost = tf.reduce_sum(tf.square(d2psi_dx2 + (1/5)*dpsi_dx + psi -f_x))\n",
    "    \n",
    "    return cost"
   ]
  },
  {
   "cell_type": "markdown",
   "id": "fc3f2601",
   "metadata": {},
   "source": [
    "## Neural Network model"
   ]
  },
  {
   "cell_type": "code",
   "execution_count": 14,
   "id": "11fff31d",
   "metadata": {},
   "outputs": [],
   "source": [
    "def model(X_train, shape, learning_rate=0.001, num_epochs = 1000, print_cost = False):\n",
    "    '''\n",
    "        Model definition of newral network for LINEAR -> SIGMOID -> LINEAR -> LINEAR\n",
    "        \n",
    "        Inputs:\n",
    "        X_train -- input dataset of points of domain\n",
    "        Y_train -- input dataset of points of analytic solution\n",
    "        X_test -- input dataset to test different points over domain\n",
    "        Y_test -- input dataset to test different points of analytic solution\n",
    "        num_epochs -- number of iterations to optimize\n",
    "        print_cost -- boolean variable to get cost\n",
    "        \n",
    "        Return:\n",
    "        parameters -- parameters learned by model \n",
    "    '''\n",
    "    \n",
    "    costs = []\n",
    "    \n",
    "    parameters = initialize_parameters(shape)\n",
    "    \n",
    "    W1 = parameters[\"W1\"]\n",
    "    b1 = parameters[\"b1\"]\n",
    "    W2 = parameters[\"W2\"]\n",
    "    b2 = parameters[\"b2\"]\n",
    "\n",
    "    optimizer = tf.keras.optimizers.Adam(learning_rate)\n",
    "    \n",
    "    for epoch in range(num_epochs):\n",
    "        \n",
    "        with tf.GradientTape() as tape:\n",
    "            N, cache = forward_propagation(X_train, parameters)\n",
    "            cost = compute_cost(X_train, N, cache, parameters)\n",
    "        \n",
    "        trainable_variables = [W1, b1, W2, b2]\n",
    "        grads = tape.gradient(cost, trainable_variables)\n",
    "        optimizer.apply_gradients(zip(grads, trainable_variables))\n",
    "        \n",
    "    \n",
    "        if print_cost == True and epoch % 1000 == 0:\n",
    "            print (\"Cost after epoch %i: %f\" % (epoch, cost))\n",
    "            costs.append(cost)\n",
    "            \n",
    "\n",
    "    return parameters, costs, cache"
   ]
  },
  {
   "cell_type": "code",
   "execution_count": 15,
   "id": "2df997be",
   "metadata": {},
   "outputs": [
    {
     "name": "stdout",
     "output_type": "stream",
     "text": [
      "Train data x:\n",
      " tf.Tensor(\n",
      "[[0.         0.22222222 0.44444445 0.6666667  0.8888889  1.1111112\n",
      "  1.3333334  1.5555556  1.7777778  2.        ]], shape=(1, 10), dtype=float32)\n",
      "Train data y:\n",
      " tf.Tensor(\n",
      "[[0.         0.21081677 0.39338738 0.5411808  0.6499231  0.71761465\n",
      "  0.74443483 0.7325474  0.6858263  0.60952026]], shape=(1, 10), dtype=float32)\n",
      "<class 'tensorflow.python.framework.ops.EagerTensor'>\n",
      "<class 'tensorflow.python.framework.ops.EagerTensor'>\n"
     ]
    }
   ],
   "source": [
    "n_h = 10\n",
    "X_train = tf.constant(np.linspace(0,2,10), dtype=tf.float32)\n",
    "X_train = tf.reshape(X_train, (1, tf.shape(X_train)[0]))\n",
    "Y_train = analytic_sol(X_train)\n",
    "print(\"Train data x:\\n\",X_train)\n",
    "print(\"Train data y:\\n\",Y_train)\n",
    "print(type(X_train))\n",
    "print(type(Y_train))\n",
    "shapes = [tf.shape(X_train)[0],n_h,tf.shape(X_train)[0]]"
   ]
  },
  {
   "cell_type": "code",
   "execution_count": 20,
   "id": "df1422fb",
   "metadata": {},
   "outputs": [
    {
     "name": "stdout",
     "output_type": "stream",
     "text": [
      "Cost after epoch 0: 4872.495605\n",
      "Cost after epoch 1000: 1.662764\n",
      "Cost after epoch 2000: 1.553577\n",
      "Cost after epoch 3000: 1.454790\n",
      "Cost after epoch 4000: 1.274565\n",
      "Cost after epoch 5000: 0.875632\n",
      "Cost after epoch 6000: 0.510840\n",
      "Cost after epoch 7000: 0.314846\n",
      "Cost after epoch 8000: 0.231823\n",
      "Cost after epoch 9000: 0.146877\n",
      "Cost after epoch 10000: 0.058004\n",
      "Cost after epoch 11000: 0.038012\n",
      "Cost after epoch 12000: 0.032233\n",
      "Cost after epoch 13000: 0.028160\n",
      "Cost after epoch 14000: 0.020854\n",
      "Cost after epoch 15000: 0.054570\n"
     ]
    }
   ],
   "source": [
    "parameters, costs, cache = model(X_train, shape=shapes, learning_rate=0.005, num_epochs=15001, print_cost=True)"
   ]
  },
  {
   "cell_type": "code",
   "execution_count": 21,
   "id": "c2f85ad7",
   "metadata": {},
   "outputs": [
    {
     "name": "stdout",
     "output_type": "stream",
     "text": [
      "tf.Tensor(\n",
      "[[0.         0.20872666 0.38122502 0.51188767 0.6064075  0.67661005\n",
      "  0.7319565  0.77500653 0.80395246 0.8179107 ]], shape=(1, 10), dtype=float32)\n"
     ]
    },
    {
     "data": {
      "image/png": "[encoded data removed]",
      "text/plain": [
       "<Figure size 432x288 with 1 Axes>"
      ]
     },
     "metadata": {
      "needs_background": "light"
     },
     "output_type": "display_data"
    }
   ],
   "source": [
    "sol = X_train + tf.multiply(tf.square(X_train), forward_propagation(X_train, parameters)[0])\n",
    "print(sol)\n",
    "plt.plot(X_train.numpy()[0], sol.numpy()[0], \"ob\", label=\"Predicted solution\")\n",
    "plt.plot(X_train.numpy()[0], Y_train.numpy()[0], \"-r\", label=\"Analytic solution\")\n",
    "plt.legend()\n",
    "plt.show()"
   ]
  },
  {
   "cell_type": "code",
   "execution_count": 22,
   "id": "27d03654",
   "metadata": {},
   "outputs": [
    {
     "data": {
      "text/plain": [
       "<tf.Tensor: shape=(1, 10), dtype=float32, numpy=\n",
       "array([[0.        , 0.00209011, 0.01216236, 0.02929312, 0.04351556,\n",
       "        0.0410046 , 0.01247835, 0.04245913, 0.11812615, 0.20839041]],\n",
       "      dtype=float32)>"
      ]
     },
     "execution_count": 22,
     "metadata": {},
     "output_type": "execute_result"
    }
   ],
   "source": [
    "error = tf.abs(Y_train - sol)\n",
    "error"
   ]
  },
  {
   "cell_type": "code",
   "execution_count": 23,
   "id": "48f795f0",
   "metadata": {},
   "outputs": [
    {
     "data": {
      "text/plain": [
       "0.8876034426649085"
      ]
     },
     "execution_count": 23,
     "metadata": {},
     "output_type": "execute_result"
    }
   ],
   "source": [
    "from sklearn.metrics import r2_score\n",
    "\n",
    "r2_score(np.squeeze(Y_train.numpy()), np.squeeze(sol.numpy()))"
   ]
  },
  {
   "cell_type": "code",
   "execution_count": null,
   "id": "7bd8bf6b",
   "metadata": {},
   "outputs": [],
   "source": []
  }
 ],
 "metadata": {
  "kernelspec": {
   "display_name": "Python 3 (ipykernel)",
   "language": "python",
   "name": "python3"
  },
  "language_info": {
   "codemirror_mode": {
    "name": "ipython",
    "version": 3
   },
   "file_extension": ".py",
   "mimetype": "text/x-python",
   "name": "python",
   "nbconvert_exporter": "python",
   "pygments_lexer": "ipython3",
   "version": "3.9.7"
  }
 },
 "nbformat": 4,
 "nbformat_minor": 5
}
