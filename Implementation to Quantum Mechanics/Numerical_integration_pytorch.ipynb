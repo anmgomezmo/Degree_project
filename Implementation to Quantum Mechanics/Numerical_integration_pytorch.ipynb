{
 "cells": [
  {
   "cell_type": "code",
   "execution_count": 5,
   "id": "d6e8c005",
   "metadata": {},
   "outputs": [],
   "source": [
    "import torch\n",
    "import torch.nn as nn\n",
    "from torchquad import VEGAS \n",
    "import numpy as np "
   ]
  },
  {
   "cell_type": "code",
   "execution_count": 6,
   "id": "7b515125",
   "metadata": {},
   "outputs": [],
   "source": [
    "class NeuralNetwork(nn.Module):\n",
    "    def __init__(self):\n",
    "        super(NeuralNetwork, self).__init__()\n",
    "        self.layers = nn.Sequential(\n",
    "        nn.Linear(1,10),\n",
    "        nn.Sigmoid(),\n",
    "        nn.Linear(10,1, bias=False)\n",
    "        )\n",
    "        \n",
    "    def forward(self, x):\n",
    "        N = self.layers(x)\n",
    "        return N"
   ]
  },
  {
   "cell_type": "code",
   "execution_count": 8,
   "id": "b576bdd0",
   "metadata": {},
   "outputs": [],
   "source": [
    "model = NeuralNetwork()\n",
    "upper_r = 6\n",
    "lower_r = 1e-2\n",
    "steps = 100\n",
    "R_train = torch.Tensor(np.linspace(lower_r, upper_r, steps)[:,None])\n",
    "beta = 2\n",
    "global Z\n",
    "Z = 1\n",
    "global e\n",
    "#e = -1.602e-19\n",
    "e = -1\n",
    "global hbar\n",
    "#hbar = 1.054e-34\n",
    "hbar = 1\n",
    "global m\n",
    "#m = 9.109e-31\n",
    "m = 1\n",
    "global l\n",
    "l = 0\n",
    "V = lambda r: -(Z*e**2)/r\n",
    "Phi_t = lambda r: torch.exp(-beta*r**2) * model.forward(r)"
   ]
  },
  {
   "cell_type": "code",
   "execution_count": 11,
   "id": "3c40d2a5",
   "metadata": {},
   "outputs": [
    {
     "name": "stderr",
     "output_type": "stream",
     "text": [
      "/home/andresgo/anaconda3/lib/python3.9/site-packages/torchquad/integration/vegas_stratification.py:113: UserWarning: __floordiv__ is deprecated, and its behavior will change in a future version of pytorch. It currently rounds toward 0 (like the 'trunc' function NOT 'floor'). This results in incorrect rounding for negative values. To keep the current behavior, use torch.div(a, b, rounding_mode='trunc'), or for actual floor division, use torch.div(a, b, rounding_mode='floor').\n",
      "  q = tmp // self.N_strat\n",
      "21:01:09|TQ-INFO| Iteration 1, Acc=nan, Result=-2.8556e-01,neval=30\n",
      "21:01:09|TQ-INFO| Iteration 2, Acc=nan, Result=-3.5986e-01,neval=64\n",
      "21:01:09|TQ-INFO| Iteration 3, Acc=nan, Result=-2.7112e-01,neval=98\n",
      "21:01:09|TQ-INFO| Iteration 4, Acc=nan, Result=-1.9270e-01,neval=132\n",
      "21:01:09|TQ-INFO| Iteration 5, Acc=nan, Result=-2.3624e-01,neval=168\n",
      "21:01:09|TQ-INFO| Computed integral after 168 evals was -2.66436309e-01.\n"
     ]
    },
    {
     "data": {
      "text/plain": [
       "tensor(-0.2664, grad_fn=<DivBackward0>)"
      ]
     },
     "execution_count": 11,
     "metadata": {},
     "output_type": "execute_result"
    }
   ],
   "source": [
    "vg = VEGAS()\n",
    "integral_value = vg.integrate(Phi_t, dim=1, N=200, integration_domain=[[-6,6]])\n",
    "integral_value"
   ]
  },
  {
   "cell_type": "code",
   "execution_count": 18,
   "id": "d86d9f4f",
   "metadata": {},
   "outputs": [
    {
     "name": "stderr",
     "output_type": "stream",
     "text": [
      "21:05:02|TQ-INFO| Iteration 1, Acc=nan, Result=-3.3333e-01,neval=15000\n",
      "21:05:02|TQ-INFO| Iteration 2, Acc=nan, Result=-3.3333e-01,neval=25762\n",
      "21:05:02|TQ-INFO| Iteration 3, Acc=nan, Result=-3.3335e-01,neval=35046\n",
      "21:05:02|TQ-INFO| Iteration 4, Acc=nan, Result=-3.3333e-01,neval=44480\n",
      "21:05:02|TQ-INFO| Iteration 5, Acc=nan, Result=-3.3335e-01,neval=53860\n",
      "21:05:03|TQ-INFO| Iteration 6, Acc=nan, Result=-3.3334e-01,neval=73008\n",
      "21:05:03|TQ-INFO| Iteration 7, Acc=nan, Result=-3.3332e-01,neval=92122\n",
      "21:05:03|TQ-INFO| Computed integral after 92122 evals was -3.33336323e-01.\n"
     ]
    },
    {
     "data": {
      "text/plain": [
       "tensor(-0.3333)"
      ]
     },
     "execution_count": 18,
     "metadata": {},
     "output_type": "execute_result"
    }
   ],
   "source": [
    "f = lambda x: -x**2\n",
    "integral_value1 = vg.integrate(f, dim=1, N=100000, integration_domain=[[0,1]])\n",
    "integral_value1"
   ]
  },
  {
   "cell_type": "code",
   "execution_count": null,
   "id": "35a9ca6c",
   "metadata": {},
   "outputs": [],
   "source": []
  }
 ],
 "metadata": {
  "kernelspec": {
   "display_name": "Python 3 (ipykernel)",
   "language": "python",
   "name": "python3"
  },
  "language_info": {
   "codemirror_mode": {
    "name": "ipython",
    "version": 3
   },
   "file_extension": ".py",
   "mimetype": "text/x-python",
   "name": "python",
   "nbconvert_exporter": "python",
   "pygments_lexer": "ipython3",
   "version": "3.9.11"
  }
 },
 "nbformat": 4,
 "nbformat_minor": 5
}
