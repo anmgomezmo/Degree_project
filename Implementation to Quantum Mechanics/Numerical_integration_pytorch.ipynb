{
 "cells": [
  {
   "cell_type": "code",
   "execution_count": 1,
   "id": "07129452",
   "metadata": {},
   "outputs": [
    {
     "name": "stderr",
     "output_type": "stream",
     "text": [
      "20:43:13|TQ-INFO| Initializing torchquad.\n"
     ]
    }
   ],
   "source": [
    "import torch\n",
    "import torch.nn as nn\n",
    "from torchquad import VEGAS \n",
    "import numpy as np "
   ]
  },
  {
   "cell_type": "code",
   "execution_count": 2,
   "id": "4867ff63",
   "metadata": {},
   "outputs": [],
   "source": [
    "class NeuralNetwork(nn.Module):\n",
    "    def __init__(self):\n",
    "        super(NeuralNetwork, self).__init__()\n",
    "        self.layers = nn.Sequential(\n",
    "        nn.Linear(1,10),\n",
    "        nn.Sigmoid(),\n",
    "        nn.Linear(10,1, bias=False)\n",
    "        )\n",
    "        \n",
    "    def forward(self, x):\n",
    "        N = self.layers(x)\n",
    "        return N"
   ]
  },
  {
   "cell_type": "code",
   "execution_count": 3,
   "id": "99c8862b",
   "metadata": {},
   "outputs": [],
   "source": [
    "model = NeuralNetwork()\n",
    "upper_r = 6\n",
    "lower_r = 1e-2\n",
    "steps = 100\n",
    "R_train = torch.Tensor(np.linspace(lower_r, upper_r, steps)[:,None])\n",
    "beta = 2\n",
    "global Z\n",
    "Z = 1\n",
    "global e\n",
    "#e = -1.602e-19\n",
    "e = -1\n",
    "global hbar\n",
    "#hbar = 1.054e-34\n",
    "hbar = 1\n",
    "global m\n",
    "#m = 9.109e-31\n",
    "m = 1\n",
    "global l\n",
    "l = 0\n",
    "V = lambda r: -(Z*e**2)/r\n",
    "Phi_t = lambda r: torch.exp(-beta*r**2) * model.forward(r)"
   ]
  },
  {
   "cell_type": "code",
   "execution_count": 4,
   "id": "f39a9492",
   "metadata": {},
   "outputs": [
    {
     "name": "stderr",
     "output_type": "stream",
     "text": [
      "/home/andresgo/anaconda3/lib/python3.9/site-packages/torchquad/integration/vegas_stratification.py:113: UserWarning: __floordiv__ is deprecated, and its behavior will change in a future version of pytorch. It currently rounds toward 0 (like the 'trunc' function NOT 'floor'). This results in incorrect rounding for negative values. To keep the current behavior, use torch.div(a, b, rounding_mode='trunc'), or for actual floor division, use torch.div(a, b, rounding_mode='floor').\n",
      "  q = tmp // self.N_strat\n",
      "20:43:13|TQ-INFO| Iteration 1, Acc=nan, Result=-3.4758e-02,neval=30\n",
      "20:43:13|TQ-INFO| Iteration 2, Acc=1.9710e-01, Result=4.7876e-02,neval=64\n",
      "20:43:13|TQ-INFO| Iteration 3, Acc=1.6517e-01, Result=1.3952e-02,neval=94\n",
      "20:43:13|TQ-INFO| Iteration 4, Acc=1.7719e-01, Result=1.7693e-02,neval=128\n",
      "20:43:13|TQ-INFO| Iteration 5, Acc=8.0452e-02, Result=7.4551e-02,neval=162\n",
      "20:43:13|TQ-INFO| Iteration 6, Acc=5.2784e-02, Result=5.2946e-02,neval=216\n",
      "20:43:13|TQ-INFO| Computed integral after 216 evals was 5.29455021e-02.\n"
     ]
    },
    {
     "data": {
      "text/plain": [
       "tensor(0.0529, grad_fn=<DivBackward0>)"
      ]
     },
     "execution_count": 4,
     "metadata": {},
     "output_type": "execute_result"
    }
   ],
   "source": [
    "vg = VEGAS()\n",
    "integral_value = vg.integrate(Phi_t, dim=1, N=200, integration_domain=[[-6,6]])\n",
    "integral_value"
   ]
  },
  {
   "cell_type": "code",
   "execution_count": 5,
   "id": "f0f602e6",
   "metadata": {},
   "outputs": [
    {
     "name": "stderr",
     "output_type": "stream",
     "text": [
      "20:43:13|TQ-INFO| Iteration 1, Acc=nan, Result=-3.3334e-01,neval=15000\n",
      "20:43:13|TQ-INFO| Iteration 2, Acc=nan, Result=-3.3333e-01,neval=25682\n",
      "20:43:13|TQ-INFO| Iteration 3, Acc=nan, Result=-3.3333e-01,neval=34950\n",
      "20:43:14|TQ-INFO| Iteration 4, Acc=nan, Result=-3.3334e-01,neval=44406\n",
      "20:43:14|TQ-INFO| Iteration 5, Acc=nan, Result=-3.3335e-01,neval=53784\n",
      "20:43:14|TQ-INFO| Computed integral after 53784 evals was -3.33335161e-01.\n"
     ]
    },
    {
     "data": {
      "text/plain": [
       "tensor(-0.3333)"
      ]
     },
     "execution_count": 5,
     "metadata": {},
     "output_type": "execute_result"
    }
   ],
   "source": [
    "f = lambda x: -x**2\n",
    "integral_value1 = vg.integrate(f, dim=1, N=100000, integration_domain=[[0,1]])\n",
    "integral_value1"
   ]
  },
  {
   "cell_type": "code",
   "execution_count": 6,
   "id": "2e32172a",
   "metadata": {},
   "outputs": [
    {
     "name": "stderr",
     "output_type": "stream",
     "text": [
      "20:43:14|TQ-INFO| Iteration 1, Acc=7.4054e-07, Result=3.0802e-04,neval=15000\n",
      "20:43:14|TQ-INFO| Iteration 2, Acc=4.8778e-07, Result=3.0804e-04,neval=26560\n",
      "20:43:14|TQ-INFO| Iteration 3, Acc=1.3872e-06, Result=3.0807e-04,neval=35728\n",
      "20:43:14|TQ-INFO| Iteration 4, Acc=1.4192e-06, Result=3.0800e-04,neval=44944\n",
      "20:43:15|TQ-INFO| Iteration 5, Acc=2.0375e-06, Result=3.0800e-04,neval=54150\n",
      "20:43:15|TQ-INFO| Iteration 6, Acc=2.0292e-06, Result=3.0796e-04,neval=73264\n",
      "20:43:15|TQ-INFO| Iteration 7, Acc=2.2292e-06, Result=3.0800e-04,neval=92374\n",
      "20:43:15|TQ-INFO| Computed integral after 92374 evals was 3.07975773e-04.\n"
     ]
    },
    {
     "data": {
      "text/plain": [
       "tensor(0.0003, grad_fn=<DivBackward0>)"
      ]
     },
     "execution_count": 6,
     "metadata": {},
     "output_type": "execute_result"
    }
   ],
   "source": [
    "integral_value2 = vg.integrate(lambda r: Phi_t(r)**2, dim=1, N=100000, integration_domain=[[0,1]])\n",
    "integral_value2"
   ]
  },
  {
   "cell_type": "code",
   "execution_count": null,
   "id": "8cbb6e3b",
   "metadata": {},
   "outputs": [],
   "source": []
  },
  {
   "cell_type": "code",
   "execution_count": 7,
   "id": "4a61a79b",
   "metadata": {},
   "outputs": [
    {
     "name": "stdout",
     "output_type": "stream",
     "text": [
      "itn   integral        wgt average     chi2/dof        Q\n",
      "-------------------------------------------------------\n",
      "  1   0.34(12)        0.34(12)            0.00     1.00\n",
      "  2   0.94(12)        0.650(86)          12.41     0.00\n",
      "  3   0.901(65)       0.810(52)           8.90     0.00\n",
      "  4   0.917(54)       0.862(37)           6.63     0.00\n",
      "  5   0.954(34)       0.913(25)           5.82     0.00\n",
      "  6   1.014(25)       0.963(18)           6.27     0.00\n",
      "  7   0.994(18)       0.979(13)           5.48     0.00\n",
      "  8   1.021(16)       0.9954(98)          5.35     0.00\n",
      "  9   0.971(13)       0.9869(79)          4.96     0.00\n",
      " 10   1.012(11)       0.9951(65)          4.78     0.00\n",
      "\n",
      "result = 0.9951(65)    Q = 0.00\n"
     ]
    }
   ],
   "source": [
    "import vegas\n",
    "import math\n",
    "\n",
    "def f(x):\n",
    "    dx2 = 0\n",
    "    for d in range(4):\n",
    "        dx2 += (x[d] - 0.5) ** 2\n",
    "    return math.exp(-dx2 * 100.) * 1013.2118364296088\n",
    "\n",
    "integ = vegas.Integrator([[-1, 1], [0, 1], [0, 1], [0, 1]])\n",
    "\n",
    "result = integ(f, nitn=10, neval=1000)\n",
    "print(result.summary())\n",
    "print('result = %s    Q = %.2f' % (result, result.Q))"
   ]
  },
  {
   "cell_type": "code",
   "execution_count": 8,
   "id": "db3cbed8",
   "metadata": {},
   "outputs": [],
   "source": [
    "import torch.nn as nn\n",
    "import torch\n",
    "import numpy as np\n",
    "class NeuralNetwork(nn.Module):\n",
    "    def __init__(self):\n",
    "        super(NeuralNetwork, self).__init__()\n",
    "        self.layers = nn.Sequential(\n",
    "        nn.Linear(1,10),\n",
    "        nn.Sigmoid(),\n",
    "        nn.Linear(10,1, bias=False)\n",
    "        )\n",
    "        \n",
    "    def forward(self, x):\n",
    "        N = self.layers(x)\n",
    "        return N"
   ]
  },
  {
   "cell_type": "code",
   "execution_count": 9,
   "id": "eab88b7c",
   "metadata": {},
   "outputs": [],
   "source": [
    "model = NeuralNetwork()\n",
    "\n",
    "V = lambda r: -(Z*e**2)/r\n",
    "\n",
    "def Phi_t(r):\n",
    "    r = torch.Tensor(r)\n",
    "    return np.exp(-2*r**2) * model.forward(r).detach().numpy()"
   ]
  },
  {
   "cell_type": "code",
   "execution_count": 10,
   "id": "af418ec3",
   "metadata": {},
   "outputs": [
    {
     "data": {
      "text/plain": [
       "RAvgArray([0.45272(12)], dtype=object)"
      ]
     },
     "execution_count": 10,
     "metadata": {},
     "output_type": "execute_result"
    }
   ],
   "source": [
    "integ = vegas.Integrator([[-6,6]])\n",
    "result = integ(Phi_t, nitn=10, neval=1000)\n",
    "result"
   ]
  },
  {
   "cell_type": "code",
   "execution_count": 11,
   "id": "91de1113",
   "metadata": {},
   "outputs": [
    {
     "name": "stdout",
     "output_type": "stream",
     "text": [
      "[-1.7459(75)]\n"
     ]
    }
   ],
   "source": [
    "def initialize_weights(model):\n",
    "    for m in model.modules():\n",
    "        if isinstance(m, (nn.Linear)):\n",
    "            nn.init.kaiming_normal_(m.weight.data)\n",
    "\n",
    "model = NeuralNetwork()\n",
    "initialize_weights(model)\n",
    "result = integ(Phi_t, nitn=10, neval=200)\n",
    "print(result)"
   ]
  },
  {
   "cell_type": "code",
   "execution_count": 12,
   "id": "a535bb16",
   "metadata": {},
   "outputs": [
    {
     "name": "stdout",
     "output_type": "stream",
     "text": [
      "-1.7461(52)\n"
     ]
    }
   ],
   "source": [
    "result = integ(Phi_t, nitn=10, neval=200)\n",
    "print(np.squeeze(result))"
   ]
  },
  {
   "cell_type": "code",
   "execution_count": 13,
   "id": "76ae2bb6",
   "metadata": {},
   "outputs": [
    {
     "data": {
      "text/plain": [
       "[array([-1.783(38)], dtype=object),\n",
       " array([-1.771(16)], dtype=object),\n",
       " array([-1.868(82)], dtype=object),\n",
       " array([-1.762(16)], dtype=object),\n",
       " array([-1.762(15)], dtype=object),\n",
       " array([-1.744(13)], dtype=object),\n",
       " array([-1.738(12)], dtype=object),\n",
       " array([-1.724(10)], dtype=object),\n",
       " array([-1.757(45)], dtype=object),\n",
       " array([-1.809(55)], dtype=object)]"
      ]
     },
     "execution_count": 13,
     "metadata": {},
     "output_type": "execute_result"
    }
   ],
   "source": [
    "result.itn_results"
   ]
  },
  {
   "cell_type": "code",
   "execution_count": 14,
   "id": "e8c87c50",
   "metadata": {},
   "outputs": [
    {
     "data": {
      "text/plain": [
       "'-1.7461(52'"
      ]
     },
     "execution_count": 14,
     "metadata": {},
     "output_type": "execute_result"
    }
   ],
   "source": [
    "str(np.squeeze(result)).rstrip('()')"
   ]
  },
  {
   "cell_type": "code",
   "execution_count": 15,
   "id": "15881f53",
   "metadata": {},
   "outputs": [
    {
     "data": {
      "text/plain": [
       "RAvgArray([-1.7753(62)], dtype=object)"
      ]
     },
     "execution_count": 15,
     "metadata": {},
     "output_type": "execute_result"
    }
   ],
   "source": [
    "result = integ(Phi_t, nitn=10, neval=200)\n",
    "np.squeeze(result).flatten()"
   ]
  },
  {
   "cell_type": "code",
   "execution_count": 16,
   "id": "d6b5b501",
   "metadata": {},
   "outputs": [
    {
     "data": {
      "text/plain": [
       "'-1.7753(62)'"
      ]
     },
     "execution_count": 16,
     "metadata": {},
     "output_type": "execute_result"
    }
   ],
   "source": [
    "import re\n",
    "\n",
    "n = str(np.squeeze(result))\n",
    "n"
   ]
  },
  {
   "cell_type": "code",
   "execution_count": 17,
   "id": "d317b820",
   "metadata": {},
   "outputs": [
    {
     "data": {
      "text/plain": [
       "<re.Match object; span=(1, 7), match='1.7753'>"
      ]
     },
     "execution_count": 17,
     "metadata": {},
     "output_type": "execute_result"
    }
   ],
   "source": [
    "m = re.search(\"\\d\\S\\d*\", n)\n",
    "m"
   ]
  },
  {
   "cell_type": "code",
   "execution_count": 18,
   "id": "1cbd6673",
   "metadata": {},
   "outputs": [
    {
     "data": {
      "text/plain": [
       "str"
      ]
     },
     "execution_count": 18,
     "metadata": {},
     "output_type": "execute_result"
    }
   ],
   "source": [
    "type(re.search(\"\\d\\S\\d*\", str(np.squeeze(result)))[0])"
   ]
  },
  {
   "cell_type": "code",
   "execution_count": 19,
   "id": "4e9aa633",
   "metadata": {},
   "outputs": [
    {
     "data": {
      "text/plain": [
       "array(1.7753)"
      ]
     },
     "execution_count": 19,
     "metadata": {},
     "output_type": "execute_result"
    }
   ],
   "source": [
    "np.array(float(re.search(\"\\d\\S\\d*\", str(np.squeeze(result)))[0]))"
   ]
  },
  {
   "cell_type": "code",
   "execution_count": 20,
   "id": "bd943bb0",
   "metadata": {},
   "outputs": [
    {
     "data": {
      "text/plain": [
       "numpy.ndarray"
      ]
     },
     "execution_count": 20,
     "metadata": {},
     "output_type": "execute_result"
    }
   ],
   "source": [
    "type(np.array(float(re.search(\"\\d\\S\\d*\", str(np.squeeze(result)))[0])))"
   ]
  },
  {
   "cell_type": "code",
   "execution_count": 21,
   "id": "d434cd34",
   "metadata": {},
   "outputs": [
    {
     "data": {
      "text/plain": [
       "tensor(1.7753)"
      ]
     },
     "execution_count": 21,
     "metadata": {},
     "output_type": "execute_result"
    }
   ],
   "source": [
    "torch.Tensor(np.array(float(re.search(\"\\d\\S\\d*\", str(np.squeeze(result)))[0])))"
   ]
  },
  {
   "cell_type": "code",
   "execution_count": 22,
   "id": "81ab8e2b",
   "metadata": {},
   "outputs": [
    {
     "data": {
      "text/plain": [
       "1.7753"
      ]
     },
     "execution_count": 22,
     "metadata": {},
     "output_type": "execute_result"
    }
   ],
   "source": [
    "float(re.search(\"\\d\\S\\d*\", str(np.squeeze(result)))[0])"
   ]
  },
  {
   "cell_type": "code",
   "execution_count": 23,
   "id": "118b5132",
   "metadata": {},
   "outputs": [
    {
     "data": {
      "text/plain": [
       "torch.Tensor"
      ]
     },
     "execution_count": 23,
     "metadata": {},
     "output_type": "execute_result"
    }
   ],
   "source": [
    "type(torch.Tensor(np.array(float(re.search(\"\\d\\S\\d*\", str(np.squeeze(result)))[0]))))"
   ]
  },
  {
   "cell_type": "code",
   "execution_count": null,
   "id": "fc755c3b",
   "metadata": {},
   "outputs": [],
   "source": []
  }
 ],
 "metadata": {
  "kernelspec": {
   "display_name": "Python 3 (ipykernel)",
   "language": "python",
   "name": "python3"
  },
  "language_info": {
   "codemirror_mode": {
    "name": "ipython",
    "version": 3
   },
   "file_extension": ".py",
   "mimetype": "text/x-python",
   "name": "python",
   "nbconvert_exporter": "python",
   "pygments_lexer": "ipython3",
   "version": "3.9.11"
  }
 },
 "nbformat": 4,
 "nbformat_minor": 5
}
