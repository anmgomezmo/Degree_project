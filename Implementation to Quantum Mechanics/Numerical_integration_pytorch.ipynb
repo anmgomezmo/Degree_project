{
 "cells": [
  {
   "cell_type": "code",
   "execution_count": 1,
   "id": "07129452",
   "metadata": {},
   "outputs": [
    {
     "name": "stderr",
     "output_type": "stream",
     "text": [
      "18:14:20|TQ-INFO| Initializing torchquad.\n"
     ]
    }
   ],
   "source": [
    "import torch\n",
    "import torch.nn as nn\n",
    "from torchquad import VEGAS \n",
    "import numpy as np "
   ]
  },
  {
   "cell_type": "code",
   "execution_count": 2,
   "id": "4867ff63",
   "metadata": {},
   "outputs": [],
   "source": [
    "class NeuralNetwork(nn.Module):\n",
    "    def __init__(self):\n",
    "        super(NeuralNetwork, self).__init__()\n",
    "        self.layers = nn.Sequential(\n",
    "        nn.Linear(1,10),\n",
    "        nn.Sigmoid(),\n",
    "        nn.Linear(10,1, bias=False)\n",
    "        )\n",
    "        \n",
    "    def forward(self, x):\n",
    "        N = self.layers(x)\n",
    "        return N"
   ]
  },
  {
   "cell_type": "code",
   "execution_count": 3,
   "id": "99c8862b",
   "metadata": {},
   "outputs": [],
   "source": [
    "model = NeuralNetwork()\n",
    "upper_r = 6\n",
    "lower_r = 1e-2\n",
    "steps = 100\n",
    "R_train = torch.Tensor(np.linspace(lower_r, upper_r, steps)[:,None])\n",
    "beta = 2\n",
    "global Z\n",
    "Z = 1\n",
    "global e\n",
    "#e = -1.602e-19\n",
    "e = -1\n",
    "global hbar\n",
    "#hbar = 1.054e-34\n",
    "hbar = 1\n",
    "global m\n",
    "#m = 9.109e-31\n",
    "m = 1\n",
    "global l\n",
    "l = 0\n",
    "V = lambda r: -(Z*e**2)/r\n",
    "Phi_t = lambda r: torch.exp(-beta*r**2) * model.forward(r)"
   ]
  },
  {
   "cell_type": "code",
   "execution_count": 4,
   "id": "f39a9492",
   "metadata": {},
   "outputs": [
    {
     "name": "stderr",
     "output_type": "stream",
     "text": [
      "/home/andresgo/anaconda3/lib/python3.9/site-packages/torchquad/integration/vegas_stratification.py:113: UserWarning: __floordiv__ is deprecated, and its behavior will change in a future version of pytorch. It currently rounds toward 0 (like the 'trunc' function NOT 'floor'). This results in incorrect rounding for negative values. To keep the current behavior, use torch.div(a, b, rounding_mode='trunc'), or for actual floor division, use torch.div(a, b, rounding_mode='floor').\n",
      "  q = tmp // self.N_strat\n",
      "18:14:20|TQ-INFO| Iteration 1, Acc=nan, Result=-3.6274e-01,neval=30\n",
      "18:14:20|TQ-INFO| Iteration 2, Acc=nan, Result=-1.7175e-01,neval=64\n",
      "18:14:20|TQ-INFO| Iteration 3, Acc=nan, Result=-2.5581e-01,neval=98\n",
      "18:14:20|TQ-INFO| Iteration 4, Acc=nan, Result=-4.3818e-01,neval=132\n",
      "18:14:20|TQ-INFO| Iteration 5, Acc=nan, Result=-4.9716e-01,neval=162\n",
      "18:14:20|TQ-INFO| Iteration 6, Acc=nan, Result=-3.2262e-01,neval=216\n",
      "18:14:20|TQ-INFO| Computed integral after 216 evals was -3.22624654e-01.\n"
     ]
    },
    {
     "data": {
      "text/plain": [
       "tensor(-0.3226, grad_fn=<DivBackward0>)"
      ]
     },
     "execution_count": 4,
     "metadata": {},
     "output_type": "execute_result"
    }
   ],
   "source": [
    "vg = VEGAS()\n",
    "integral_value = vg.integrate(Phi_t, dim=1, N=200, integration_domain=[[-6,6]])\n",
    "integral_value"
   ]
  },
  {
   "cell_type": "code",
   "execution_count": 5,
   "id": "f0f602e6",
   "metadata": {},
   "outputs": [
    {
     "name": "stderr",
     "output_type": "stream",
     "text": [
      "18:14:20|TQ-INFO| Iteration 1, Acc=nan, Result=-3.3333e-01,neval=15000\n",
      "18:14:20|TQ-INFO| Iteration 2, Acc=nan, Result=-3.3334e-01,neval=25910\n",
      "18:14:21|TQ-INFO| Iteration 3, Acc=nan, Result=-3.3332e-01,neval=35248\n",
      "18:14:21|TQ-INFO| Iteration 4, Acc=nan, Result=-3.3334e-01,neval=44652\n",
      "18:14:21|TQ-INFO| Iteration 5, Acc=nan, Result=-3.3334e-01,neval=54022\n",
      "18:14:21|TQ-INFO| Iteration 6, Acc=nan, Result=-3.3330e-01,neval=73100\n",
      "18:14:21|TQ-INFO| Iteration 7, Acc=nan, Result=-3.3332e-01,neval=92240\n",
      "18:14:21|TQ-INFO| Computed integral after 92240 evals was -3.33310425e-01.\n"
     ]
    },
    {
     "data": {
      "text/plain": [
       "tensor(-0.3333)"
      ]
     },
     "execution_count": 5,
     "metadata": {},
     "output_type": "execute_result"
    }
   ],
   "source": [
    "f = lambda x: -x**2\n",
    "integral_value1 = vg.integrate(f, dim=1, N=100000, integration_domain=[[0,1]])\n",
    "integral_value1"
   ]
  },
  {
   "cell_type": "code",
   "execution_count": 6,
   "id": "2e32172a",
   "metadata": {},
   "outputs": [
    {
     "name": "stderr",
     "output_type": "stream",
     "text": [
      "18:14:21|TQ-INFO| Iteration 1, Acc=1.7273e-06, Result=3.6978e-02,neval=15000\n",
      "18:14:21|TQ-INFO| Iteration 2, Acc=1.2380e-06, Result=3.6978e-02,neval=26184\n",
      "18:14:21|TQ-INFO| Iteration 3, Acc=2.7876e-06, Result=3.6979e-02,neval=35404\n",
      "18:14:22|TQ-INFO| Iteration 4, Acc=3.0977e-06, Result=3.6980e-02,neval=44854\n",
      "18:14:22|TQ-INFO| Iteration 5, Acc=3.9321e-06, Result=3.6978e-02,neval=54264\n",
      "18:14:22|TQ-INFO| Iteration 6, Acc=4.2156e-06, Result=3.6978e-02,neval=73256\n",
      "18:14:22|TQ-INFO| Iteration 7, Acc=4.7325e-06, Result=3.6980e-02,neval=92308\n",
      "18:14:22|TQ-INFO| Computed integral after 92308 evals was 3.69788334e-02.\n"
     ]
    },
    {
     "data": {
      "text/plain": [
       "tensor(0.0370, grad_fn=<DivBackward0>)"
      ]
     },
     "execution_count": 6,
     "metadata": {},
     "output_type": "execute_result"
    }
   ],
   "source": [
    "integral_value2 = vg.integrate(lambda r: Phi_t(r)**2, dim=1, N=100000, integration_domain=[[0,1]])\n",
    "integral_value2"
   ]
  },
  {
   "cell_type": "code",
   "execution_count": null,
   "id": "8cbb6e3b",
   "metadata": {},
   "outputs": [],
   "source": []
  },
  {
   "cell_type": "code",
   "execution_count": 7,
   "id": "619b315b",
   "metadata": {},
   "outputs": [
    {
     "name": "stdout",
     "output_type": "stream",
     "text": [
      "itn   integral        wgt average     chi2/dof        Q\n",
      "-------------------------------------------------------\n",
      "  1   0.85(49)        0.85(49)            0.00     1.00\n",
      "  2   0.793(75)       0.794(74)           0.01     0.91\n",
      "  3   1.07(18)        0.833(69)           0.97     0.38\n",
      "  4   1.100(75)       0.955(51)           2.95     0.03\n",
      "  5   1.016(33)       0.998(28)           2.46     0.04\n",
      "  6   0.999(24)       0.998(18)           1.97     0.08\n",
      "  7   0.985(19)       0.992(13)           1.68     0.12\n",
      "  8   1.024(15)       1.0061(98)          1.82     0.08\n",
      "  9   0.989(14)       1.0005(80)          1.71     0.09\n",
      " 10   0.990(12)       0.9970(66)          1.58     0.11\n",
      "\n",
      "result = 0.9970(66)    Q = 0.11\n"
     ]
    }
   ],
   "source": [
    "import vegas\n",
    "import math\n",
    "\n",
    "def f(x):\n",
    "    dx2 = 0\n",
    "    for d in range(4):\n",
    "        dx2 += (x[d] - 0.5) ** 2\n",
    "    return math.exp(-dx2 * 100.) * 1013.2118364296088\n",
    "\n",
    "integ = vegas.Integrator([[-1, 1], [0, 1], [0, 1], [0, 1]])\n",
    "\n",
    "result = integ(f, nitn=10, neval=1000)\n",
    "print(result.summary())\n",
    "print('result = %s    Q = %.2f' % (result, result.Q))"
   ]
  },
  {
   "cell_type": "code",
   "execution_count": 8,
   "id": "40f84849",
   "metadata": {},
   "outputs": [],
   "source": [
    "import torch.nn as nn\n",
    "import torch\n",
    "import numpy as np\n",
    "class NeuralNetwork(nn.Module):\n",
    "    def __init__(self):\n",
    "        super(NeuralNetwork, self).__init__()\n",
    "        self.layers = nn.Sequential(\n",
    "        nn.Linear(1,10),\n",
    "        nn.Sigmoid(),\n",
    "        nn.Linear(10,1, bias=False)\n",
    "        )\n",
    "        \n",
    "    def forward(self, x):\n",
    "        N = self.layers(x)\n",
    "        return N"
   ]
  },
  {
   "cell_type": "code",
   "execution_count": 9,
   "id": "e8f41bb9",
   "metadata": {},
   "outputs": [],
   "source": [
    "model = NeuralNetwork()\n",
    "\n",
    "V = lambda r: -(Z*e**2)/r\n",
    "\n",
    "def Phi_t(r):\n",
    "    r = torch.Tensor(r)\n",
    "    return torch.exp(-2*r**2) * model.forward(r).detach().numpy()"
   ]
  },
  {
   "cell_type": "code",
   "execution_count": 10,
   "id": "a354bb34",
   "metadata": {},
   "outputs": [
    {
     "data": {
      "text/plain": [
       "RAvgArray([0.172132(45)], dtype=object)"
      ]
     },
     "execution_count": 10,
     "metadata": {},
     "output_type": "execute_result"
    }
   ],
   "source": [
    "integ = vegas.Integrator([[-6,6]])\n",
    "result = integ(Phi_t, nitn=10, neval=1000)\n",
    "result"
   ]
  },
  {
   "cell_type": "code",
   "execution_count": 11,
   "id": "bb704206",
   "metadata": {},
   "outputs": [
    {
     "data": {
      "text/plain": [
       "RAvgArray([0.83618(33)], dtype=object)"
      ]
     },
     "execution_count": 11,
     "metadata": {},
     "output_type": "execute_result"
    }
   ],
   "source": [
    "def initialize_weights(model):\n",
    "    for m in model.modules():\n",
    "        if isinstance(m, (nn.Linear)):\n",
    "            nn.init.kaiming_normal_(m.weight.data)\n",
    "\n",
    "model = NeuralNetwork()\n",
    "initialize_weights(model)\n",
    "result = integ(Phi_t, nitn=10, neval=1000)\n",
    "result"
   ]
  },
  {
   "cell_type": "code",
   "execution_count": null,
   "id": "3f58066f",
   "metadata": {},
   "outputs": [],
   "source": []
  }
 ],
 "metadata": {
  "kernelspec": {
   "display_name": "Python 3 (ipykernel)",
   "language": "python",
   "name": "python3"
  },
  "language_info": {
   "codemirror_mode": {
    "name": "ipython",
    "version": 3
   },
   "file_extension": ".py",
   "mimetype": "text/x-python",
   "name": "python",
   "nbconvert_exporter": "python",
   "pygments_lexer": "ipython3",
   "version": "3.9.11"
  }
 },
 "nbformat": 4,
 "nbformat_minor": 5
}
