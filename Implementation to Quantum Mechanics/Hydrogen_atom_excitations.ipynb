{
 "cells": [
  {
   "cell_type": "code",
   "execution_count": 36,
   "id": "3c0a5f55",
   "metadata": {},
   "outputs": [
    {
     "data": {
      "text/plain": [
       "'cpu'"
      ]
     },
     "execution_count": 36,
     "metadata": {},
     "output_type": "execute_result"
    }
   ],
   "source": [
    "import torch\n",
    "from torch import nn\n",
    "import matplotlib.pyplot as plt\n",
    "import numpy as np\n",
    "from torchquad import VEGAS, MonteCarlo\n",
    "\n",
    "#device = torch.device(\"cuda:0\" if torch.cuda.is_available() else \"cpu\")\n",
    "device = \"cpu\"\n",
    "device"
   ]
  },
  {
   "cell_type": "markdown",
   "id": "120e12da",
   "metadata": {},
   "source": [
    "## Neural Network Model"
   ]
  },
  {
   "cell_type": "code",
   "execution_count": 37,
   "id": "0688a939",
   "metadata": {},
   "outputs": [],
   "source": [
    "class NeuralNetwork(nn.Module):\n",
    "    def __init__(self):\n",
    "        super(NeuralNetwork, self).__init__()\n",
    "        self.layers = nn.Sequential(\n",
    "        nn.Linear(1,10),\n",
    "        nn.Sigmoid(),\n",
    "        nn.Linear(10,1, bias=False)\n",
    "        )\n",
    "        \n",
    "    def forward(self, x):\n",
    "        N = self.layers(x)\n",
    "        return N"
   ]
  },
  {
   "cell_type": "code",
   "execution_count": 38,
   "id": "bb3f158c",
   "metadata": {},
   "outputs": [],
   "source": [
    "def training(x, loss_fn, optimizer):\n",
    "    x = x.to(device)\n",
    "    def closure():\n",
    "        loss = loss_fn(x)\n",
    "        optimizer.zero_grad()\n",
    "        loss.backward()\n",
    "        return loss\n",
    "    torch.nn.utils.clip_grad_value_(model.parameters(), 10)\n",
    "    optimizer.step(closure)"
   ]
  },
  {
   "cell_type": "markdown",
   "id": "a1083422",
   "metadata": {},
   "source": [
    "### Differential equation\n",
    "$$\\frac{d^2\\phi(r)}{dr^2} + \\frac{2m}{\\hbar^2}\\left(E-\\frac{l(l+1)}{2mr^2}\\hbar^2+V(r)\\right)\\phi(r) = 0$$ \n",
    "Dataset are vectors of domain of differential equation, like the vectors are one-dimentional, the shape of dataset is one by m samples. Trial solution $\\phi_t(r) = e^{-\\beta r^2}N(r,\\vec{p})$, with $\\phi(r=0) = 0$ and $\\phi(r\\rightarrow\\infty) = 0$ as boundary conditions.  "
   ]
  },
  {
   "cell_type": "code",
   "execution_count": 39,
   "id": "1d877d70",
   "metadata": {},
   "outputs": [
    {
     "data": {
      "text/plain": [
       "NeuralNetwork(\n",
       "  (layers): Sequential(\n",
       "    (0): Linear(in_features=1, out_features=10, bias=True)\n",
       "    (1): Sigmoid()\n",
       "    (2): Linear(in_features=10, out_features=1, bias=False)\n",
       "  )\n",
       ")"
      ]
     },
     "execution_count": 39,
     "metadata": {},
     "output_type": "execute_result"
    }
   ],
   "source": [
    "model = NeuralNetwork().to(device)\n",
    "model"
   ]
  },
  {
   "cell_type": "code",
   "execution_count": 40,
   "id": "498a4cb2",
   "metadata": {},
   "outputs": [],
   "source": [
    "global E\n",
    "beta = 2\n",
    "global Z\n",
    "Z = 1\n",
    "global e\n",
    "#e = -1.602e-19\n",
    "e = -1\n",
    "global hbar\n",
    "#hbar = 1.054e-34\n",
    "hbar = 1\n",
    "global m\n",
    "#m = 9.109e-31\n",
    "m = 1\n",
    "global l\n",
    "l = 0\n",
    "\n",
    "V = lambda r: -(Z*e**2)/r\n",
    "Phi_t = lambda r: torch.exp(-beta*r**2) * model.forward(r)\n",
    "\n",
    "global integrator\n",
    "integrator = VEGAS()"
   ]
  },
  {
   "cell_type": "code",
   "execution_count": 41,
   "id": "2d572494",
   "metadata": {},
   "outputs": [],
   "source": [
    "def initialize_weights(model):\n",
    "    for m in model.modules():\n",
    "        if isinstance(m, (nn.Linear)):\n",
    "            nn.init.xavier_normal_(m.weight.data,0.01)"
   ]
  },
  {
   "cell_type": "code",
   "execution_count": 44,
   "id": "346e914d",
   "metadata": {},
   "outputs": [],
   "source": [
    "def loss_fn(r):\n",
    "    r.requires_grad = True\n",
    "    \n",
    "    Phi = Phi_t(r)\n",
    "    Phi_t_r = torch.autograd.grad(Phi, r, grad_outputs=torch.ones_like(Phi), create_graph=True)[0]\n",
    "    Phi_t_r_r = torch.autograd.grad(Phi_t_r, r, grad_outputs=torch.ones_like(Phi_t_r), create_graph=True)[0]\n",
    "    H_Phi_t = -(hbar**2/(2*m))*Phi_t_r_r + (l*(l+1)*hbar**2/(2*m*r**2) + V(r))*Phi\n",
    "    \n",
    "    prom = Phi.size()[0]\n",
    "    \n",
    "    norm = integrator.integrate(lambda r_aux: Phi_t(r_aux)**2, dim=1, \n",
    "                        N=len(r), integration_domain=[[r[0],r[-1]]])/2 # integral over r=-6 to 6\n",
    "    #norm = integrator.integrate(lambda r_aux: Phi_t(r_aux)**2, dim=1, \n",
    "                        #N=int(len(r)/2), integration_domain=[[r[int(len(r)/2)],r[-1]]]) # integral over r=0 to 6\n",
    "    #norm = integrator.integrate(lambda r_aux: Phi_t(r_aux)**2, dim=1, \n",
    "                        #N=int(len(r)), integration_domain=[[r[0],r[-1]]]) # integral over r=0 to 6\n",
    "    \n",
    "    global E\n",
    "    E = integrator.integrate(lambda r_aux: torch.mul(Phi_t(r_aux),H_Phi_t), dim=1, \n",
    "                     N=len(r), integration_domain=[[r[0],r[-1]]]) / (2*norm) \n",
    "    #E = integrator.integrate(lambda r_aux: Phi_t(r_aux)[100:]*H_Phi_t[100:], dim=1, \n",
    "                     #N=int(len(r)/2), integration_domain=[[r[int(len(r)/2)],r[-1]]]) / norm \n",
    "    #E = integrator.integrate(lambda r_aux: Phi_t(r_aux)*H_Phi_t, dim=1, \n",
    "                     #N=int(len(r)), integration_domain=[[r[0],r[-1]]]) / norm \n",
    "    \n",
    "    return (torch.mean((H_Phi_t - E*Phi)**2)*prom)/norm #multiply by m to avoit division by m in the mean function of torh "
   ]
  },
  {
   "cell_type": "code",
   "execution_count": 45,
   "id": "0b12d96d",
   "metadata": {
    "scrolled": true
   },
   "outputs": [
    {
     "name": "stderr",
     "output_type": "stream",
     "text": [
      "20:45:51|TQ-INFO| Iteration 1, Acc=nan, Result=nan,neval=30\n",
      "20:45:51|TQ-INFO| Iteration 2, Acc=nan, Result=nan,neval=50\n",
      "20:45:51|TQ-INFO| Iteration 3, Acc=nan, Result=nan,neval=70\n",
      "20:45:51|TQ-INFO| Iteration 4, Acc=nan, Result=nan,neval=90\n",
      "20:45:51|TQ-INFO| Iteration 5, Acc=nan, Result=nan,neval=110\n",
      "20:45:51|TQ-INFO| Iteration 6, Acc=nan, Result=nan,neval=130\n",
      "20:45:51|TQ-INFO| Iteration 7, Acc=nan, Result=nan,neval=150\n",
      "20:45:51|TQ-INFO| Iteration 8, Acc=nan, Result=nan,neval=170\n",
      "20:45:51|TQ-INFO| Iteration 9, Acc=nan, Result=nan,neval=190\n",
      "20:45:51|TQ-INFO| Iteration 10, Acc=nan, Result=nan,neval=210\n",
      "20:45:51|TQ-INFO| Computed integral after 210 evals was nan.\n"
     ]
    },
    {
     "ename": "RuntimeError",
     "evalue": "The size of tensor a (2) must match the size of tensor b (200) at non-singleton dimension 0",
     "output_type": "error",
     "traceback": [
      "\u001b[0;31m---------------------------------------------------------------------------\u001b[0m",
      "\u001b[0;31mRuntimeError\u001b[0m                              Traceback (most recent call last)",
      "Input \u001b[0;32mIn [45]\u001b[0m, in \u001b[0;36m<cell line: 15>\u001b[0;34m()\u001b[0m\n\u001b[1;32m     14\u001b[0m optimizer \u001b[38;5;241m=\u001b[39m torch\u001b[38;5;241m.\u001b[39moptim\u001b[38;5;241m.\u001b[39mLBFGS(model\u001b[38;5;241m.\u001b[39mparameters(), lr\u001b[38;5;241m=\u001b[39mlr)\n\u001b[1;32m     15\u001b[0m \u001b[38;5;28;01mfor\u001b[39;00m t \u001b[38;5;129;01min\u001b[39;00m \u001b[38;5;28mrange\u001b[39m(epoch):\n\u001b[0;32m---> 16\u001b[0m     lss_aux \u001b[38;5;241m=\u001b[39m \u001b[43mloss_fn\u001b[49m\u001b[43m(\u001b[49m\u001b[43mR_train\u001b[49m\u001b[38;5;241;43m.\u001b[39;49m\u001b[43mto\u001b[49m\u001b[43m(\u001b[49m\u001b[43mdevice\u001b[49m\u001b[43m)\u001b[49m\u001b[43m)\u001b[49m\n\u001b[1;32m     17\u001b[0m     \u001b[38;5;28mprint\u001b[39m(\u001b[38;5;124mf\u001b[39m\u001b[38;5;124m\"\u001b[39m\u001b[38;5;124mEpoch \u001b[39m\u001b[38;5;132;01m{\u001b[39;00mt\u001b[38;5;241m+\u001b[39m\u001b[38;5;241m1\u001b[39m\u001b[38;5;132;01m}\u001b[39;00m\u001b[38;5;130;01m\\n\u001b[39;00m\u001b[38;5;124m ---------------------- loss: \u001b[39m\u001b[38;5;132;01m{\u001b[39;00mlss_aux\u001b[38;5;132;01m}\u001b[39;00m\u001b[38;5;124m\"\u001b[39m)\n\u001b[1;32m     18\u001b[0m     training(R_train, loss_fn, optimizer)\n",
      "Input \u001b[0;32mIn [44]\u001b[0m, in \u001b[0;36mloss_fn\u001b[0;34m(r)\u001b[0m\n\u001b[1;32m     13\u001b[0m \u001b[38;5;66;03m#norm = integrator.integrate(lambda r_aux: Phi_t(r_aux)**2, dim=1, \u001b[39;00m\n\u001b[1;32m     14\u001b[0m                     \u001b[38;5;66;03m#N=int(len(r)/2), integration_domain=[[r[int(len(r)/2)],r[-1]]]) # integral over r=0 to 6\u001b[39;00m\n\u001b[1;32m     15\u001b[0m \u001b[38;5;66;03m#norm = integrator.integrate(lambda r_aux: Phi_t(r_aux)**2, dim=1, \u001b[39;00m\n\u001b[1;32m     16\u001b[0m                     \u001b[38;5;66;03m#N=int(len(r)), integration_domain=[[r[0],r[-1]]]) # integral over r=0 to 6\u001b[39;00m\n\u001b[1;32m     18\u001b[0m \u001b[38;5;28;01mglobal\u001b[39;00m E\n\u001b[0;32m---> 19\u001b[0m E \u001b[38;5;241m=\u001b[39m \u001b[43mintegrator\u001b[49m\u001b[38;5;241;43m.\u001b[39;49m\u001b[43mintegrate\u001b[49m\u001b[43m(\u001b[49m\u001b[38;5;28;43;01mlambda\u001b[39;49;00m\u001b[43m \u001b[49m\u001b[43mr_aux\u001b[49m\u001b[43m:\u001b[49m\u001b[43m \u001b[49m\u001b[43mtorch\u001b[49m\u001b[38;5;241;43m.\u001b[39;49m\u001b[43mmul\u001b[49m\u001b[43m(\u001b[49m\u001b[43mPhi_t\u001b[49m\u001b[43m(\u001b[49m\u001b[43mr_aux\u001b[49m\u001b[43m)\u001b[49m\u001b[43m,\u001b[49m\u001b[43mH_Phi_t\u001b[49m\u001b[43m)\u001b[49m\u001b[43m,\u001b[49m\u001b[43m \u001b[49m\u001b[43mdim\u001b[49m\u001b[38;5;241;43m=\u001b[39;49m\u001b[38;5;241;43m1\u001b[39;49m\u001b[43m,\u001b[49m\u001b[43m \u001b[49m\n\u001b[1;32m     20\u001b[0m \u001b[43m                 \u001b[49m\u001b[43mN\u001b[49m\u001b[38;5;241;43m=\u001b[39;49m\u001b[38;5;28;43mlen\u001b[39;49m\u001b[43m(\u001b[49m\u001b[43mr\u001b[49m\u001b[43m)\u001b[49m\u001b[43m,\u001b[49m\u001b[43m \u001b[49m\u001b[43mintegration_domain\u001b[49m\u001b[38;5;241;43m=\u001b[39;49m\u001b[43m[\u001b[49m\u001b[43m[\u001b[49m\u001b[43mr\u001b[49m\u001b[43m[\u001b[49m\u001b[38;5;241;43m0\u001b[39;49m\u001b[43m]\u001b[49m\u001b[43m,\u001b[49m\u001b[43mr\u001b[49m\u001b[43m[\u001b[49m\u001b[38;5;241;43m-\u001b[39;49m\u001b[38;5;241;43m1\u001b[39;49m\u001b[43m]\u001b[49m\u001b[43m]\u001b[49m\u001b[43m]\u001b[49m\u001b[43m)\u001b[49m \u001b[38;5;241m/\u001b[39m (\u001b[38;5;241m2\u001b[39m\u001b[38;5;241m*\u001b[39mnorm) \n\u001b[1;32m     21\u001b[0m \u001b[38;5;66;03m#E = integrator.integrate(lambda r_aux: Phi_t(r_aux)[100:]*H_Phi_t[100:], dim=1, \u001b[39;00m\n\u001b[1;32m     22\u001b[0m                  \u001b[38;5;66;03m#N=int(len(r)/2), integration_domain=[[r[int(len(r)/2)],r[-1]]]) / norm \u001b[39;00m\n\u001b[1;32m     23\u001b[0m \u001b[38;5;66;03m#E = integrator.integrate(lambda r_aux: Phi_t(r_aux)*H_Phi_t, dim=1, \u001b[39;00m\n\u001b[1;32m     24\u001b[0m                  \u001b[38;5;66;03m#N=int(len(r)), integration_domain=[[r[0],r[-1]]]) / norm \u001b[39;00m\n\u001b[1;32m     26\u001b[0m \u001b[38;5;28;01mreturn\u001b[39;00m (torch\u001b[38;5;241m.\u001b[39mmean((H_Phi_t \u001b[38;5;241m-\u001b[39m E\u001b[38;5;241m*\u001b[39mPhi)\u001b[38;5;241m*\u001b[39m\u001b[38;5;241m*\u001b[39m\u001b[38;5;241m2\u001b[39m)\u001b[38;5;241m*\u001b[39mprom)\u001b[38;5;241m/\u001b[39mnorm\n",
      "File \u001b[0;32m~/anaconda3/lib/python3.9/site-packages/torchquad/integration/vegas.py:98\u001b[0m, in \u001b[0;36mVEGAS.integrate\u001b[0;34m(self, fn, dim, N, integration_domain, seed, use_grid_improve, eps_rel, eps_abs, max_iterations, use_warmup)\u001b[0m\n\u001b[1;32m     95\u001b[0m \u001b[38;5;28mself\u001b[39m\u001b[38;5;241m.\u001b[39mit \u001b[38;5;241m=\u001b[39m \u001b[38;5;241m0\u001b[39m  \u001b[38;5;66;03m# iteration\u001b[39;00m\n\u001b[1;32m     97\u001b[0m \u001b[38;5;28;01mif\u001b[39;00m use_warmup:  \u001b[38;5;66;03m# warmup the adaptive map\u001b[39;00m\n\u001b[0;32m---> 98\u001b[0m     \u001b[38;5;28;43mself\u001b[39;49m\u001b[38;5;241;43m.\u001b[39;49m\u001b[43m_warmup_grid\u001b[49m\u001b[43m(\u001b[49m\u001b[38;5;241;43m5\u001b[39;49m\u001b[43m,\u001b[49m\u001b[43m \u001b[49m\u001b[38;5;28;43mself\u001b[39;49m\u001b[38;5;241;43m.\u001b[39;49m\u001b[43m_starting_N\u001b[49m\u001b[43m \u001b[49m\u001b[38;5;241;43m/\u001b[39;49m\u001b[38;5;241;43m/\u001b[39;49m\u001b[43m \u001b[49m\u001b[38;5;241;43m5\u001b[39;49m\u001b[43m)\u001b[49m\n\u001b[1;32m    100\u001b[0m \u001b[38;5;66;03m# Main loop\u001b[39;00m\n\u001b[1;32m    101\u001b[0m \u001b[38;5;28;01mwhile\u001b[39;00m \u001b[38;5;28;01mTrue\u001b[39;00m:\n",
      "File \u001b[0;32m~/anaconda3/lib/python3.9/site-packages/torchquad/integration/vegas.py:185\u001b[0m, in \u001b[0;36mVEGAS._warmup_grid\u001b[0;34m(self, warmup_N_it, N_samples)\u001b[0m\n\u001b[1;32m    183\u001b[0m yrnd \u001b[38;5;241m=\u001b[39m torch\u001b[38;5;241m.\u001b[39mrand(size\u001b[38;5;241m=\u001b[39m[N_samples, \u001b[38;5;28mself\u001b[39m\u001b[38;5;241m.\u001b[39m_dim]) \u001b[38;5;241m*\u001b[39m \u001b[38;5;241m0.999999\u001b[39m\n\u001b[1;32m    184\u001b[0m x \u001b[38;5;241m=\u001b[39m \u001b[38;5;28mself\u001b[39m\u001b[38;5;241m.\u001b[39mmap\u001b[38;5;241m.\u001b[39mget_X(yrnd)\n\u001b[0;32m--> 185\u001b[0m f_eval \u001b[38;5;241m=\u001b[39m \u001b[38;5;28;43mself\u001b[39;49m\u001b[38;5;241;43m.\u001b[39;49m\u001b[43m_eval\u001b[49m\u001b[43m(\u001b[49m\u001b[43mx\u001b[49m\u001b[43m)\u001b[49m\u001b[38;5;241m.\u001b[39msqueeze()\n\u001b[1;32m    186\u001b[0m jac \u001b[38;5;241m=\u001b[39m \u001b[38;5;28mself\u001b[39m\u001b[38;5;241m.\u001b[39mmap\u001b[38;5;241m.\u001b[39mget_Jac(yrnd)\n\u001b[1;32m    187\u001b[0m jf_vec \u001b[38;5;241m=\u001b[39m f_eval \u001b[38;5;241m*\u001b[39m jac\n",
      "File \u001b[0;32m~/anaconda3/lib/python3.9/site-packages/torchquad/integration/base_integrator.py:36\u001b[0m, in \u001b[0;36mBaseIntegrator._eval\u001b[0;34m(self, points)\u001b[0m\n\u001b[1;32m     30\u001b[0m \u001b[38;5;124;03m\"\"\"Evaluates the function at the passed points and updates nr_of_evals\u001b[39;00m\n\u001b[1;32m     31\u001b[0m \n\u001b[1;32m     32\u001b[0m \u001b[38;5;124;03mArgs:\u001b[39;00m\n\u001b[1;32m     33\u001b[0m \u001b[38;5;124;03m    points (torch.tensor): Integration points\u001b[39;00m\n\u001b[1;32m     34\u001b[0m \u001b[38;5;124;03m\"\"\"\u001b[39;00m\n\u001b[1;32m     35\u001b[0m \u001b[38;5;28mself\u001b[39m\u001b[38;5;241m.\u001b[39m_nr_of_fevals \u001b[38;5;241m+\u001b[39m\u001b[38;5;241m=\u001b[39m \u001b[38;5;28mlen\u001b[39m(points)\n\u001b[0;32m---> 36\u001b[0m result \u001b[38;5;241m=\u001b[39m \u001b[38;5;28;43mself\u001b[39;49m\u001b[38;5;241;43m.\u001b[39;49m\u001b[43m_fn\u001b[49m\u001b[43m(\u001b[49m\u001b[43mpoints\u001b[49m\u001b[43m)\u001b[49m\n\u001b[1;32m     37\u001b[0m \u001b[38;5;28;01mif\u001b[39;00m \u001b[38;5;28mtype\u001b[39m(result) \u001b[38;5;241m!=\u001b[39m torch\u001b[38;5;241m.\u001b[39mTensor:\n\u001b[1;32m     38\u001b[0m     warnings\u001b[38;5;241m.\u001b[39mwarn(\n\u001b[1;32m     39\u001b[0m         \u001b[38;5;124m\"\u001b[39m\u001b[38;5;124mThe passed function did not return a torch.tensor. Will try to convert. Note that this may be slow as it results in memory transfers between CPU and GPU, if torchquad uses the GPU.\u001b[39m\u001b[38;5;124m\"\u001b[39m\n\u001b[1;32m     40\u001b[0m     )\n",
      "Input \u001b[0;32mIn [44]\u001b[0m, in \u001b[0;36mloss_fn.<locals>.<lambda>\u001b[0;34m(r_aux)\u001b[0m\n\u001b[1;32m     13\u001b[0m \u001b[38;5;66;03m#norm = integrator.integrate(lambda r_aux: Phi_t(r_aux)**2, dim=1, \u001b[39;00m\n\u001b[1;32m     14\u001b[0m                     \u001b[38;5;66;03m#N=int(len(r)/2), integration_domain=[[r[int(len(r)/2)],r[-1]]]) # integral over r=0 to 6\u001b[39;00m\n\u001b[1;32m     15\u001b[0m \u001b[38;5;66;03m#norm = integrator.integrate(lambda r_aux: Phi_t(r_aux)**2, dim=1, \u001b[39;00m\n\u001b[1;32m     16\u001b[0m                     \u001b[38;5;66;03m#N=int(len(r)), integration_domain=[[r[0],r[-1]]]) # integral over r=0 to 6\u001b[39;00m\n\u001b[1;32m     18\u001b[0m \u001b[38;5;28;01mglobal\u001b[39;00m E\n\u001b[0;32m---> 19\u001b[0m E \u001b[38;5;241m=\u001b[39m integrator\u001b[38;5;241m.\u001b[39mintegrate(\u001b[38;5;28;01mlambda\u001b[39;00m r_aux: \u001b[43mtorch\u001b[49m\u001b[38;5;241;43m.\u001b[39;49m\u001b[43mmul\u001b[49m\u001b[43m(\u001b[49m\u001b[43mPhi_t\u001b[49m\u001b[43m(\u001b[49m\u001b[43mr_aux\u001b[49m\u001b[43m)\u001b[49m\u001b[43m,\u001b[49m\u001b[43mH_Phi_t\u001b[49m\u001b[43m)\u001b[49m, dim\u001b[38;5;241m=\u001b[39m\u001b[38;5;241m1\u001b[39m, \n\u001b[1;32m     20\u001b[0m                  N\u001b[38;5;241m=\u001b[39m\u001b[38;5;28mlen\u001b[39m(r), integration_domain\u001b[38;5;241m=\u001b[39m[[r[\u001b[38;5;241m0\u001b[39m],r[\u001b[38;5;241m-\u001b[39m\u001b[38;5;241m1\u001b[39m]]]) \u001b[38;5;241m/\u001b[39m (\u001b[38;5;241m2\u001b[39m\u001b[38;5;241m*\u001b[39mnorm) \n\u001b[1;32m     21\u001b[0m \u001b[38;5;66;03m#E = integrator.integrate(lambda r_aux: Phi_t(r_aux)[100:]*H_Phi_t[100:], dim=1, \u001b[39;00m\n\u001b[1;32m     22\u001b[0m                  \u001b[38;5;66;03m#N=int(len(r)/2), integration_domain=[[r[int(len(r)/2)],r[-1]]]) / norm \u001b[39;00m\n\u001b[1;32m     23\u001b[0m \u001b[38;5;66;03m#E = integrator.integrate(lambda r_aux: Phi_t(r_aux)*H_Phi_t, dim=1, \u001b[39;00m\n\u001b[1;32m     24\u001b[0m                  \u001b[38;5;66;03m#N=int(len(r)), integration_domain=[[r[0],r[-1]]]) / norm \u001b[39;00m\n\u001b[1;32m     26\u001b[0m \u001b[38;5;28;01mreturn\u001b[39;00m (torch\u001b[38;5;241m.\u001b[39mmean((H_Phi_t \u001b[38;5;241m-\u001b[39m E\u001b[38;5;241m*\u001b[39mPhi)\u001b[38;5;241m*\u001b[39m\u001b[38;5;241m*\u001b[39m\u001b[38;5;241m2\u001b[39m)\u001b[38;5;241m*\u001b[39mprom)\u001b[38;5;241m/\u001b[39mnorm\n",
      "\u001b[0;31mRuntimeError\u001b[0m: The size of tensor a (2) must match the size of tensor b (200) at non-singleton dimension 0"
     ]
    }
   ],
   "source": [
    "upper_r = 6\n",
    "lower_r = -6\n",
    "steps = 200\n",
    "R_train = torch.Tensor(np.linspace(lower_r, upper_r, steps)[:,None])\n",
    "epoch = 1000\n",
    "lr = 2e-4\n",
    "Phis_t = []\n",
    "Es = []\n",
    "lss = []\n",
    "epochs = []\n",
    "\n",
    "model = NeuralNetwork().to(device)\n",
    "initialize_weights(model)\n",
    "optimizer = torch.optim.LBFGS(model.parameters(), lr=lr)\n",
    "for t in range(epoch):\n",
    "    lss_aux = loss_fn(R_train.to(device))\n",
    "    print(f\"Epoch {t+1}\\n ---------------------- loss: {lss_aux}\")\n",
    "    training(R_train, loss_fn, optimizer)\n",
    "    if t%10 == 0:\n",
    "        Phis_t.append(Phi_t(R_train).detach().numpy())\n",
    "        Es.append(E.detach().numpy())\n",
    "        lss.append(lss_aux.detach().numpy())\n",
    "        epochs.append(t)\n",
    "print(\"Done!\")"
   ]
  },
  {
   "cell_type": "code",
   "execution_count": 13,
   "id": "33ab5f04",
   "metadata": {},
   "outputs": [
    {
     "data": {
      "image/png": "[encoded data removed]",
      "text/plain": [
       "<Figure size 1080x720 with 9 Axes>"
      ]
     },
     "metadata": {
      "needs_background": "light"
     },
     "output_type": "display_data"
    }
   ],
   "source": [
    "rr = np.linspace(lower_r, upper_r, steps)[:,None]\n",
    "fig, axs = plt.subplots(3,3,figsize=(15,10))\n",
    "\n",
    "fil = 0\n",
    "col = 0\n",
    "for i in range(1,10):\n",
    "    yy = Phis_t[i]\n",
    "    axs[fil,col].plot(rr, yy.squeeze(), \".\", label=f\"Epochs {epochs[i]}\")\n",
    "    axs[fil,col].set_xlabel(\"$r$\")\n",
    "    axs[fil,col].set_ylabel(\"$\\phi(x)$\")\n",
    "    axs[fil,col].legend(loc=\"best\")\n",
    "    axs[fil,col].ticklabel_format(style='sci', axis='y', scilimits=(0,0))\n",
    "    if col == 2:\n",
    "       col = 0\n",
    "       fil = fil+1\n",
    "    else:\n",
    "       col = col+1\n",
    "plt.tight_layout()\n",
    "plt.show()        "
   ]
  },
  {
   "cell_type": "code",
   "execution_count": 14,
   "id": "6d1a4468",
   "metadata": {},
   "outputs": [
    {
     "data": {
      "image/png": "[encoded data removed]",
      "text/plain": [
       "<Figure size 864x288 with 2 Axes>"
      ]
     },
     "metadata": {
      "needs_background": "light"
     },
     "output_type": "display_data"
    }
   ],
   "source": [
    "plt.subplots(1,2,figsize=(12,4))\n",
    "plt.subplot(121)\n",
    "plt.plot(epochs, Es, \"r.\", label=\"Energies\")\n",
    "plt.title(\"Eigenvalues of Energy\")\n",
    "plt.xlabel(\"Epochs\")\n",
    "plt.ylabel(\"Energy\")\n",
    "plt.grid()\n",
    "plt.legend(loc=\"best\")\n",
    "plt.subplot(122)\n",
    "plt.plot(epochs, lss, \"b.\", label=\"Losses\")\n",
    "plt.title(\"Loss per 100 epochs\")\n",
    "plt.xlabel(\"Epochs\")\n",
    "plt.ylabel(\"Loss\")\n",
    "plt.grid()\n",
    "plt.legend(loc=\"best\")\n",
    "plt.show()"
   ]
  },
  {
   "cell_type": "code",
   "execution_count": 15,
   "id": "4dc04f03",
   "metadata": {},
   "outputs": [
    {
     "data": {
      "text/plain": [
       "0.74"
      ]
     },
     "execution_count": 15,
     "metadata": {},
     "output_type": "execute_result"
    }
   ],
   "source": [
    "np.mean(np.squeeze(Es) > -1)"
   ]
  },
  {
   "cell_type": "code",
   "execution_count": null,
   "id": "d321b4e0",
   "metadata": {},
   "outputs": [],
   "source": []
  },
  {
   "cell_type": "code",
   "execution_count": 29,
   "id": "a6aaf790",
   "metadata": {},
   "outputs": [
    {
     "data": {
      "text/plain": [
       "torch.Size([200, 1])"
      ]
     },
     "execution_count": 29,
     "metadata": {},
     "output_type": "execute_result"
    }
   ],
   "source": [
    "r = torch.Tensor(np.linspace(lower_r, upper_r, steps)[:,None])\n",
    "r.requires_grad = True\n",
    "Phi = Phi_t(r)\n",
    "Phi_t_r = torch.autograd.grad(Phi, r, grad_outputs=torch.ones_like(Phi), create_graph=True)[0]\n",
    "Phi_t_r_r = torch.autograd.grad(Phi_t_r, r, grad_outputs=torch.ones_like(Phi_t_r), create_graph=True)[0]\n",
    "H_Phi_t = -(hbar**2/(2*m))*Phi_t_r_r + (l*(l+1)*hbar**2/(2*m*r**2) + V(r))*Phi\n",
    "H_Phi_t.size()"
   ]
  },
  {
   "cell_type": "code",
   "execution_count": 30,
   "id": "c7bf7f09",
   "metadata": {},
   "outputs": [
    {
     "data": {
      "text/plain": [
       "torch.Size([200, 1])"
      ]
     },
     "execution_count": 30,
     "metadata": {},
     "output_type": "execute_result"
    }
   ],
   "source": [
    "Phi.size()"
   ]
  },
  {
   "cell_type": "code",
   "execution_count": 35,
   "id": "27ae62f1",
   "metadata": {},
   "outputs": [
    {
     "data": {
      "text/plain": [
       "torch.Size([200, 1])"
      ]
     },
     "execution_count": 35,
     "metadata": {},
     "output_type": "execute_result"
    }
   ],
   "source": [
    "f = lambda r_aux: torch.mul(Phi,H_Phi_t)\n",
    "f(r).size()"
   ]
  },
  {
   "cell_type": "code",
   "execution_count": null,
   "id": "fb76ac02",
   "metadata": {},
   "outputs": [],
   "source": []
  },
  {
   "cell_type": "code",
   "execution_count": null,
   "id": "6fbe742f",
   "metadata": {},
   "outputs": [],
   "source": []
  },
  {
   "cell_type": "code",
   "execution_count": null,
   "id": "20c5f9d7",
   "metadata": {},
   "outputs": [],
   "source": []
  },
  {
   "cell_type": "code",
   "execution_count": 5,
   "id": "d031683d",
   "metadata": {},
   "outputs": [
    {
     "data": {
      "text/plain": [
       "'cpu'"
      ]
     },
     "execution_count": 5,
     "metadata": {},
     "output_type": "execute_result"
    }
   ],
   "source": [
    "import torch\n",
    "from torch import nn\n",
    "import matplotlib.pyplot as plt\n",
    "import numpy as np\n",
    "import vegas\n",
    "import re\n",
    "\n",
    "#device = torch.device(\"cuda:0\" if torch.cuda.is_available() else \"cpu\")\n",
    "device = \"cpu\"\n",
    "device"
   ]
  },
  {
   "cell_type": "markdown",
   "id": "8ab85a64",
   "metadata": {},
   "source": [
    "## Neural Network Model"
   ]
  },
  {
   "cell_type": "code",
   "execution_count": 6,
   "id": "fea065c2",
   "metadata": {},
   "outputs": [],
   "source": [
    "class NeuralNetwork(nn.Module):\n",
    "    def __init__(self):\n",
    "        super(NeuralNetwork, self).__init__()\n",
    "        self.layers = nn.Sequential(\n",
    "        nn.Linear(1,10),\n",
    "        nn.Sigmoid(),\n",
    "        nn.Linear(10,1, bias=False)\n",
    "        )\n",
    "        \n",
    "    def forward(self, x):\n",
    "        N = self.layers(x)\n",
    "        return N"
   ]
  },
  {
   "cell_type": "code",
   "execution_count": 7,
   "id": "32787d80",
   "metadata": {},
   "outputs": [],
   "source": [
    "def training(x, loss_fn, optimizer):\n",
    "    x = x.to(device)\n",
    "    def closure():\n",
    "        loss = loss_fn(x)\n",
    "        optimizer.zero_grad()\n",
    "        loss.backward()\n",
    "        return loss\n",
    "    torch.nn.utils.clip_grad_value_(model.parameters(), 10)\n",
    "    optimizer.step(closure)"
   ]
  },
  {
   "cell_type": "markdown",
   "id": "91016b42",
   "metadata": {},
   "source": [
    "### Differential equation\n",
    "$$\\frac{d^2\\phi(r)}{dr^2} + \\frac{2m}{\\hbar^2}\\left(E-\\frac{l(l+1)}{2mr^2}\\hbar^2+V(r)\\right)\\phi(r) = 0$$ \n",
    "Dataset are vectors of domain of differential equation, like the vectors are one-dimentional, the shape of dataset is one by m samples. Trial solution $\\phi_t(r) = e^{-\\beta r^2}N(r,\\vec{p})$, with $\\phi(r=0) = 0$ and $\\phi(r\\rightarrow\\infty) = 0$ as boundary conditions.  "
   ]
  },
  {
   "cell_type": "code",
   "execution_count": 8,
   "id": "f796c15f",
   "metadata": {},
   "outputs": [
    {
     "data": {
      "text/plain": [
       "NeuralNetwork(\n",
       "  (layers): Sequential(\n",
       "    (0): Linear(in_features=1, out_features=10, bias=True)\n",
       "    (1): Sigmoid()\n",
       "    (2): Linear(in_features=10, out_features=1, bias=False)\n",
       "  )\n",
       ")"
      ]
     },
     "execution_count": 8,
     "metadata": {},
     "output_type": "execute_result"
    }
   ],
   "source": [
    "model = NeuralNetwork().to(device)\n",
    "model"
   ]
  },
  {
   "cell_type": "code",
   "execution_count": 9,
   "id": "fa62d0b3",
   "metadata": {},
   "outputs": [],
   "source": [
    "global E\n",
    "beta = 2\n",
    "global Z\n",
    "Z = 1\n",
    "global e\n",
    "#e = np.sqrt(1.4399764 MeV.fm)\n",
    "e = -1\n",
    "global hbar\n",
    "#hbar = 6.582119569e-16 eV.s\n",
    "hbar = 1\n",
    "global m\n",
    "#m = 0.51099895 MeV/c^2\n",
    "m = 1\n",
    "global l\n",
    "l = 0\n",
    "\n",
    "V = lambda r: -(Z*e**2)/r"
   ]
  },
  {
   "cell_type": "code",
   "execution_count": 10,
   "id": "e35aefcf",
   "metadata": {},
   "outputs": [],
   "source": [
    "def Phi_t(r, integral=False):\n",
    "    if integral:\n",
    "        r = torch.Tensor(r)\n",
    "        return np.exp(-beta*r**2) * model.forward(r).detach().numpy()\n",
    "    else:\n",
    "        return torch.exp(-beta*r**2) * model.forward(r)"
   ]
  },
  {
   "cell_type": "code",
   "execution_count": 11,
   "id": "baae15e4",
   "metadata": {},
   "outputs": [],
   "source": [
    "def initialize_weights(model):\n",
    "    for m in model.modules():\n",
    "        if isinstance(m, (nn.Linear)):\n",
    "            nn.init.kaiming_normal_(m.weight.data)"
   ]
  },
  {
   "cell_type": "code",
   "execution_count": 12,
   "id": "b90a19c4",
   "metadata": {},
   "outputs": [],
   "source": [
    "def loss_fn(r):\n",
    "    r.requires_grad = True\n",
    "    \n",
    "    Phi = Phi_t(r)\n",
    "    def Phi_H_Phi(r,Phi):\n",
    "        Phi_t_r = torch.autograd.grad(Phi, r, grad_outputs=torch.ones_like(Phi), create_graph=True)[0]\n",
    "        Phi_t_r_r = torch.autograd.grad(Phi_t_r, r, grad_outputs=torch.ones_like(Phi_t_r), create_graph=True)[0]\n",
    "        H_Phi_t = -(hbar**2/(2*m))*Phi_t_r_r + (l*(l+1)*hbar**2/(2*m*r**2) + V(r))*Phi\n",
    "        return Phi*H_Phi_t\n",
    "    \n",
    "    prom = Phi.size()[0]\n",
    "    \n",
    "    norm = integ(lambda r_aux: Phi_t(r_aux, integral=True)**2, nitn=10, neval=len(r)) # integral over r=-6 to 6\n",
    "    norm = torch.Tensor(np.array(float(re.search(\"\\d\\S\\d*\", str(np.squeeze(norm)))[0])))/2\n",
    "    #norm = integrator.integrate(lambda r_aux: Phi_t(r_aux)**2, dim=1, \n",
    "                        #N=int(len(r)/2), integration_domain=[[r[int(len(r)/2)],r[-1]]]) # integral over r=0 to 6\n",
    "    #norm = integrator.integrate(lambda r_aux: Phi_t(r_aux)**2, dim=1, \n",
    "                        #N=int(len(r)), integration_domain=[[r[0],r[-1]]]) # integral over r=0 to 6\n",
    "    \n",
    "    global E\n",
    "    E = integ(lambda r_aux: Phi_H_Phi(r_aux, Phi_t(r_aux, integral=True)), nitn=10, neval=len(r)) \n",
    "    E = torch.Tensor(np.array(float(re.search(\"\\d\\S\\d*\", str(np.squeeze(E)))[0])))/(2*norm)\n",
    "    #E = integrator.integrate(lambda r_aux: Phi_t(r_aux)[100:]*H_Phi_t[100:], dim=1, \n",
    "                     #N=int(len(r)/2), integration_domain=[[r[int(len(r)/2)],r[-1]]]) / norm \n",
    "    #E = integrator.integrate(lambda r_aux: Phi_t(r_aux)*H_Phi_t, dim=1, \n",
    "                     #N=int(len(r)), integration_domain=[[r[0],r[-1]]]) / norm \n",
    "    \n",
    "    return (torch.mean((Phi_H_Phi(r)/Phi - E*Phi)**2)*prom)/norm #multiply by m to avoit division by m in the mean function of torh "
   ]
  },
  {
   "cell_type": "code",
   "execution_count": 13,
   "id": "2845f97b",
   "metadata": {},
   "outputs": [
    {
     "ename": "RuntimeError",
     "evalue": "element 0 of tensors does not require grad and does not have a grad_fn",
     "output_type": "error",
     "traceback": [
      "\u001b[0;31m---------------------------------------------------------------------------\u001b[0m",
      "\u001b[0;31mRuntimeError\u001b[0m                              Traceback (most recent call last)",
      "Input \u001b[0;32mIn [13]\u001b[0m, in \u001b[0;36m<cell line: 17>\u001b[0;34m()\u001b[0m\n\u001b[1;32m     16\u001b[0m optimizer \u001b[38;5;241m=\u001b[39m torch\u001b[38;5;241m.\u001b[39moptim\u001b[38;5;241m.\u001b[39mLBFGS(model\u001b[38;5;241m.\u001b[39mparameters(), lr\u001b[38;5;241m=\u001b[39mlr)\n\u001b[1;32m     17\u001b[0m \u001b[38;5;28;01mfor\u001b[39;00m t \u001b[38;5;129;01min\u001b[39;00m \u001b[38;5;28mrange\u001b[39m(epoch):\n\u001b[0;32m---> 18\u001b[0m     lss_aux \u001b[38;5;241m=\u001b[39m \u001b[43mloss_fn\u001b[49m\u001b[43m(\u001b[49m\u001b[43mR_train\u001b[49m\u001b[38;5;241;43m.\u001b[39;49m\u001b[43mto\u001b[49m\u001b[43m(\u001b[49m\u001b[43mdevice\u001b[49m\u001b[43m)\u001b[49m\u001b[43m)\u001b[49m\n\u001b[1;32m     19\u001b[0m     \u001b[38;5;28mprint\u001b[39m(\u001b[38;5;124mf\u001b[39m\u001b[38;5;124m\"\u001b[39m\u001b[38;5;124mEpoch \u001b[39m\u001b[38;5;132;01m{\u001b[39;00mt\u001b[38;5;241m+\u001b[39m\u001b[38;5;241m1\u001b[39m\u001b[38;5;132;01m}\u001b[39;00m\u001b[38;5;130;01m\\n\u001b[39;00m\u001b[38;5;124m ---------------------- loss: \u001b[39m\u001b[38;5;132;01m{\u001b[39;00mlss_aux\u001b[38;5;132;01m}\u001b[39;00m\u001b[38;5;124m\"\u001b[39m)\n\u001b[1;32m     20\u001b[0m     training(R_train, loss_fn, optimizer)\n",
      "Input \u001b[0;32mIn [12]\u001b[0m, in \u001b[0;36mloss_fn\u001b[0;34m(r)\u001b[0m\n\u001b[1;32m     15\u001b[0m \u001b[38;5;66;03m#norm = integrator.integrate(lambda r_aux: Phi_t(r_aux)**2, dim=1, \u001b[39;00m\n\u001b[1;32m     16\u001b[0m                     \u001b[38;5;66;03m#N=int(len(r)/2), integration_domain=[[r[int(len(r)/2)],r[-1]]]) # integral over r=0 to 6\u001b[39;00m\n\u001b[1;32m     17\u001b[0m \u001b[38;5;66;03m#norm = integrator.integrate(lambda r_aux: Phi_t(r_aux)**2, dim=1, \u001b[39;00m\n\u001b[1;32m     18\u001b[0m                     \u001b[38;5;66;03m#N=int(len(r)), integration_domain=[[r[0],r[-1]]]) # integral over r=0 to 6\u001b[39;00m\n\u001b[1;32m     20\u001b[0m \u001b[38;5;28;01mglobal\u001b[39;00m E\n\u001b[0;32m---> 21\u001b[0m E \u001b[38;5;241m=\u001b[39m \u001b[43minteg\u001b[49m\u001b[43m(\u001b[49m\u001b[38;5;28;43;01mlambda\u001b[39;49;00m\u001b[43m \u001b[49m\u001b[43mr_aux\u001b[49m\u001b[43m:\u001b[49m\u001b[43m \u001b[49m\u001b[43mPhi_H_Phi\u001b[49m\u001b[43m(\u001b[49m\u001b[43mr_aux\u001b[49m\u001b[43m,\u001b[49m\u001b[43m \u001b[49m\u001b[43mPhi_t\u001b[49m\u001b[43m(\u001b[49m\u001b[43mr_aux\u001b[49m\u001b[43m,\u001b[49m\u001b[43m \u001b[49m\u001b[43mintegral\u001b[49m\u001b[38;5;241;43m=\u001b[39;49m\u001b[38;5;28;43;01mTrue\u001b[39;49;00m\u001b[43m)\u001b[49m\u001b[43m)\u001b[49m\u001b[43m,\u001b[49m\u001b[43m \u001b[49m\u001b[43mnitn\u001b[49m\u001b[38;5;241;43m=\u001b[39;49m\u001b[38;5;241;43m10\u001b[39;49m\u001b[43m,\u001b[49m\u001b[43m \u001b[49m\u001b[43mneval\u001b[49m\u001b[38;5;241;43m=\u001b[39;49m\u001b[38;5;28;43mlen\u001b[39;49m\u001b[43m(\u001b[49m\u001b[43mr\u001b[49m\u001b[43m)\u001b[49m\u001b[43m)\u001b[49m \n\u001b[1;32m     22\u001b[0m E \u001b[38;5;241m=\u001b[39m torch\u001b[38;5;241m.\u001b[39mTensor(np\u001b[38;5;241m.\u001b[39marray(\u001b[38;5;28mfloat\u001b[39m(re\u001b[38;5;241m.\u001b[39msearch(\u001b[38;5;124m\"\u001b[39m\u001b[38;5;124m\\\u001b[39m\u001b[38;5;124md\u001b[39m\u001b[38;5;124m\\\u001b[39m\u001b[38;5;124mS\u001b[39m\u001b[38;5;124m\\\u001b[39m\u001b[38;5;124md*\u001b[39m\u001b[38;5;124m\"\u001b[39m, \u001b[38;5;28mstr\u001b[39m(np\u001b[38;5;241m.\u001b[39msqueeze(E)))[\u001b[38;5;241m0\u001b[39m])))\u001b[38;5;241m/\u001b[39m(\u001b[38;5;241m2\u001b[39m\u001b[38;5;241m*\u001b[39mnorm)\n\u001b[1;32m     23\u001b[0m \u001b[38;5;66;03m#E = integrator.integrate(lambda r_aux: Phi_t(r_aux)[100:]*H_Phi_t[100:], dim=1, \u001b[39;00m\n\u001b[1;32m     24\u001b[0m                  \u001b[38;5;66;03m#N=int(len(r)/2), integration_domain=[[r[int(len(r)/2)],r[-1]]]) / norm \u001b[39;00m\n\u001b[1;32m     25\u001b[0m \u001b[38;5;66;03m#E = integrator.integrate(lambda r_aux: Phi_t(r_aux)*H_Phi_t, dim=1, \u001b[39;00m\n\u001b[1;32m     26\u001b[0m                  \u001b[38;5;66;03m#N=int(len(r)), integration_domain=[[r[0],r[-1]]]) / norm \u001b[39;00m\n",
      "File \u001b[0;32m_vegas.pyx:1670\u001b[0m, in \u001b[0;36mvegas._vegas.Integrator.__call__\u001b[0;34m()\u001b[0m\n",
      "File \u001b[0;32m_vegas.pyx:2351\u001b[0m, in \u001b[0;36mvegas._vegas.VegasIntegrand.firstpass_eval\u001b[0;34m()\u001b[0m\n",
      "Input \u001b[0;32mIn [12]\u001b[0m, in \u001b[0;36mloss_fn.<locals>.<lambda>\u001b[0;34m(r_aux)\u001b[0m\n\u001b[1;32m     15\u001b[0m \u001b[38;5;66;03m#norm = integrator.integrate(lambda r_aux: Phi_t(r_aux)**2, dim=1, \u001b[39;00m\n\u001b[1;32m     16\u001b[0m                     \u001b[38;5;66;03m#N=int(len(r)/2), integration_domain=[[r[int(len(r)/2)],r[-1]]]) # integral over r=0 to 6\u001b[39;00m\n\u001b[1;32m     17\u001b[0m \u001b[38;5;66;03m#norm = integrator.integrate(lambda r_aux: Phi_t(r_aux)**2, dim=1, \u001b[39;00m\n\u001b[1;32m     18\u001b[0m                     \u001b[38;5;66;03m#N=int(len(r)), integration_domain=[[r[0],r[-1]]]) # integral over r=0 to 6\u001b[39;00m\n\u001b[1;32m     20\u001b[0m \u001b[38;5;28;01mglobal\u001b[39;00m E\n\u001b[0;32m---> 21\u001b[0m E \u001b[38;5;241m=\u001b[39m integ(\u001b[38;5;28;01mlambda\u001b[39;00m r_aux: \u001b[43mPhi_H_Phi\u001b[49m\u001b[43m(\u001b[49m\u001b[43mr_aux\u001b[49m\u001b[43m,\u001b[49m\u001b[43m \u001b[49m\u001b[43mPhi_t\u001b[49m\u001b[43m(\u001b[49m\u001b[43mr_aux\u001b[49m\u001b[43m,\u001b[49m\u001b[43m \u001b[49m\u001b[43mintegral\u001b[49m\u001b[38;5;241;43m=\u001b[39;49m\u001b[38;5;28;43;01mTrue\u001b[39;49;00m\u001b[43m)\u001b[49m\u001b[43m)\u001b[49m, nitn\u001b[38;5;241m=\u001b[39m\u001b[38;5;241m10\u001b[39m, neval\u001b[38;5;241m=\u001b[39m\u001b[38;5;28mlen\u001b[39m(r)) \n\u001b[1;32m     22\u001b[0m E \u001b[38;5;241m=\u001b[39m torch\u001b[38;5;241m.\u001b[39mTensor(np\u001b[38;5;241m.\u001b[39marray(\u001b[38;5;28mfloat\u001b[39m(re\u001b[38;5;241m.\u001b[39msearch(\u001b[38;5;124m\"\u001b[39m\u001b[38;5;124m\\\u001b[39m\u001b[38;5;124md\u001b[39m\u001b[38;5;124m\\\u001b[39m\u001b[38;5;124mS\u001b[39m\u001b[38;5;124m\\\u001b[39m\u001b[38;5;124md*\u001b[39m\u001b[38;5;124m\"\u001b[39m, \u001b[38;5;28mstr\u001b[39m(np\u001b[38;5;241m.\u001b[39msqueeze(E)))[\u001b[38;5;241m0\u001b[39m])))\u001b[38;5;241m/\u001b[39m(\u001b[38;5;241m2\u001b[39m\u001b[38;5;241m*\u001b[39mnorm)\n\u001b[1;32m     23\u001b[0m \u001b[38;5;66;03m#E = integrator.integrate(lambda r_aux: Phi_t(r_aux)[100:]*H_Phi_t[100:], dim=1, \u001b[39;00m\n\u001b[1;32m     24\u001b[0m                  \u001b[38;5;66;03m#N=int(len(r)/2), integration_domain=[[r[int(len(r)/2)],r[-1]]]) / norm \u001b[39;00m\n\u001b[1;32m     25\u001b[0m \u001b[38;5;66;03m#E = integrator.integrate(lambda r_aux: Phi_t(r_aux)*H_Phi_t, dim=1, \u001b[39;00m\n\u001b[1;32m     26\u001b[0m                  \u001b[38;5;66;03m#N=int(len(r)), integration_domain=[[r[0],r[-1]]]) / norm \u001b[39;00m\n",
      "Input \u001b[0;32mIn [12]\u001b[0m, in \u001b[0;36mloss_fn.<locals>.Phi_H_Phi\u001b[0;34m(r, Phi)\u001b[0m\n\u001b[1;32m      5\u001b[0m \u001b[38;5;28;01mdef\u001b[39;00m \u001b[38;5;21mPhi_H_Phi\u001b[39m(r,Phi):\n\u001b[0;32m----> 6\u001b[0m     Phi_t_r \u001b[38;5;241m=\u001b[39m \u001b[43mtorch\u001b[49m\u001b[38;5;241;43m.\u001b[39;49m\u001b[43mautograd\u001b[49m\u001b[38;5;241;43m.\u001b[39;49m\u001b[43mgrad\u001b[49m\u001b[43m(\u001b[49m\u001b[43mPhi\u001b[49m\u001b[43m,\u001b[49m\u001b[43m \u001b[49m\u001b[43mr\u001b[49m\u001b[43m,\u001b[49m\u001b[43m \u001b[49m\u001b[43mgrad_outputs\u001b[49m\u001b[38;5;241;43m=\u001b[39;49m\u001b[43mtorch\u001b[49m\u001b[38;5;241;43m.\u001b[39;49m\u001b[43mones_like\u001b[49m\u001b[43m(\u001b[49m\u001b[43mPhi\u001b[49m\u001b[43m)\u001b[49m\u001b[43m,\u001b[49m\u001b[43m \u001b[49m\u001b[43mcreate_graph\u001b[49m\u001b[38;5;241;43m=\u001b[39;49m\u001b[38;5;28;43;01mTrue\u001b[39;49;00m\u001b[43m)\u001b[49m[\u001b[38;5;241m0\u001b[39m]\n\u001b[1;32m      7\u001b[0m     Phi_t_r_r \u001b[38;5;241m=\u001b[39m torch\u001b[38;5;241m.\u001b[39mautograd\u001b[38;5;241m.\u001b[39mgrad(Phi_t_r, r, grad_outputs\u001b[38;5;241m=\u001b[39mtorch\u001b[38;5;241m.\u001b[39mones_like(Phi_t_r), create_graph\u001b[38;5;241m=\u001b[39m\u001b[38;5;28;01mTrue\u001b[39;00m)[\u001b[38;5;241m0\u001b[39m]\n\u001b[1;32m      8\u001b[0m     H_Phi_t \u001b[38;5;241m=\u001b[39m \u001b[38;5;241m-\u001b[39m(hbar\u001b[38;5;241m*\u001b[39m\u001b[38;5;241m*\u001b[39m\u001b[38;5;241m2\u001b[39m\u001b[38;5;241m/\u001b[39m(\u001b[38;5;241m2\u001b[39m\u001b[38;5;241m*\u001b[39mm))\u001b[38;5;241m*\u001b[39mPhi_t_r_r \u001b[38;5;241m+\u001b[39m (l\u001b[38;5;241m*\u001b[39m(l\u001b[38;5;241m+\u001b[39m\u001b[38;5;241m1\u001b[39m)\u001b[38;5;241m*\u001b[39mhbar\u001b[38;5;241m*\u001b[39m\u001b[38;5;241m*\u001b[39m\u001b[38;5;241m2\u001b[39m\u001b[38;5;241m/\u001b[39m(\u001b[38;5;241m2\u001b[39m\u001b[38;5;241m*\u001b[39mm\u001b[38;5;241m*\u001b[39mr\u001b[38;5;241m*\u001b[39m\u001b[38;5;241m*\u001b[39m\u001b[38;5;241m2\u001b[39m) \u001b[38;5;241m+\u001b[39m V(r))\u001b[38;5;241m*\u001b[39mPhi\n",
      "File \u001b[0;32m~/anaconda3/lib/python3.9/site-packages/torch/autograd/__init__.py:275\u001b[0m, in \u001b[0;36mgrad\u001b[0;34m(outputs, inputs, grad_outputs, retain_graph, create_graph, only_inputs, allow_unused, is_grads_batched)\u001b[0m\n\u001b[1;32m    273\u001b[0m     \u001b[38;5;28;01mreturn\u001b[39;00m _vmap_internals\u001b[38;5;241m.\u001b[39m_vmap(vjp, \u001b[38;5;241m0\u001b[39m, \u001b[38;5;241m0\u001b[39m, allow_none_pass_through\u001b[38;5;241m=\u001b[39m\u001b[38;5;28;01mTrue\u001b[39;00m)(grad_outputs)\n\u001b[1;32m    274\u001b[0m \u001b[38;5;28;01melse\u001b[39;00m:\n\u001b[0;32m--> 275\u001b[0m     \u001b[38;5;28;01mreturn\u001b[39;00m \u001b[43mVariable\u001b[49m\u001b[38;5;241;43m.\u001b[39;49m\u001b[43m_execution_engine\u001b[49m\u001b[38;5;241;43m.\u001b[39;49m\u001b[43mrun_backward\u001b[49m\u001b[43m(\u001b[49m\u001b[43m  \u001b[49m\u001b[38;5;66;43;03m# Calls into the C++ engine to run the backward pass\u001b[39;49;00m\n\u001b[1;32m    276\u001b[0m \u001b[43m        \u001b[49m\u001b[43moutputs\u001b[49m\u001b[43m,\u001b[49m\u001b[43m \u001b[49m\u001b[43mgrad_outputs_\u001b[49m\u001b[43m,\u001b[49m\u001b[43m \u001b[49m\u001b[43mretain_graph\u001b[49m\u001b[43m,\u001b[49m\u001b[43m \u001b[49m\u001b[43mcreate_graph\u001b[49m\u001b[43m,\u001b[49m\u001b[43m \u001b[49m\u001b[43minputs\u001b[49m\u001b[43m,\u001b[49m\n\u001b[1;32m    277\u001b[0m \u001b[43m        \u001b[49m\u001b[43mallow_unused\u001b[49m\u001b[43m,\u001b[49m\u001b[43m \u001b[49m\u001b[43maccumulate_grad\u001b[49m\u001b[38;5;241;43m=\u001b[39;49m\u001b[38;5;28;43;01mFalse\u001b[39;49;00m\u001b[43m)\u001b[49m\n",
      "\u001b[0;31mRuntimeError\u001b[0m: element 0 of tensors does not require grad and does not have a grad_fn"
     ]
    }
   ],
   "source": [
    "upper_r = 6\n",
    "lower_r = -6\n",
    "steps = 200\n",
    "R_train = torch.Tensor(np.linspace(lower_r, upper_r, steps)[:,None])\n",
    "global integ\n",
    "integ = vegas.Integrator([[lower_r,upper_r]])\n",
    "epoch = 1000\n",
    "lr = 2e-4\n",
    "Phis_t = []\n",
    "Es = []\n",
    "lss = []\n",
    "epochs = []\n",
    "\n",
    "model = NeuralNetwork().to(device)\n",
    "initialize_weights(model)\n",
    "optimizer = torch.optim.LBFGS(model.parameters(), lr=lr)\n",
    "for t in range(epoch):\n",
    "    lss_aux = loss_fn(R_train.to(device))\n",
    "    print(f\"Epoch {t+1}\\n ---------------------- loss: {lss_aux}\")\n",
    "    training(R_train, loss_fn, optimizer)\n",
    "    if t%10 == 0:\n",
    "        Phis_t.append(Phi_t(R_train).detach().numpy())\n",
    "        Es.append(E.detach().numpy())\n",
    "        lss.append(lss_aux.detach().numpy())\n",
    "        epochs.append(t)\n",
    "print(\"Done!\")"
   ]
  },
  {
   "cell_type": "code",
   "execution_count": null,
   "id": "a8e205c8",
   "metadata": {},
   "outputs": [],
   "source": [
    "rr = np.linspace(lower_r, upper_r, steps)[:,None]\n",
    "fig, axs = plt.subplots(3,3,figsize=(15,10))\n",
    "\n",
    "fil = 0\n",
    "col = 0\n",
    "for i in range(1,10):\n",
    "    yy = Phis_t[i]\n",
    "    axs[fil,col].plot(rr, yy.squeeze(), \".\", label=f\"Epochs {epochs[i]}\")\n",
    "    axs[fil,col].set_xlabel(\"$r$\")\n",
    "    axs[fil,col].set_ylabel(\"$\\phi(x)$\")\n",
    "    axs[fil,col].legend(loc=\"best\")\n",
    "    axs[fil,col].ticklabel_format(style='sci', axis='y', scilimits=(0,0))\n",
    "    if col == 2:\n",
    "       col = 0\n",
    "       fil = fil+1\n",
    "    else:\n",
    "       col = col+1\n",
    "plt.tight_layout()\n",
    "plt.show()        "
   ]
  },
  {
   "cell_type": "code",
   "execution_count": null,
   "id": "c1e25cd2",
   "metadata": {},
   "outputs": [],
   "source": [
    "plt.subplots(1,2,figsize=(12,4))\n",
    "plt.subplot(121)\n",
    "plt.plot(epochs, Es, \"r.\", label=\"Energies\")\n",
    "plt.title(\"Eigenvalues of Energy\")\n",
    "plt.xlabel(\"Epochs\")\n",
    "plt.ylabel(\"Energy\")\n",
    "plt.grid()\n",
    "plt.legend(loc=\"best\")\n",
    "plt.subplot(122)\n",
    "plt.plot(epochs, lss, \"b.\", label=\"Losses\")\n",
    "plt.title(\"Loss per 100 epochs\")\n",
    "plt.xlabel(\"Epochs\")\n",
    "plt.ylabel(\"Loss\")\n",
    "plt.grid()\n",
    "plt.legend(loc=\"best\")\n",
    "plt.show()"
   ]
  },
  {
   "cell_type": "code",
   "execution_count": null,
   "id": "4233b35c",
   "metadata": {},
   "outputs": [],
   "source": [
    "np.mean(np.squeeze(Es) > -1)"
   ]
  },
  {
   "cell_type": "code",
   "execution_count": null,
   "id": "2c1ee3e7",
   "metadata": {},
   "outputs": [],
   "source": []
  },
  {
   "cell_type": "code",
   "execution_count": null,
   "id": "51aaac49",
   "metadata": {},
   "outputs": [],
   "source": []
  },
  {
   "cell_type": "code",
   "execution_count": null,
   "id": "a2bebecf",
   "metadata": {},
   "outputs": [],
   "source": []
  }
 ],
 "metadata": {
  "kernelspec": {
   "display_name": "Python 3 (ipykernel)",
   "language": "python",
   "name": "python3"
  },
  "language_info": {
   "codemirror_mode": {
    "name": "ipython",
    "version": 3
   },
   "file_extension": ".py",
   "mimetype": "text/x-python",
   "name": "python",
   "nbconvert_exporter": "python",
   "pygments_lexer": "ipython3",
   "version": "3.9.11"
  }
 },
 "nbformat": 4,
 "nbformat_minor": 5
}
