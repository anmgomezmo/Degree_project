{
 "cells": [
  {
   "cell_type": "code",
   "execution_count": 1,
   "id": "3c0a5f55",
   "metadata": {},
   "outputs": [
    {
     "data": {
      "text/plain": [
       "'cpu'"
      ]
     },
     "execution_count": 1,
     "metadata": {},
     "output_type": "execute_result"
    }
   ],
   "source": [
    "import torch\n",
    "from torch import nn\n",
    "import matplotlib.pyplot as plt\n",
    "import numpy as np\n",
    "from torchquad import VEGAS\n",
    "\n",
    "#device = torch.device(\"cuda:0\" if torch.cuda.is_available() else \"cpu\")\n",
    "device = \"cpu\"\n",
    "device"
   ]
  },
  {
   "cell_type": "markdown",
   "id": "120e12da",
   "metadata": {},
   "source": [
    "## Neural Network Model"
   ]
  },
  {
   "cell_type": "code",
   "execution_count": 2,
   "id": "0688a939",
   "metadata": {},
   "outputs": [],
   "source": [
    "class NeuralNetwork(nn.Module):\n",
    "    def __init__(self):\n",
    "        super(NeuralNetwork, self).__init__()\n",
    "        self.layers = nn.Sequential(\n",
    "        nn.Linear(1,10),\n",
    "        nn.Sigmoid(),\n",
    "        nn.Linear(10,1, bias=False)\n",
    "        )\n",
    "        \n",
    "    def forward(self, x):\n",
    "        N = self.layers(x)\n",
    "        return N"
   ]
  },
  {
   "cell_type": "code",
   "execution_count": 3,
   "id": "bb3f158c",
   "metadata": {},
   "outputs": [],
   "source": [
    "def training(x, loss_fn, optimizer):\n",
    "    x = x.to(device)\n",
    "    def closure():\n",
    "        loss = loss_fn(x)\n",
    "        optimizer.zero_grad()\n",
    "        loss.backward()\n",
    "        return loss\n",
    "    optimizer.step(closure)"
   ]
  },
  {
   "cell_type": "markdown",
   "id": "a1083422",
   "metadata": {},
   "source": [
    "### Differential equation\n",
    "$$\\frac{d^2\\phi(r)}{dr^2} + \\frac{2m}{\\hbar^2}\\left(E-\\frac{l(l+1)}{2mr^2}\\hbar^2+V(r)\\right)\\phi(r) = 0$$ \n",
    "Dataset are vectors of domain of differential equation, like the vectors are one-dimentional, the shape of dataset is one by m samples. Trial solution $\\phi_t(r) = e^{-\\beta r^2}N(r,\\vec{p})$, with $\\phi(r=0) = 0$ and $\\phi(r\\rightarrow\\infty) = 0$ as boundary conditions.  "
   ]
  },
  {
   "cell_type": "code",
   "execution_count": 4,
   "id": "1d877d70",
   "metadata": {},
   "outputs": [
    {
     "data": {
      "text/plain": [
       "NeuralNetwork(\n",
       "  (layers): Sequential(\n",
       "    (0): Linear(in_features=1, out_features=10, bias=True)\n",
       "    (1): Sigmoid()\n",
       "    (2): Linear(in_features=10, out_features=1, bias=False)\n",
       "  )\n",
       ")"
      ]
     },
     "execution_count": 4,
     "metadata": {},
     "output_type": "execute_result"
    }
   ],
   "source": [
    "model = NeuralNetwork().to(device)\n",
    "model"
   ]
  },
  {
   "cell_type": "code",
   "execution_count": 6,
   "id": "498a4cb2",
   "metadata": {},
   "outputs": [],
   "source": [
    "global E\n",
    "beta = 2\n",
    "global Z\n",
    "Z = 1\n",
    "global e\n",
    "#e = -1.602e-19\n",
    "e = -1\n",
    "global hbar\n",
    "#hbar = 1.054e-34\n",
    "hbar = 1\n",
    "global m\n",
    "#m = 9.109e-31\n",
    "m = 1\n",
    "global l\n",
    "l = 0\n",
    "\n",
    "V = lambda r: -(Z*e**2)/r\n",
    "Phi_t = lambda r: torch.exp(-beta*r**2) * model.forward(r)\n",
    "\n",
    "global vg\n",
    "vg = VEGAS()"
   ]
  },
  {
   "cell_type": "code",
   "execution_count": 34,
   "id": "346e914d",
   "metadata": {},
   "outputs": [],
   "source": [
    "def loss_fn(r):\n",
    "    r.requires_grad = True\n",
    "    \n",
    "    Phi = Phi_t(r)\n",
    "    Phi_t_r = torch.autograd.grad(Phi, r, grad_outputs=torch.ones_like(Phi), create_graph=True)[0]\n",
    "    Phi_t_r_r = torch.autograd.grad(Phi_t_r, r, grad_outputs=torch.ones_like(Phi_t_r), create_graph=True)[0]\n",
    "    H_Phi_t = -(hbar**2/(2*m))*Phi_t_r_r + (l*(l+1)*hbar**2/(2*m*r**2) + V(r))*Phi\n",
    "    \n",
    "    prom = Phi.size()[0]\n",
    "    \n",
    "    norm = vg.integrate(lambda r: Phi_t(r)**2, dim=1, \n",
    "                        N=int(len(r)/2), integration_domain=[[r[int(len(r)/2)],r[-1]]]) # integral over r=0 to 6\n",
    "    \n",
    "    E = vg.integrate(lambda r: Phi_t(r)*H_Phi_t, dim=1, \n",
    "                     N=int(len(r)/2), integration_domain=[[r[int(len(r)/2)],r[-1]]]) / norm \n",
    "    \n",
    "    return (torch.mean((H_Phi_t - E*Phi)**2)*prom)/norm #multiply by m to avoit division by m in the mean function of torh "
   ]
  },
  {
   "cell_type": "code",
   "execution_count": 35,
   "id": "0b12d96d",
   "metadata": {},
   "outputs": [
    {
     "name": "stderr",
     "output_type": "stream",
     "text": [
      "/home/andresgo/anaconda3/lib/python3.9/site-packages/torchquad/integration/vegas_stratification.py:113: UserWarning: __floordiv__ is deprecated, and its behavior will change in a future version of pytorch. It currently rounds toward 0 (like the 'trunc' function NOT 'floor'). This results in incorrect rounding for negative values. To keep the current behavior, use torch.div(a, b, rounding_mode='trunc'), or for actual floor division, use torch.div(a, b, rounding_mode='floor').\n",
      "  q = tmp // self.N_strat\n",
      "21:55:06|TQ-INFO| Iteration 1, Acc=nan, Result=nan,neval=13\n",
      "21:55:07|TQ-INFO| Iteration 2, Acc=nan, Result=nan,neval=21\n",
      "21:55:07|TQ-INFO| Iteration 3, Acc=nan, Result=nan,neval=29\n",
      "21:55:07|TQ-INFO| Iteration 4, Acc=nan, Result=nan,neval=37\n",
      "21:55:07|TQ-INFO| Iteration 5, Acc=nan, Result=nan,neval=45\n",
      "21:55:07|TQ-INFO| Iteration 6, Acc=nan, Result=nan,neval=53\n",
      "21:55:07|TQ-INFO| Iteration 7, Acc=nan, Result=nan,neval=61\n",
      "21:55:07|TQ-INFO| Iteration 8, Acc=nan, Result=nan,neval=69\n",
      "21:55:07|TQ-INFO| Iteration 9, Acc=nan, Result=nan,neval=77\n",
      "21:55:07|TQ-INFO| Iteration 10, Acc=nan, Result=nan,neval=85\n",
      "21:55:07|TQ-INFO| Iteration 11, Acc=nan, Result=nan,neval=93\n",
      "21:55:07|TQ-INFO| Iteration 12, Acc=nan, Result=nan,neval=101\n",
      "21:55:07|TQ-INFO| Computed integral after 101 evals was nan.\n"
     ]
    },
    {
     "ename": "ValueError",
     "evalue": "The passed function was given 1 points but only returned 200 value(s).Please ensure that your function is vectorized, i.e. can be called with multiple evaluation points at once. It should return a tensor where first dimension matches length of passed elements. ",
     "output_type": "error",
     "traceback": [
      "\u001b[0;31m---------------------------------------------------------------------------\u001b[0m",
      "\u001b[0;31mValueError\u001b[0m                                Traceback (most recent call last)",
      "Input \u001b[0;32mIn [35]\u001b[0m, in \u001b[0;36m<cell line: 2>\u001b[0;34m()\u001b[0m\n\u001b[1;32m      1\u001b[0m R_train \u001b[38;5;241m=\u001b[39m torch\u001b[38;5;241m.\u001b[39mTensor(np\u001b[38;5;241m.\u001b[39mlinspace(\u001b[38;5;241m-\u001b[39m\u001b[38;5;241m6\u001b[39m, \u001b[38;5;241m6\u001b[39m, \u001b[38;5;241m200\u001b[39m)[:,\u001b[38;5;28;01mNone\u001b[39;00m])\n\u001b[0;32m----> 2\u001b[0m \u001b[43mloss_fn\u001b[49m\u001b[43m(\u001b[49m\u001b[43mR_train\u001b[49m\u001b[43m)\u001b[49m\n",
      "Input \u001b[0;32mIn [34]\u001b[0m, in \u001b[0;36mloss_fn\u001b[0;34m(r)\u001b[0m\n\u001b[1;32m      9\u001b[0m prom \u001b[38;5;241m=\u001b[39m Phi\u001b[38;5;241m.\u001b[39msize()[\u001b[38;5;241m0\u001b[39m]\n\u001b[1;32m     11\u001b[0m norm \u001b[38;5;241m=\u001b[39m vg\u001b[38;5;241m.\u001b[39mintegrate(\u001b[38;5;28;01mlambda\u001b[39;00m r: Phi_t(r)\u001b[38;5;241m*\u001b[39m\u001b[38;5;241m*\u001b[39m\u001b[38;5;241m2\u001b[39m, dim\u001b[38;5;241m=\u001b[39m\u001b[38;5;241m1\u001b[39m, \n\u001b[1;32m     12\u001b[0m                     N\u001b[38;5;241m=\u001b[39m\u001b[38;5;28mint\u001b[39m(\u001b[38;5;28mlen\u001b[39m(r)\u001b[38;5;241m/\u001b[39m\u001b[38;5;241m2\u001b[39m), integration_domain\u001b[38;5;241m=\u001b[39m[[r[\u001b[38;5;28mint\u001b[39m(\u001b[38;5;28mlen\u001b[39m(r)\u001b[38;5;241m/\u001b[39m\u001b[38;5;241m2\u001b[39m)],r[\u001b[38;5;241m-\u001b[39m\u001b[38;5;241m1\u001b[39m]]]) \u001b[38;5;66;03m# integral over r=0 to 6\u001b[39;00m\n\u001b[0;32m---> 14\u001b[0m E \u001b[38;5;241m=\u001b[39m \u001b[43mvg\u001b[49m\u001b[38;5;241;43m.\u001b[39;49m\u001b[43mintegrate\u001b[49m\u001b[43m(\u001b[49m\u001b[38;5;28;43;01mlambda\u001b[39;49;00m\u001b[43m \u001b[49m\u001b[43mr\u001b[49m\u001b[43m:\u001b[49m\u001b[43m \u001b[49m\u001b[43mPhi_t\u001b[49m\u001b[43m(\u001b[49m\u001b[43mr\u001b[49m\u001b[43m)\u001b[49m\u001b[38;5;241;43m*\u001b[39;49m\u001b[43mH_Phi_t\u001b[49m\u001b[43m,\u001b[49m\u001b[43m \u001b[49m\u001b[43mdim\u001b[49m\u001b[38;5;241;43m=\u001b[39;49m\u001b[38;5;241;43m1\u001b[39;49m\u001b[43m,\u001b[49m\u001b[43m \u001b[49m\n\u001b[1;32m     15\u001b[0m \u001b[43m                 \u001b[49m\u001b[43mN\u001b[49m\u001b[38;5;241;43m=\u001b[39;49m\u001b[38;5;28;43mint\u001b[39;49m\u001b[43m(\u001b[49m\u001b[38;5;28;43mlen\u001b[39;49m\u001b[43m(\u001b[49m\u001b[43mr\u001b[49m\u001b[43m)\u001b[49m\u001b[38;5;241;43m/\u001b[39;49m\u001b[38;5;241;43m2\u001b[39;49m\u001b[43m)\u001b[49m\u001b[43m,\u001b[49m\u001b[43m \u001b[49m\u001b[43mintegration_domain\u001b[49m\u001b[38;5;241;43m=\u001b[39;49m\u001b[43m[\u001b[49m\u001b[43m[\u001b[49m\u001b[43mr\u001b[49m\u001b[43m[\u001b[49m\u001b[38;5;28;43mint\u001b[39;49m\u001b[43m(\u001b[49m\u001b[38;5;28;43mlen\u001b[39;49m\u001b[43m(\u001b[49m\u001b[43mr\u001b[49m\u001b[43m)\u001b[49m\u001b[38;5;241;43m/\u001b[39;49m\u001b[38;5;241;43m2\u001b[39;49m\u001b[43m)\u001b[49m\u001b[43m]\u001b[49m\u001b[43m,\u001b[49m\u001b[43mr\u001b[49m\u001b[43m[\u001b[49m\u001b[38;5;241;43m-\u001b[39;49m\u001b[38;5;241;43m1\u001b[39;49m\u001b[43m]\u001b[49m\u001b[43m]\u001b[49m\u001b[43m]\u001b[49m\u001b[43m)\u001b[49m \u001b[38;5;241m/\u001b[39m norm \n\u001b[1;32m     17\u001b[0m \u001b[38;5;28;01mreturn\u001b[39;00m (torch\u001b[38;5;241m.\u001b[39mmean((H_Phi_t \u001b[38;5;241m-\u001b[39m E\u001b[38;5;241m*\u001b[39mPhi)\u001b[38;5;241m*\u001b[39m\u001b[38;5;241m*\u001b[39m\u001b[38;5;241m2\u001b[39m)\u001b[38;5;241m*\u001b[39mprom)\u001b[38;5;241m/\u001b[39mnorm\n",
      "File \u001b[0;32m~/anaconda3/lib/python3.9/site-packages/torchquad/integration/vegas.py:98\u001b[0m, in \u001b[0;36mVEGAS.integrate\u001b[0;34m(self, fn, dim, N, integration_domain, seed, use_grid_improve, eps_rel, eps_abs, max_iterations, use_warmup)\u001b[0m\n\u001b[1;32m     95\u001b[0m \u001b[38;5;28mself\u001b[39m\u001b[38;5;241m.\u001b[39mit \u001b[38;5;241m=\u001b[39m \u001b[38;5;241m0\u001b[39m  \u001b[38;5;66;03m# iteration\u001b[39;00m\n\u001b[1;32m     97\u001b[0m \u001b[38;5;28;01mif\u001b[39;00m use_warmup:  \u001b[38;5;66;03m# warmup the adaptive map\u001b[39;00m\n\u001b[0;32m---> 98\u001b[0m     \u001b[38;5;28;43mself\u001b[39;49m\u001b[38;5;241;43m.\u001b[39;49m\u001b[43m_warmup_grid\u001b[49m\u001b[43m(\u001b[49m\u001b[38;5;241;43m5\u001b[39;49m\u001b[43m,\u001b[49m\u001b[43m \u001b[49m\u001b[38;5;28;43mself\u001b[39;49m\u001b[38;5;241;43m.\u001b[39;49m\u001b[43m_starting_N\u001b[49m\u001b[43m \u001b[49m\u001b[38;5;241;43m/\u001b[39;49m\u001b[38;5;241;43m/\u001b[39;49m\u001b[43m \u001b[49m\u001b[38;5;241;43m5\u001b[39;49m\u001b[43m)\u001b[49m\n\u001b[1;32m    100\u001b[0m \u001b[38;5;66;03m# Main loop\u001b[39;00m\n\u001b[1;32m    101\u001b[0m \u001b[38;5;28;01mwhile\u001b[39;00m \u001b[38;5;28;01mTrue\u001b[39;00m:\n",
      "File \u001b[0;32m~/anaconda3/lib/python3.9/site-packages/torchquad/integration/vegas.py:185\u001b[0m, in \u001b[0;36mVEGAS._warmup_grid\u001b[0;34m(self, warmup_N_it, N_samples)\u001b[0m\n\u001b[1;32m    183\u001b[0m yrnd \u001b[38;5;241m=\u001b[39m torch\u001b[38;5;241m.\u001b[39mrand(size\u001b[38;5;241m=\u001b[39m[N_samples, \u001b[38;5;28mself\u001b[39m\u001b[38;5;241m.\u001b[39m_dim]) \u001b[38;5;241m*\u001b[39m \u001b[38;5;241m0.999999\u001b[39m\n\u001b[1;32m    184\u001b[0m x \u001b[38;5;241m=\u001b[39m \u001b[38;5;28mself\u001b[39m\u001b[38;5;241m.\u001b[39mmap\u001b[38;5;241m.\u001b[39mget_X(yrnd)\n\u001b[0;32m--> 185\u001b[0m f_eval \u001b[38;5;241m=\u001b[39m \u001b[38;5;28;43mself\u001b[39;49m\u001b[38;5;241;43m.\u001b[39;49m\u001b[43m_eval\u001b[49m\u001b[43m(\u001b[49m\u001b[43mx\u001b[49m\u001b[43m)\u001b[49m\u001b[38;5;241m.\u001b[39msqueeze()\n\u001b[1;32m    186\u001b[0m jac \u001b[38;5;241m=\u001b[39m \u001b[38;5;28mself\u001b[39m\u001b[38;5;241m.\u001b[39mmap\u001b[38;5;241m.\u001b[39mget_Jac(yrnd)\n\u001b[1;32m    187\u001b[0m jf_vec \u001b[38;5;241m=\u001b[39m f_eval \u001b[38;5;241m*\u001b[39m jac\n",
      "File \u001b[0;32m~/anaconda3/lib/python3.9/site-packages/torchquad/integration/base_integrator.py:44\u001b[0m, in \u001b[0;36mBaseIntegrator._eval\u001b[0;34m(self, points)\u001b[0m\n\u001b[1;32m     41\u001b[0m     result \u001b[38;5;241m=\u001b[39m torch\u001b[38;5;241m.\u001b[39mtensor(result)\n\u001b[1;32m     43\u001b[0m \u001b[38;5;28;01mif\u001b[39;00m \u001b[38;5;28mlen\u001b[39m(result) \u001b[38;5;241m!=\u001b[39m \u001b[38;5;28mlen\u001b[39m(points):\n\u001b[0;32m---> 44\u001b[0m     \u001b[38;5;28;01mraise\u001b[39;00m \u001b[38;5;167;01mValueError\u001b[39;00m(\n\u001b[1;32m     45\u001b[0m         \u001b[38;5;124mf\u001b[39m\u001b[38;5;124m\"\u001b[39m\u001b[38;5;124mThe passed function was given \u001b[39m\u001b[38;5;132;01m{\u001b[39;00m\u001b[38;5;28mlen\u001b[39m(points)\u001b[38;5;132;01m}\u001b[39;00m\u001b[38;5;124m points but only returned \u001b[39m\u001b[38;5;132;01m{\u001b[39;00m\u001b[38;5;28mlen\u001b[39m(result)\u001b[38;5;132;01m}\u001b[39;00m\u001b[38;5;124m value(s).\u001b[39m\u001b[38;5;124m\"\u001b[39m\n\u001b[1;32m     46\u001b[0m         \u001b[38;5;124mf\u001b[39m\u001b[38;5;124m\"\u001b[39m\u001b[38;5;124mPlease ensure that your function is vectorized, i.e. can be called with multiple evaluation points at once. It should return a tensor \u001b[39m\u001b[38;5;124m\"\u001b[39m\n\u001b[1;32m     47\u001b[0m         \u001b[38;5;124mf\u001b[39m\u001b[38;5;124m\"\u001b[39m\u001b[38;5;124mwhere first dimension matches length of passed elements. \u001b[39m\u001b[38;5;124m\"\u001b[39m\n\u001b[1;32m     48\u001b[0m     )\n\u001b[1;32m     50\u001b[0m \u001b[38;5;28;01mreturn\u001b[39;00m result\n",
      "\u001b[0;31mValueError\u001b[0m: The passed function was given 1 points but only returned 200 value(s).Please ensure that your function is vectorized, i.e. can be called with multiple evaluation points at once. It should return a tensor where first dimension matches length of passed elements. "
     ]
    }
   ],
   "source": [
    "R_train = torch.Tensor(np.linspace(-6, 6, 200)[:,None])\n",
    "loss_fn(R_train)"
   ]
  },
  {
   "cell_type": "code",
   "execution_count": null,
   "id": "e50120fb",
   "metadata": {},
   "outputs": [],
   "source": []
  },
  {
   "cell_type": "code",
   "execution_count": null,
   "id": "6fbe742f",
   "metadata": {},
   "outputs": [],
   "source": []
  },
  {
   "cell_type": "code",
   "execution_count": null,
   "id": "20c5f9d7",
   "metadata": {},
   "outputs": [],
   "source": []
  },
  {
   "cell_type": "code",
   "execution_count": 22,
   "id": "c1756b02",
   "metadata": {},
   "outputs": [
    {
     "data": {
      "text/plain": [
       "0.030150753768843686"
      ]
     },
     "execution_count": 22,
     "metadata": {},
     "output_type": "execute_result"
    }
   ],
   "source": [
    "x = np.linspace(-6,6,200)\n",
    "x[int(len(x)/2)]"
   ]
  },
  {
   "cell_type": "code",
   "execution_count": 18,
   "id": "d8141653",
   "metadata": {},
   "outputs": [
    {
     "data": {
      "text/plain": [
       "0.030150753768844574"
      ]
     },
     "execution_count": 18,
     "metadata": {},
     "output_type": "execute_result"
    }
   ],
   "source": [
    "-6+100*12/199"
   ]
  },
  {
   "cell_type": "code",
   "execution_count": 24,
   "id": "468c03a1",
   "metadata": {},
   "outputs": [
    {
     "data": {
      "text/plain": [
       "6.0"
      ]
     },
     "execution_count": 24,
     "metadata": {},
     "output_type": "execute_result"
    }
   ],
   "source": [
    "x.max()"
   ]
  },
  {
   "cell_type": "code",
   "execution_count": 25,
   "id": "c5f0549a",
   "metadata": {},
   "outputs": [
    {
     "data": {
      "text/plain": [
       "6.0"
      ]
     },
     "execution_count": 25,
     "metadata": {},
     "output_type": "execute_result"
    }
   ],
   "source": [
    "x[-1]"
   ]
  },
  {
   "cell_type": "code",
   "execution_count": 26,
   "id": "56f5e73d",
   "metadata": {},
   "outputs": [
    {
     "data": {
      "text/plain": [
       "100"
      ]
     },
     "execution_count": 26,
     "metadata": {},
     "output_type": "execute_result"
    }
   ],
   "source": [
    "len(x[100:])"
   ]
  },
  {
   "cell_type": "code",
   "execution_count": 28,
   "id": "a123221e",
   "metadata": {},
   "outputs": [
    {
     "data": {
      "text/plain": [
       "(100,)"
      ]
     },
     "execution_count": 28,
     "metadata": {},
     "output_type": "execute_result"
    }
   ],
   "source": [
    "x[100:].shape"
   ]
  },
  {
   "cell_type": "code",
   "execution_count": 29,
   "id": "e735f6b5",
   "metadata": {},
   "outputs": [
    {
     "data": {
      "text/plain": [
       "tensor([-6.0000, -5.9397, -5.8794, -5.8191, -5.7588, -5.6985, -5.6382, -5.5779,\n",
       "        -5.5176, -5.4573, -5.3970, -5.3367, -5.2764, -5.2161, -5.1558, -5.0955,\n",
       "        -5.0352, -4.9749, -4.9146, -4.8543, -4.7940, -4.7337, -4.6734, -4.6131,\n",
       "        -4.5528, -4.4925, -4.4322, -4.3719, -4.3116, -4.2513, -4.1910, -4.1307,\n",
       "        -4.0704, -4.0101, -3.9497, -3.8894, -3.8291, -3.7688, -3.7085, -3.6482,\n",
       "        -3.5879, -3.5276, -3.4673, -3.4070, -3.3467, -3.2864, -3.2261, -3.1658,\n",
       "        -3.1055, -3.0452, -2.9849, -2.9246, -2.8643, -2.8040, -2.7437, -2.6834,\n",
       "        -2.6231, -2.5628, -2.5025, -2.4422, -2.3819, -2.3216, -2.2613, -2.2010,\n",
       "        -2.1407, -2.0804, -2.0201, -1.9598, -1.8995, -1.8392, -1.7789, -1.7186,\n",
       "        -1.6583, -1.5980, -1.5377, -1.4774, -1.4171, -1.3568, -1.2965, -1.2362,\n",
       "        -1.1759, -1.1156, -1.0553, -0.9950, -0.9347, -0.8744, -0.8141, -0.7538,\n",
       "        -0.6935, -0.6332, -0.5729, -0.5126, -0.4523, -0.3920, -0.3317, -0.2714,\n",
       "        -0.2111, -0.1508, -0.0905, -0.0302,  0.0302,  0.0905,  0.1508,  0.2111,\n",
       "         0.2714,  0.3317,  0.3920,  0.4523,  0.5126,  0.5729,  0.6332,  0.6935,\n",
       "         0.7538,  0.8141,  0.8744,  0.9347,  0.9950,  1.0553,  1.1156,  1.1759,\n",
       "         1.2362,  1.2965,  1.3568,  1.4171,  1.4774,  1.5377,  1.5980,  1.6583,\n",
       "         1.7186,  1.7789,  1.8392,  1.8995,  1.9598,  2.0201,  2.0804,  2.1407,\n",
       "         2.2010,  2.2613,  2.3216,  2.3819,  2.4422,  2.5025,  2.5628,  2.6231,\n",
       "         2.6834,  2.7437,  2.8040,  2.8643,  2.9246,  2.9849,  3.0452,  3.1055,\n",
       "         3.1658,  3.2261,  3.2864,  3.3467,  3.4070,  3.4673,  3.5276,  3.5879,\n",
       "         3.6482,  3.7085,  3.7688,  3.8291,  3.8894,  3.9497,  4.0101,  4.0704,\n",
       "         4.1307,  4.1910,  4.2513,  4.3116,  4.3719,  4.4322,  4.4925,  4.5528,\n",
       "         4.6131,  4.6734,  4.7337,  4.7940,  4.8543,  4.9146,  4.9749,  5.0352,\n",
       "         5.0955,  5.1558,  5.2161,  5.2764,  5.3367,  5.3970,  5.4573,  5.5176,\n",
       "         5.5779,  5.6382,  5.6985,  5.7588,  5.8191,  5.8794,  5.9397,  6.0000])"
      ]
     },
     "execution_count": 29,
     "metadata": {},
     "output_type": "execute_result"
    }
   ],
   "source": [
    "y = torch.linspace(-6,6,200)\n",
    "y"
   ]
  },
  {
   "cell_type": "code",
   "execution_count": 30,
   "id": "cddcc679",
   "metadata": {},
   "outputs": [
    {
     "data": {
      "text/plain": [
       "200"
      ]
     },
     "execution_count": 30,
     "metadata": {},
     "output_type": "execute_result"
    }
   ],
   "source": [
    "len(y)"
   ]
  },
  {
   "cell_type": "code",
   "execution_count": null,
   "id": "fa62d0b3",
   "metadata": {},
   "outputs": [],
   "source": []
  }
 ],
 "metadata": {
  "kernelspec": {
   "display_name": "Python 3 (ipykernel)",
   "language": "python",
   "name": "python3"
  },
  "language_info": {
   "codemirror_mode": {
    "name": "ipython",
    "version": 3
   },
   "file_extension": ".py",
   "mimetype": "text/x-python",
   "name": "python",
   "nbconvert_exporter": "python",
   "pygments_lexer": "ipython3",
   "version": "3.9.11"
  }
 },
 "nbformat": 4,
 "nbformat_minor": 5
}
