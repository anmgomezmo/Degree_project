{
 "cells": [
  {
   "cell_type": "code",
   "execution_count": 9,
   "id": "f1340321",
   "metadata": {},
   "outputs": [
    {
     "data": {
      "text/plain": [
       "device(type='cuda')"
      ]
     },
     "execution_count": 9,
     "metadata": {},
     "output_type": "execute_result"
    }
   ],
   "source": [
    "import torch\n",
    "from torch import nn\n",
    "from matplotlib import pyplot as plt \n",
    "import numpy as np\n",
    "from datetime import datetime\n",
    "\n",
    "device = torch.device(\"cuda\" if torch.cuda.is_available() else \"cpu\")\n",
    "device"
   ]
  },
  {
   "cell_type": "markdown",
   "id": "6092abdd",
   "metadata": {},
   "source": [
    "## Neural Network Model"
   ]
  },
  {
   "cell_type": "code",
   "execution_count": 10,
   "id": "8df790a1",
   "metadata": {},
   "outputs": [],
   "source": [
    "class NeuralNetwork(nn.Module):\n",
    "    def __init__(self):\n",
    "        super(NeuralNetwork, self).__init__()\n",
    "        self.mylayers = nn.Sequential(\n",
    "        nn.Linear(1,10),\n",
    "        nn.Sigmoid(),\n",
    "        nn.Linear(10,1, bias=False)\n",
    "        )\n",
    "        \n",
    "    def forward(self, X):\n",
    "        N = self.mylayers(X)\n",
    "        return N"
   ]
  },
  {
   "cell_type": "code",
   "execution_count": 36,
   "id": "27f20ae0",
   "metadata": {},
   "outputs": [],
   "source": [
    "class Trainer:\n",
    "    def __init__(self, model, loss_fn, optimizer, \n",
    "                 learning_rate = 1e-3, epochs = 10, n_report = 1):\n",
    "        \n",
    "        # Match parameters with self of class\n",
    "        self.model = model\n",
    "        self.loss_fn = loss_fn\n",
    "        self.optimizer = optimizer\n",
    "        self.learning_rate = learning_rate\n",
    "        self.epochs = epochs\n",
    "        self.n_report = n_report\n",
    "        self.training_loader = None\n",
    "        \n",
    "    def train_one_epoch(self, epoch_index):\n",
    "        '''\n",
    "            Train one epoch\n",
    "                \n",
    "            Inputs:\n",
    "            epoch_index -- index of each epoch\n",
    "            n_report -- every few iterations report at screen\n",
    "        '''\n",
    "        one_epoch_loss = 0\n",
    "        \n",
    "        inputs = inputs.to(device)\n",
    "            \n",
    "        self.optimizer.zero_grad()\n",
    "            \n",
    "        outputs = self.model(inputs)\n",
    "            \n",
    "        loss = self.loss_fn(inputs)\n",
    "        one_epoch_loss = loss\n",
    "        loss.backward()\n",
    "            \n",
    "        self.optimizer.step()\n",
    "            \n",
    "        if epoch_index % self.n_report == 0:\n",
    "                print(f\"Loss after {epoch_index + 1} epochs: {one_epoch_loss}\")\n",
    "            \n",
    "            \n",
    "        \n",
    "    def train_loop(self):\n",
    "            \n",
    "        timestamp = datetime.now().strftime(\"%Y%m%d_%H%M%S\")\n",
    "        epoch_number = 0\n",
    "            \n",
    "        for epoch in range(self.epochs):\n",
    "            self.model.train(True)\n",
    "            self.train_one_epoch(epoch_number)\n",
    "            self.model.train(False)\n",
    "            epoch_number += 1\n",
    "        \n",
    "        \n",
    "        \n",
    "    def fit(self, train_data, epochs = None):\n",
    "            \n",
    "        self.training_loader = train_data\n",
    "        self.train_loop()"
   ]
  },
  {
   "cell_type": "code",
   "execution_count": 37,
   "id": "c5590b6c",
   "metadata": {
    "scrolled": true
   },
   "outputs": [
    {
     "data": {
      "text/plain": [
       "torch.Size([1, 10])"
      ]
     },
     "execution_count": 37,
     "metadata": {},
     "output_type": "execute_result"
    }
   ],
   "source": [
    "trainset = torch.linspace(0,5,10)\n",
    "trainset = trainset.reshape((1,trainset.size()[0]))\n",
    "trainset.size()"
   ]
  },
  {
   "cell_type": "code",
   "execution_count": 38,
   "id": "9cb60a42",
   "metadata": {},
   "outputs": [],
   "source": [
    "A = 0\n",
    "B = 1\n",
    "Psi_t = lambda x: A + B*x + (x**2) * model.forward(x)\n",
    "f = lambda x, Psi, Psi_x: -(1/5)*torch.exp(-x/5)*torch.cos(x) - Psi - (1/5)*Psi_x"
   ]
  },
  {
   "cell_type": "code",
   "execution_count": 39,
   "id": "7dc5b5cb",
   "metadata": {},
   "outputs": [],
   "source": [
    "def loss_fn(x):\n",
    "    x.requires_grad = True\n",
    "    outputs = Psi_t(x)\n",
    "    Psi_t_x = torch.autograd.grad(outputs, x, grad_outputs=torch.ones_like(outputs), create_graph=True)[0]\n",
    "    Psi_t_x_x = torch.autograd.grad(Psi_t_x, x, grad_outputs=torch.ones_like(Psi_t_x), create_graph=True)[0]\n",
    "    return torch.mean((Psi_t_x_x- f(x, outputs, Psi_t_x))**2)"
   ]
  },
  {
   "cell_type": "code",
   "execution_count": 40,
   "id": "782a0cd3",
   "metadata": {},
   "outputs": [],
   "source": [
    "model = NeuralNetwork().to(device)\n",
    "optimizer = torch.optim.LBFGS(model.parameters(), lr=0.001)\n",
    "trainer = Trainer(model=model, loss_fn=loss_fn, optimizer=optimizer, \n",
    "                  epochs=50)"
   ]
  },
  {
   "cell_type": "code",
   "execution_count": 41,
   "id": "f1c98d47",
   "metadata": {},
   "outputs": [
    {
     "ename": "UnboundLocalError",
     "evalue": "local variable 'inputs' referenced before assignment",
     "output_type": "error",
     "traceback": [
      "\u001b[0;31m---------------------------------------------------------------------------\u001b[0m",
      "\u001b[0;31mUnboundLocalError\u001b[0m                         Traceback (most recent call last)",
      "Input \u001b[0;32mIn [41]\u001b[0m, in \u001b[0;36m<cell line: 1>\u001b[0;34m()\u001b[0m\n\u001b[0;32m----> 1\u001b[0m \u001b[43mtrainer\u001b[49m\u001b[38;5;241;43m.\u001b[39;49m\u001b[43mfit\u001b[49m\u001b[43m(\u001b[49m\u001b[43mtrainset\u001b[49m\u001b[43m)\u001b[49m\n",
      "Input \u001b[0;32mIn [36]\u001b[0m, in \u001b[0;36mTrainer.fit\u001b[0;34m(self, train_data, epochs)\u001b[0m\n\u001b[1;32m     54\u001b[0m \u001b[38;5;28;01mdef\u001b[39;00m \u001b[38;5;21mfit\u001b[39m(\u001b[38;5;28mself\u001b[39m, train_data, epochs \u001b[38;5;241m=\u001b[39m \u001b[38;5;28;01mNone\u001b[39;00m):\n\u001b[1;32m     56\u001b[0m     \u001b[38;5;28mself\u001b[39m\u001b[38;5;241m.\u001b[39mtraining_loader \u001b[38;5;241m=\u001b[39m train_data\n\u001b[0;32m---> 57\u001b[0m     \u001b[38;5;28;43mself\u001b[39;49m\u001b[38;5;241;43m.\u001b[39;49m\u001b[43mtrain_loop\u001b[49m\u001b[43m(\u001b[49m\u001b[43m)\u001b[49m\n",
      "Input \u001b[0;32mIn [36]\u001b[0m, in \u001b[0;36mTrainer.train_loop\u001b[0;34m(self)\u001b[0m\n\u001b[1;32m     46\u001b[0m \u001b[38;5;28;01mfor\u001b[39;00m epoch \u001b[38;5;129;01min\u001b[39;00m \u001b[38;5;28mrange\u001b[39m(\u001b[38;5;28mself\u001b[39m\u001b[38;5;241m.\u001b[39mepochs):\n\u001b[1;32m     47\u001b[0m     \u001b[38;5;28mself\u001b[39m\u001b[38;5;241m.\u001b[39mmodel\u001b[38;5;241m.\u001b[39mtrain(\u001b[38;5;28;01mTrue\u001b[39;00m)\n\u001b[0;32m---> 48\u001b[0m     \u001b[38;5;28;43mself\u001b[39;49m\u001b[38;5;241;43m.\u001b[39;49m\u001b[43mtrain_one_epoch\u001b[49m\u001b[43m(\u001b[49m\u001b[43mepoch_number\u001b[49m\u001b[43m)\u001b[49m\n\u001b[1;32m     49\u001b[0m     \u001b[38;5;28mself\u001b[39m\u001b[38;5;241m.\u001b[39mmodel\u001b[38;5;241m.\u001b[39mtrain(\u001b[38;5;28;01mFalse\u001b[39;00m)\n\u001b[1;32m     50\u001b[0m     epoch_number \u001b[38;5;241m+\u001b[39m\u001b[38;5;241m=\u001b[39m \u001b[38;5;241m1\u001b[39m\n",
      "Input \u001b[0;32mIn [36]\u001b[0m, in \u001b[0;36mTrainer.train_one_epoch\u001b[0;34m(self, epoch_index)\u001b[0m\n\u001b[1;32m     15\u001b[0m \u001b[38;5;124;03m'''\u001b[39;00m\n\u001b[1;32m     16\u001b[0m \u001b[38;5;124;03m    Train one epoch\u001b[39;00m\n\u001b[1;32m     17\u001b[0m \u001b[38;5;124;03m        \u001b[39;00m\n\u001b[0;32m   (...)\u001b[0m\n\u001b[1;32m     20\u001b[0m \u001b[38;5;124;03m    n_report -- every few iterations report at screen\u001b[39;00m\n\u001b[1;32m     21\u001b[0m \u001b[38;5;124;03m'''\u001b[39;00m\n\u001b[1;32m     22\u001b[0m one_epoch_loss \u001b[38;5;241m=\u001b[39m \u001b[38;5;241m0\u001b[39m\n\u001b[0;32m---> 24\u001b[0m inputs \u001b[38;5;241m=\u001b[39m \u001b[43minputs\u001b[49m\u001b[38;5;241m.\u001b[39mto(device)\n\u001b[1;32m     26\u001b[0m \u001b[38;5;28mself\u001b[39m\u001b[38;5;241m.\u001b[39moptimizer\u001b[38;5;241m.\u001b[39mzero_grad()\n\u001b[1;32m     28\u001b[0m outputs \u001b[38;5;241m=\u001b[39m \u001b[38;5;28mself\u001b[39m\u001b[38;5;241m.\u001b[39mmodel(inputs)\n",
      "\u001b[0;31mUnboundLocalError\u001b[0m: local variable 'inputs' referenced before assignment"
     ]
    }
   ],
   "source": [
    "trainer.fit(trainset)"
   ]
  },
  {
   "cell_type": "code",
   "execution_count": null,
   "id": "60c22e39",
   "metadata": {},
   "outputs": [],
   "source": []
  },
  {
   "cell_type": "code",
   "execution_count": null,
   "id": "b32300bf",
   "metadata": {},
   "outputs": [],
   "source": []
  },
  {
   "cell_type": "code",
   "execution_count": null,
   "id": "0db85d36",
   "metadata": {},
   "outputs": [],
   "source": []
  }
 ],
 "metadata": {
  "kernelspec": {
   "display_name": "Python 3 (ipykernel)",
   "language": "python",
   "name": "python3"
  },
  "language_info": {
   "codemirror_mode": {
    "name": "ipython",
    "version": 3
   },
   "file_extension": ".py",
   "mimetype": "text/x-python",
   "name": "python",
   "nbconvert_exporter": "python",
   "pygments_lexer": "ipython3",
   "version": "3.9.11"
  }
 },
 "nbformat": 4,
 "nbformat_minor": 5
}
